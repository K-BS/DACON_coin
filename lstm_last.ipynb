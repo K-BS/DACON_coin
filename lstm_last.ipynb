{
 "cells": [
  {
   "cell_type": "code",
   "execution_count": 1,
   "id": "505fea45",
   "metadata": {},
   "outputs": [],
   "source": [
    "import numpy as np\n",
    "import pandas as pd\n",
    "import math\n",
    "import os\n",
    "import matplotlib.pyplot as plt\n",
    "\n",
    "\n",
    "import tensorflow as tf\n",
    "from tensorflow import keras\n",
    "from tensorflow.keras.models import Sequential\n",
    "from tensorflow.keras.layers import Dense, LSTM, Reshape, GRU\n",
    "\n",
    "os.environ['CUDA_VISIBLE_DEVICES']=\"2\""
   ]
  },
  {
   "cell_type": "code",
   "execution_count": 2,
   "id": "769cc664",
   "metadata": {},
   "outputs": [],
   "source": [
    "train_x_df=pd.read_csv('train_x_df.csv')\n",
    "train_y_df=pd.read_csv('train_y_df.csv')\n",
    "test_x_df=pd.read_csv('test_x_df.csv')\n",
    "sample_submission=pd.read_csv('sample_submission.csv')"
   ]
  },
  {
   "cell_type": "code",
   "execution_count": 3,
   "id": "fc9bf73c",
   "metadata": {},
   "outputs": [
    {
     "name": "stdout",
     "output_type": "stream",
     "text": [
      "7929.0 7929.0\n"
     ]
    }
   ],
   "source": [
    "print(len(train_x_df)/1380, len(train_y_df)/120)"
   ]
  },
  {
   "cell_type": "code",
   "execution_count": 4,
   "id": "d1324b69",
   "metadata": {},
   "outputs": [
    {
     "name": "stdout",
     "output_type": "stream",
     "text": [
      "7929\n",
      "7929\n"
     ]
    }
   ],
   "source": [
    "print(train_x_df.sample_id.nunique())\n",
    "print(train_y_df.sample_id.nunique())"
   ]
  },
  {
   "cell_type": "code",
   "execution_count": 5,
   "id": "10805715",
   "metadata": {},
   "outputs": [
    {
     "data": {
      "text/html": [
       "<div>\n",
       "<style scoped>\n",
       "    .dataframe tbody tr th:only-of-type {\n",
       "        vertical-align: middle;\n",
       "    }\n",
       "\n",
       "    .dataframe tbody tr th {\n",
       "        vertical-align: top;\n",
       "    }\n",
       "\n",
       "    .dataframe thead th {\n",
       "        text-align: right;\n",
       "    }\n",
       "</style>\n",
       "<table border=\"1\" class=\"dataframe\">\n",
       "  <thead>\n",
       "    <tr style=\"text-align: right;\">\n",
       "      <th></th>\n",
       "      <th>sample_id</th>\n",
       "      <th>time</th>\n",
       "      <th>coin_index</th>\n",
       "      <th>open</th>\n",
       "      <th>high</th>\n",
       "      <th>low</th>\n",
       "      <th>close</th>\n",
       "      <th>volume</th>\n",
       "      <th>quote_av</th>\n",
       "      <th>trades</th>\n",
       "      <th>tb_base_av</th>\n",
       "      <th>tb_quote_av</th>\n",
       "    </tr>\n",
       "  </thead>\n",
       "  <tbody>\n",
       "    <tr>\n",
       "      <th>0</th>\n",
       "      <td>0</td>\n",
       "      <td>0</td>\n",
       "      <td>0</td>\n",
       "      <td>0.993147</td>\n",
       "      <td>0.993546</td>\n",
       "      <td>0.992857</td>\n",
       "      <td>0.992966</td>\n",
       "      <td>1379.478027</td>\n",
       "      <td>3778.584961</td>\n",
       "      <td>11.240029</td>\n",
       "      <td>329.655548</td>\n",
       "      <td>903.091614</td>\n",
       "    </tr>\n",
       "    <tr>\n",
       "      <th>1</th>\n",
       "      <td>0</td>\n",
       "      <td>1</td>\n",
       "      <td>0</td>\n",
       "      <td>0.993256</td>\n",
       "      <td>0.993546</td>\n",
       "      <td>0.992712</td>\n",
       "      <td>0.992712</td>\n",
       "      <td>3438.807373</td>\n",
       "      <td>9419.426758</td>\n",
       "      <td>11.602611</td>\n",
       "      <td>1363.999268</td>\n",
       "      <td>3737.512695</td>\n",
       "    </tr>\n",
       "  </tbody>\n",
       "</table>\n",
       "</div>"
      ],
      "text/plain": [
       "   sample_id  time  coin_index      open      high       low     close  \\\n",
       "0          0     0           0  0.993147  0.993546  0.992857  0.992966   \n",
       "1          0     1           0  0.993256  0.993546  0.992712  0.992712   \n",
       "\n",
       "        volume     quote_av     trades   tb_base_av  tb_quote_av  \n",
       "0  1379.478027  3778.584961  11.240029   329.655548   903.091614  \n",
       "1  3438.807373  9419.426758  11.602611  1363.999268  3737.512695  "
      ]
     },
     "execution_count": 5,
     "metadata": {},
     "output_type": "execute_result"
    }
   ],
   "source": [
    "train_x_df.head(2)"
   ]
  },
  {
   "cell_type": "code",
   "execution_count": 6,
   "id": "8ed3d1f6",
   "metadata": {},
   "outputs": [
    {
     "data": {
      "text/html": [
       "<div>\n",
       "<style scoped>\n",
       "    .dataframe tbody tr th:only-of-type {\n",
       "        vertical-align: middle;\n",
       "    }\n",
       "\n",
       "    .dataframe tbody tr th {\n",
       "        vertical-align: top;\n",
       "    }\n",
       "\n",
       "    .dataframe thead th {\n",
       "        text-align: right;\n",
       "    }\n",
       "</style>\n",
       "<table border=\"1\" class=\"dataframe\">\n",
       "  <thead>\n",
       "    <tr style=\"text-align: right;\">\n",
       "      <th></th>\n",
       "      <th>sample_id</th>\n",
       "      <th>time</th>\n",
       "      <th>coin_index</th>\n",
       "      <th>open</th>\n",
       "      <th>high</th>\n",
       "      <th>low</th>\n",
       "      <th>close</th>\n",
       "      <th>volume</th>\n",
       "      <th>quote_av</th>\n",
       "      <th>trades</th>\n",
       "      <th>tb_base_av</th>\n",
       "      <th>tb_quote_av</th>\n",
       "    </tr>\n",
       "  </thead>\n",
       "  <tbody>\n",
       "    <tr>\n",
       "      <th>0</th>\n",
       "      <td>0</td>\n",
       "      <td>0</td>\n",
       "      <td>0</td>\n",
       "      <td>1.000326</td>\n",
       "      <td>1.002683</td>\n",
       "      <td>0.999420</td>\n",
       "      <td>1.00116</td>\n",
       "      <td>6848.100586</td>\n",
       "      <td>18914.638672</td>\n",
       "      <td>56.925312</td>\n",
       "      <td>2409.717285</td>\n",
       "      <td>6656.051270</td>\n",
       "    </tr>\n",
       "    <tr>\n",
       "      <th>1</th>\n",
       "      <td>0</td>\n",
       "      <td>1</td>\n",
       "      <td>0</td>\n",
       "      <td>1.001342</td>\n",
       "      <td>1.001450</td>\n",
       "      <td>0.999347</td>\n",
       "      <td>1.00000</td>\n",
       "      <td>5056.033691</td>\n",
       "      <td>13946.318359</td>\n",
       "      <td>42.059464</td>\n",
       "      <td>2371.283691</td>\n",
       "      <td>6540.831543</td>\n",
       "    </tr>\n",
       "  </tbody>\n",
       "</table>\n",
       "</div>"
      ],
      "text/plain": [
       "   sample_id  time  coin_index      open      high       low    close  \\\n",
       "0          0     0           0  1.000326  1.002683  0.999420  1.00116   \n",
       "1          0     1           0  1.001342  1.001450  0.999347  1.00000   \n",
       "\n",
       "        volume      quote_av     trades   tb_base_av  tb_quote_av  \n",
       "0  6848.100586  18914.638672  56.925312  2409.717285  6656.051270  \n",
       "1  5056.033691  13946.318359  42.059464  2371.283691  6540.831543  "
      ]
     },
     "execution_count": 6,
     "metadata": {},
     "output_type": "execute_result"
    }
   ],
   "source": [
    "train_y_df.head(2)"
   ]
  },
  {
   "cell_type": "code",
   "execution_count": 7,
   "id": "5a55a663",
   "metadata": {},
   "outputs": [
    {
     "data": {
      "text/plain": [
       "760.0"
      ]
     },
     "execution_count": 7,
     "metadata": {},
     "output_type": "execute_result"
    }
   ],
   "source": [
    "len(test_x_df)/1380"
   ]
  },
  {
   "cell_type": "markdown",
   "id": "aac3e5b6",
   "metadata": {},
   "source": [
    "iloc를 사용해 필요없는 index없앰"
   ]
  },
  {
   "cell_type": "code",
   "execution_count": 8,
   "id": "b9e63933",
   "metadata": {},
   "outputs": [
    {
     "data": {
      "text/plain": [
       "array([[9.93147254e-01, 9.93546128e-01, 9.92857218e-01, ...,\n",
       "        1.12400293e+01, 3.29655548e+02, 9.03091614e+02],\n",
       "       [9.93255973e-01, 9.93546128e-01, 9.92712140e-01, ...,\n",
       "        1.16026106e+01, 1.36399927e+03, 3.73751270e+03],\n",
       "       [9.92748380e-01, 9.94815111e-01, 9.92458344e-01, ...,\n",
       "        1.95794067e+01, 1.22280286e+03, 3.35068872e+03],\n",
       "       ...,\n",
       "       [9.99707699e-01, 1.00000000e+00, 9.99488533e-01, ...,\n",
       "        6.20981872e-01, 7.88707495e-01, 1.07937714e+02],\n",
       "       [9.99707699e-01, 1.00014603e+00, 9.99488533e-01, ...,\n",
       "        7.52483904e-01, 8.69763434e-01, 1.19042564e+02],\n",
       "       [1.00000000e+00, 1.00029218e+00, 9.99853849e-01, ...,\n",
       "        3.94506127e-01, 5.62873721e-01, 7.70531311e+01]])"
      ]
     },
     "execution_count": 8,
     "metadata": {},
     "output_type": "execute_result"
    }
   ],
   "source": [
    "train_x_df.iloc[:,3:].values"
   ]
  },
  {
   "cell_type": "markdown",
   "id": "99cf3eec",
   "metadata": {},
   "source": [
    "1380분 후 120분을 예측하는 모델을 만들기 위한 reshape"
   ]
  },
  {
   "cell_type": "code",
   "execution_count": 9,
   "id": "bdf688f7",
   "metadata": {},
   "outputs": [],
   "source": [
    "train_x = tf.reshape(train_x_df.iloc[:,3].values, [-1, 1380, 1])\n",
    "train_y = tf.reshape(train_y_df.iloc[:,3].values, [-1, 120, 1])\n",
    "test_x = tf.reshape(test_x_df.iloc[:,3].values, [-1, 1380, 1])"
   ]
  },
  {
   "cell_type": "code",
   "execution_count": 10,
   "id": "c110d8d0",
   "metadata": {},
   "outputs": [
    {
     "data": {
      "text/plain": [
       "<tf.Tensor: shape=(7929,), dtype=float64, numpy=array([1., 1., 1., ..., 1., 1., 1.])>"
      ]
     },
     "execution_count": 10,
     "metadata": {},
     "output_type": "execute_result"
    }
   ],
   "source": [
    "train_x[:, 1379, 0]"
   ]
  },
  {
   "cell_type": "code",
   "execution_count": 11,
   "id": "eabcae40",
   "metadata": {},
   "outputs": [
    {
     "data": {
      "text/plain": [
       "<tf.Tensor: shape=(760,), dtype=float64, numpy=\n",
       "array([1., 1., 1., 1., 1., 1., 1., 1., 1., 1., 1., 1., 1., 1., 1., 1., 1.,\n",
       "       1., 1., 1., 1., 1., 1., 1., 1., 1., 1., 1., 1., 1., 1., 1., 1., 1.,\n",
       "       1., 1., 1., 1., 1., 1., 1., 1., 1., 1., 1., 1., 1., 1., 1., 1., 1.,\n",
       "       1., 1., 1., 1., 1., 1., 1., 1., 1., 1., 1., 1., 1., 1., 1., 1., 1.,\n",
       "       1., 1., 1., 1., 1., 1., 1., 1., 1., 1., 1., 1., 1., 1., 1., 1., 1.,\n",
       "       1., 1., 1., 1., 1., 1., 1., 1., 1., 1., 1., 1., 1., 1., 1., 1., 1.,\n",
       "       1., 1., 1., 1., 1., 1., 1., 1., 1., 1., 1., 1., 1., 1., 1., 1., 1.,\n",
       "       1., 1., 1., 1., 1., 1., 1., 1., 1., 1., 1., 1., 1., 1., 1., 1., 1.,\n",
       "       1., 1., 1., 1., 1., 1., 1., 1., 1., 1., 1., 1., 1., 1., 1., 1., 1.,\n",
       "       1., 1., 1., 1., 1., 1., 1., 1., 1., 1., 1., 1., 1., 1., 1., 1., 1.,\n",
       "       1., 1., 1., 1., 1., 1., 1., 1., 1., 1., 1., 1., 1., 1., 1., 1., 1.,\n",
       "       1., 1., 1., 1., 1., 1., 1., 1., 1., 1., 1., 1., 1., 1., 1., 1., 1.,\n",
       "       1., 1., 1., 1., 1., 1., 1., 1., 1., 1., 1., 1., 1., 1., 1., 1., 1.,\n",
       "       1., 1., 1., 1., 1., 1., 1., 1., 1., 1., 1., 1., 1., 1., 1., 1., 1.,\n",
       "       1., 1., 1., 1., 1., 1., 1., 1., 1., 1., 1., 1., 1., 1., 1., 1., 1.,\n",
       "       1., 1., 1., 1., 1., 1., 1., 1., 1., 1., 1., 1., 1., 1., 1., 1., 1.,\n",
       "       1., 1., 1., 1., 1., 1., 1., 1., 1., 1., 1., 1., 1., 1., 1., 1., 1.,\n",
       "       1., 1., 1., 1., 1., 1., 1., 1., 1., 1., 1., 1., 1., 1., 1., 1., 1.,\n",
       "       1., 1., 1., 1., 1., 1., 1., 1., 1., 1., 1., 1., 1., 1., 1., 1., 1.,\n",
       "       1., 1., 1., 1., 1., 1., 1., 1., 1., 1., 1., 1., 1., 1., 1., 1., 1.,\n",
       "       1., 1., 1., 1., 1., 1., 1., 1., 1., 1., 1., 1., 1., 1., 1., 1., 1.,\n",
       "       1., 1., 1., 1., 1., 1., 1., 1., 1., 1., 1., 1., 1., 1., 1., 1., 1.,\n",
       "       1., 1., 1., 1., 1., 1., 1., 1., 1., 1., 1., 1., 1., 1., 1., 1., 1.,\n",
       "       1., 1., 1., 1., 1., 1., 1., 1., 1., 1., 1., 1., 1., 1., 1., 1., 1.,\n",
       "       1., 1., 1., 1., 1., 1., 1., 1., 1., 1., 1., 1., 1., 1., 1., 1., 1.,\n",
       "       1., 1., 1., 1., 1., 1., 1., 1., 1., 1., 1., 1., 1., 1., 1., 1., 1.,\n",
       "       1., 1., 1., 1., 1., 1., 1., 1., 1., 1., 1., 1., 1., 1., 1., 1., 1.,\n",
       "       1., 1., 1., 1., 1., 1., 1., 1., 1., 1., 1., 1., 1., 1., 1., 1., 1.,\n",
       "       1., 1., 1., 1., 1., 1., 1., 1., 1., 1., 1., 1., 1., 1., 1., 1., 1.,\n",
       "       1., 1., 1., 1., 1., 1., 1., 1., 1., 1., 1., 1., 1., 1., 1., 1., 1.,\n",
       "       1., 1., 1., 1., 1., 1., 1., 1., 1., 1., 1., 1., 1., 1., 1., 1., 1.,\n",
       "       1., 1., 1., 1., 1., 1., 1., 1., 1., 1., 1., 1., 1., 1., 1., 1., 1.,\n",
       "       1., 1., 1., 1., 1., 1., 1., 1., 1., 1., 1., 1., 1., 1., 1., 1., 1.,\n",
       "       1., 1., 1., 1., 1., 1., 1., 1., 1., 1., 1., 1., 1., 1., 1., 1., 1.,\n",
       "       1., 1., 1., 1., 1., 1., 1., 1., 1., 1., 1., 1., 1., 1., 1., 1., 1.,\n",
       "       1., 1., 1., 1., 1., 1., 1., 1., 1., 1., 1., 1., 1., 1., 1., 1., 1.,\n",
       "       1., 1., 1., 1., 1., 1., 1., 1., 1., 1., 1., 1., 1., 1., 1., 1., 1.,\n",
       "       1., 1., 1., 1., 1., 1., 1., 1., 1., 1., 1., 1., 1., 1., 1., 1., 1.,\n",
       "       1., 1., 1., 1., 1., 1., 1., 1., 1., 1., 1., 1., 1., 1., 1., 1., 1.,\n",
       "       1., 1., 1., 1., 1., 1., 1., 1., 1., 1., 1., 1., 1., 1., 1., 1., 1.,\n",
       "       1., 1., 1., 1., 1., 1., 1., 1., 1., 1., 1., 1., 1., 1., 1., 1., 1.,\n",
       "       1., 1., 1., 1., 1., 1., 1., 1., 1., 1., 1., 1., 1., 1., 1., 1., 1.,\n",
       "       1., 1., 1., 1., 1., 1., 1., 1., 1., 1., 1., 1., 1., 1., 1., 1., 1.,\n",
       "       1., 1., 1., 1., 1., 1., 1., 1., 1., 1., 1., 1., 1., 1., 1., 1., 1.,\n",
       "       1., 1., 1., 1., 1., 1., 1., 1., 1., 1., 1., 1.])>"
      ]
     },
     "execution_count": 11,
     "metadata": {},
     "output_type": "execute_result"
    }
   ],
   "source": [
    "test_x[:, 1379, 0]"
   ]
  },
  {
   "cell_type": "markdown",
   "id": "de9d0e3a",
   "metadata": {},
   "source": [
    "shape 확인, 학습을 위한 7929개의 샘플, test를 위한 760개의 샘플"
   ]
  },
  {
   "cell_type": "code",
   "execution_count": 12,
   "id": "cf579ecc",
   "metadata": {},
   "outputs": [
    {
     "name": "stdout",
     "output_type": "stream",
     "text": [
      "(7929, 1380, 1) (7929, 120, 1) (760, 1380, 1)\n"
     ]
    }
   ],
   "source": [
    "print(train_x.shape, train_y.shape, test_x.shape)"
   ]
  },
  {
   "cell_type": "markdown",
   "id": "3ab7ddf0",
   "metadata": {},
   "source": [
    "np.arrange로 1380~1500반환\n",
    "\n",
    "train_x.shape[1]이 1380, train_y.shape[1]이 120,\n",
    "\n",
    "train_x[row,:,0]은 1380, train_y[row, :, 0]은 120"
   ]
  },
  {
   "cell_type": "code",
   "execution_count": 68,
   "id": "95ff9242",
   "metadata": {},
   "outputs": [
    {
     "data": {
      "text/plain": [
       "<tf.Tensor: shape=(1380,), dtype=float64, numpy=\n",
       "array([1.04582441, 1.04666603, 1.04685307, ..., 0.99869072, 1.00037408,\n",
       "       1.        ])>"
      ]
     },
     "execution_count": 68,
     "metadata": {},
     "output_type": "execute_result"
    }
   ],
   "source": [
    "train_x[row,:,0]"
   ]
  },
  {
   "cell_type": "code",
   "execution_count": 69,
   "id": "055943ec",
   "metadata": {
    "scrolled": true
   },
   "outputs": [
    {
     "data": {
      "image/png": "[encoded data removed]",
      "text/plain": [
       "<Figure size 1080x360 with 1 Axes>"
      ]
     },
     "metadata": {
      "needs_background": "light"
     },
     "output_type": "display_data"
    }
   ],
   "source": [
    "row=1\n",
    "plt.figure(figsize=(15,5))\n",
    "\n",
    "\n",
    "plt.plot(train_x[row,:,0], label='train_x open')\n",
    "plt.plot(np.arange(train_x.shape[1],train_x.shape[1]+ train_y.shape[1]), train_y[row, :, 0], label='train_y open')\n",
    "plt.legend()\n",
    "plt.title('open graph')\n",
    "plt.show()"
   ]
  },
  {
   "cell_type": "code",
   "execution_count": 15,
   "id": "f9a42868",
   "metadata": {},
   "outputs": [
    {
     "data": {
      "text/plain": [
       "TensorShape([7929, 1380, 1])"
      ]
     },
     "execution_count": 15,
     "metadata": {},
     "output_type": "execute_result"
    }
   ],
   "source": [
    "train_x.shape"
   ]
  },
  {
   "cell_type": "code",
   "execution_count": 51,
   "id": "eb4a0ace",
   "metadata": {
    "scrolled": true
   },
   "outputs": [
    {
     "data": {
      "text/plain": [
       "TensorShape([7929, 120, 1])"
      ]
     },
     "execution_count": 51,
     "metadata": {},
     "output_type": "execute_result"
    }
   ],
   "source": [
    "train_y.shape"
   ]
  },
  {
   "cell_type": "code",
   "execution_count": 17,
   "id": "0322cfad",
   "metadata": {},
   "outputs": [
    {
     "name": "stdout",
     "output_type": "stream",
     "text": [
      "(7929, 5, 170, 1) (7929, 5, 60, 1)\n"
     ]
    }
   ],
   "source": [
    "input_window=170\n",
    "output_window=60\n",
    "num_features=1\n",
    "window=input_window + output_window\n",
    "\n",
    "train_window_x= np.zeros(( train_x.shape[0], (train_x.shape[1]-(input_window + output_window))//230, input_window, num_features))\n",
    "train_window_y= np.zeros(( train_x.shape[0], (train_x.shape[1]-(input_window + output_window))//230, output_window, num_features))\n",
    "print(train_window_x.shape, train_window_y.shape)\n",
    "\n",
    "for example in range(train_x.shape[0]):\n",
    "    \n",
    "    for start in range(0,  train_x.shape[1]-(input_window + output_window), 230):\n",
    "        end=start+input_window\n",
    "        train_window_x[example, start//230, :, :] = train_x[example, start: end               , :]\n",
    "        train_window_y[example, start//230, :, :] = train_x[example, end  : end+ output_window, :]"
   ]
  },
  {
   "cell_type": "code",
   "execution_count": 18,
   "id": "b3153b5f",
   "metadata": {},
   "outputs": [],
   "source": [
    "\n",
    "new_train_x=tf.reshape(train_window_x, [-1, 170, 1])\n",
    "new_train_y=tf.reshape(train_window_y, [-1, 60, 1])"
   ]
  },
  {
   "cell_type": "code",
   "execution_count": 36,
   "id": "9079c7a5",
   "metadata": {},
   "outputs": [
    {
     "name": "stdout",
     "output_type": "stream",
     "text": [
      "\n",
      "."
     ]
    }
   ],
   "source": [
    "time        = new_train_x.shape[1] #170\n",
    "num_features= new_train_x.shape[2] #1\n",
    "OUT_STEPS   = new_train_y.shape[1] #60\n",
    "\n",
    "#####층 쌓기###########\n",
    "\n",
    "\n",
    "model=Sequential([\n",
    "LSTM(32, input_shape=(time, num_features), dropout=0.2, recurrent_dropout=0.2),\n",
    "Dense(OUT_STEPS * num_features), \n",
    "Reshape([OUT_STEPS, num_features])\n",
    "])\n",
    "\n",
    "\n",
    "\n",
    "#######Compile 구성하기################\n",
    "\n",
    "\n",
    "model.compile(optimizer='rmsprop', loss='mae', metrics=['mae', 'accuracy'])\n",
    "# 에포크가 끝날 때마다 점(.)을 출력해 훈련 진행 과정을 표시합니다\n",
    "class PrintDot(keras.callbacks.Callback):\n",
    "    def on_epoch_end(self, epoch, logs):\n",
    "        if epoch % 100 == 0: print('')\n",
    "        print('.', end='')\n",
    "\n",
    "#가장 좋은 성능을 낸 val_loss가 적은 model만 남겨 놓았습니다.\n",
    "save_best_only=tf.keras.callbacks.ModelCheckpoint(filepath=\"lstm_model.h5\", monitor='val_loss', save_best_only=True)\n",
    "\n",
    "\n",
    "early_stop = tf.keras.callbacks.EarlyStopping(monitor='val_loss', patience=20)\n",
    "\n",
    "#검증 손실이 10epoch 동안 좋아지지 않으면 학습률을 0.1 배로 재구성하는 명령어입니다.\n",
    "reduceLR = tf.keras.callbacks.ReduceLROnPlateau(monitor='val_loss', factor=0.1, patience=10)\n",
    "\n",
    "\n",
    "######################\n",
    "history = model.fit(new_train_x, new_train_y, epochs=1, batch_size=128, validation_split = 0.2, verbose=0, callbacks=[PrintDot(), early_stop, save_best_only , reduceLR])"
   ]
  },
  {
   "cell_type": "code",
   "execution_count": 37,
   "id": "1022b3db",
   "metadata": {},
   "outputs": [
    {
     "data": {
      "text/html": [
       "<div>\n",
       "<style scoped>\n",
       "    .dataframe tbody tr th:only-of-type {\n",
       "        vertical-align: middle;\n",
       "    }\n",
       "\n",
       "    .dataframe tbody tr th {\n",
       "        vertical-align: top;\n",
       "    }\n",
       "\n",
       "    .dataframe thead th {\n",
       "        text-align: right;\n",
       "    }\n",
       "</style>\n",
       "<table border=\"1\" class=\"dataframe\">\n",
       "  <thead>\n",
       "    <tr style=\"text-align: right;\">\n",
       "      <th></th>\n",
       "      <th>loss</th>\n",
       "      <th>mae</th>\n",
       "      <th>accuracy</th>\n",
       "      <th>val_loss</th>\n",
       "      <th>val_mae</th>\n",
       "      <th>val_accuracy</th>\n",
       "      <th>lr</th>\n",
       "    </tr>\n",
       "  </thead>\n",
       "  <tbody>\n",
       "    <tr>\n",
       "      <th>0</th>\n",
       "      <td>0.09792</td>\n",
       "      <td>0.09792</td>\n",
       "      <td>0.002224</td>\n",
       "      <td>0.028797</td>\n",
       "      <td>0.028797</td>\n",
       "      <td>0.002028</td>\n",
       "      <td>0.001</td>\n",
       "    </tr>\n",
       "  </tbody>\n",
       "</table>\n",
       "</div>"
      ],
      "text/plain": [
       "      loss      mae  accuracy  val_loss   val_mae  val_accuracy     lr\n",
       "0  0.09792  0.09792  0.002224  0.028797  0.028797      0.002028  0.001"
      ]
     },
     "execution_count": 37,
     "metadata": {},
     "output_type": "execute_result"
    }
   ],
   "source": [
    "pd.DataFrame(history.history)"
   ]
  },
  {
   "cell_type": "code",
   "execution_count": 21,
   "id": "f337553d",
   "metadata": {},
   "outputs": [
    {
     "name": "stdout",
     "output_type": "stream",
     "text": [
      "(39645, 170, 1) (39645, 60, 1)\n"
     ]
    }
   ],
   "source": [
    "print(new_train_x.shape, new_train_y.shape)"
   ]
  },
  {
   "cell_type": "code",
   "execution_count": 22,
   "id": "9e19dfd9",
   "metadata": {},
   "outputs": [],
   "source": [
    "test_x = tf.reshape(test_x_df.iloc[:,3].values, [-1, 1380, 1])"
   ]
  },
  {
   "cell_type": "code",
   "execution_count": 23,
   "id": "81704d07",
   "metadata": {},
   "outputs": [
    {
     "data": {
      "text/plain": [
       "TensorShape([760, 1380, 1])"
      ]
     },
     "execution_count": 23,
     "metadata": {},
     "output_type": "execute_result"
    }
   ],
   "source": [
    "auto_x=test_x\n",
    "auto_x.shape"
   ]
  },
  {
   "cell_type": "code",
   "execution_count": 26,
   "id": "fe91e372",
   "metadata": {},
   "outputs": [],
   "source": [
    "submission=np.zeros((760, 120, 9))"
   ]
  },
  {
   "cell_type": "code",
   "execution_count": 27,
   "id": "2c9141e4",
   "metadata": {},
   "outputs": [
    {
     "name": "stdout",
     "output_type": "stream",
     "text": [
      "(760, 1500, 1)\n",
      "(760, 1560, 1)\n"
     ]
    }
   ],
   "source": [
    "end_=120\n",
    "output_window = 60\n",
    "\n",
    "for i in range(end_//output_window):\n",
    "    start_ = i *output_window\n",
    "    next_ = model.predict(auto_x[:, -170:, :])\n",
    "    auto_x=tf.concat([auto_x, next_], axis=1)\n",
    "    print(auto_x.shape)\n",
    "    submission[:, start_ : start_ + output_window, :] = next_"
   ]
  },
  {
   "cell_type": "code",
   "execution_count": 28,
   "id": "ba234026",
   "metadata": {},
   "outputs": [
    {
     "data": {
      "text/plain": [
       "(760, 120, 9)"
      ]
     },
     "execution_count": 28,
     "metadata": {},
     "output_type": "execute_result"
    }
   ],
   "source": [
    "submission.shape"
   ]
  },
  {
   "cell_type": "code",
   "execution_count": 59,
   "id": "bedca414",
   "metadata": {},
   "outputs": [
    {
     "data": {
      "text/plain": [
       "array([[[1.02421665, 1.02421665, 1.02421665, ..., 1.02421665,\n",
       "         1.02421665, 1.02421665],\n",
       "        [1.02473438, 1.02473438, 1.02473438, ..., 1.02473438,\n",
       "         1.02473438, 1.02473438],\n",
       "        [1.01606822, 1.01606822, 1.01606822, ..., 1.01606822,\n",
       "         1.01606822, 1.01606822],\n",
       "        ...,\n",
       "        [1.01149237, 1.01149237, 1.01149237, ..., 1.01149237,\n",
       "         1.01149237, 1.01149237],\n",
       "        [1.01185524, 1.01185524, 1.01185524, ..., 1.01185524,\n",
       "         1.01185524, 1.01185524],\n",
       "        [1.01459992, 1.01459992, 1.01459992, ..., 1.01459992,\n",
       "         1.01459992, 1.01459992]],\n",
       "\n",
       "       [[1.0242151 , 1.0242151 , 1.0242151 , ..., 1.0242151 ,\n",
       "         1.0242151 , 1.0242151 ],\n",
       "        [1.02473378, 1.02473378, 1.02473378, ..., 1.02473378,\n",
       "         1.02473378, 1.02473378],\n",
       "        [1.01606715, 1.01606715, 1.01606715, ..., 1.01606715,\n",
       "         1.01606715, 1.01606715],\n",
       "        ...,\n",
       "        [1.01149237, 1.01149237, 1.01149237, ..., 1.01149237,\n",
       "         1.01149237, 1.01149237],\n",
       "        [1.01185524, 1.01185524, 1.01185524, ..., 1.01185524,\n",
       "         1.01185524, 1.01185524],\n",
       "        [1.01459992, 1.01459992, 1.01459992, ..., 1.01459992,\n",
       "         1.01459992, 1.01459992]],\n",
       "\n",
       "       [[1.02421606, 1.02421606, 1.02421606, ..., 1.02421606,\n",
       "         1.02421606, 1.02421606],\n",
       "        [1.02473414, 1.02473414, 1.02473414, ..., 1.02473414,\n",
       "         1.02473414, 1.02473414],\n",
       "        [1.01606798, 1.01606798, 1.01606798, ..., 1.01606798,\n",
       "         1.01606798, 1.01606798],\n",
       "        ...,\n",
       "        [1.01149237, 1.01149237, 1.01149237, ..., 1.01149237,\n",
       "         1.01149237, 1.01149237],\n",
       "        [1.01185524, 1.01185524, 1.01185524, ..., 1.01185524,\n",
       "         1.01185524, 1.01185524],\n",
       "        [1.01459992, 1.01459992, 1.01459992, ..., 1.01459992,\n",
       "         1.01459992, 1.01459992]],\n",
       "\n",
       "       ...,\n",
       "\n",
       "       [[1.02421653, 1.02421653, 1.02421653, ..., 1.02421653,\n",
       "         1.02421653, 1.02421653],\n",
       "        [1.02473426, 1.02473426, 1.02473426, ..., 1.02473426,\n",
       "         1.02473426, 1.02473426],\n",
       "        [1.01606822, 1.01606822, 1.01606822, ..., 1.01606822,\n",
       "         1.01606822, 1.01606822],\n",
       "        ...,\n",
       "        [1.01149237, 1.01149237, 1.01149237, ..., 1.01149237,\n",
       "         1.01149237, 1.01149237],\n",
       "        [1.01185524, 1.01185524, 1.01185524, ..., 1.01185524,\n",
       "         1.01185524, 1.01185524],\n",
       "        [1.0145998 , 1.0145998 , 1.0145998 , ..., 1.0145998 ,\n",
       "         1.0145998 , 1.0145998 ]],\n",
       "\n",
       "       [[1.02421606, 1.02421606, 1.02421606, ..., 1.02421606,\n",
       "         1.02421606, 1.02421606],\n",
       "        [1.02473414, 1.02473414, 1.02473414, ..., 1.02473414,\n",
       "         1.02473414, 1.02473414],\n",
       "        [1.01606786, 1.01606786, 1.01606786, ..., 1.01606786,\n",
       "         1.01606786, 1.01606786],\n",
       "        ...,\n",
       "        [1.01149237, 1.01149237, 1.01149237, ..., 1.01149237,\n",
       "         1.01149237, 1.01149237],\n",
       "        [1.01185524, 1.01185524, 1.01185524, ..., 1.01185524,\n",
       "         1.01185524, 1.01185524],\n",
       "        [1.0145998 , 1.0145998 , 1.0145998 , ..., 1.0145998 ,\n",
       "         1.0145998 , 1.0145998 ]],\n",
       "\n",
       "       [[1.02421725, 1.02421725, 1.02421725, ..., 1.02421725,\n",
       "         1.02421725, 1.02421725],\n",
       "        [1.02473462, 1.02473462, 1.02473462, ..., 1.02473462,\n",
       "         1.02473462, 1.02473462],\n",
       "        [1.0160687 , 1.0160687 , 1.0160687 , ..., 1.0160687 ,\n",
       "         1.0160687 , 1.0160687 ],\n",
       "        ...,\n",
       "        [1.01149237, 1.01149237, 1.01149237, ..., 1.01149237,\n",
       "         1.01149237, 1.01149237],\n",
       "        [1.01185524, 1.01185524, 1.01185524, ..., 1.01185524,\n",
       "         1.01185524, 1.01185524],\n",
       "        [1.01459992, 1.01459992, 1.01459992, ..., 1.01459992,\n",
       "         1.01459992, 1.01459992]]])"
      ]
     },
     "execution_count": 59,
     "metadata": {},
     "output_type": "execute_result"
    }
   ],
   "source": [
    "submission"
   ]
  },
  {
   "cell_type": "code",
   "execution_count": 29,
   "id": "c0a39bff",
   "metadata": {},
   "outputs": [
    {
     "data": {
      "image/png": "[encoded data removed]",
      "text/plain": [
       "<Figure size 1440x360 with 1 Axes>"
      ]
     },
     "metadata": {
      "needs_background": "light"
     },
     "output_type": "display_data"
    }
   ],
   "source": [
    "row +=1\n",
    "plt.figure(figsize=(20,5))\n",
    "\n",
    "plt.plot(test_x[row,:, 0])\n",
    "plt.plot(np.arange(test_x.shape[1], test_x.shape[1]+ submission.shape[1]), submission[row, :, 0], label='pred open price')\n",
    "plt.legend()\n",
    "plt.show()"
   ]
  },
  {
   "cell_type": "code",
   "execution_count": 55,
   "id": "0d39c62e",
   "metadata": {},
   "outputs": [
    {
     "data": {
      "text/plain": [
       "<tf.Tensor: shape=(1380,), dtype=float64, numpy=\n",
       "array([0.97690755, 0.97693282, 0.97736377, ..., 0.99254751, 0.99328268,\n",
       "       1.        ])>"
      ]
     },
     "execution_count": 55,
     "metadata": {},
     "output_type": "execute_result"
    }
   ],
   "source": [
    "test_x[row,:, 0]"
   ]
  },
  {
   "cell_type": "code",
   "execution_count": 74,
   "id": "d3191652",
   "metadata": {},
   "outputs": [],
   "source": [
    "submit_columns = [\n",
    "                  \"sample_id\", \n",
    "                  \"buy_quantity\", \n",
    "                  \"sell_time\"\n",
    "                  ]"
   ]
  },
  {
   "cell_type": "code",
   "execution_count": 78,
   "id": "7050dc5f",
   "metadata": {},
   "outputs": [],
   "source": [
    "submit1 = submission[:,:,0]"
   ]
  },
  {
   "cell_type": "code",
   "execution_count": 79,
   "id": "a4f9d9cb",
   "metadata": {
    "scrolled": true
   },
   "outputs": [
    {
     "ename": "ValueError",
     "evalue": "Shape of passed values is (760, 120), indices imply (760, 3)",
     "output_type": "error",
     "traceback": [
      "\u001b[0;31m---------------------------------------------------------------------------\u001b[0m",
      "\u001b[0;31mValueError\u001b[0m                                Traceback (most recent call last)",
      "\u001b[0;32m~/anaconda3/envs/kbs_coin/lib/python3.8/site-packages/pandas/core/internals/managers.py\u001b[0m in \u001b[0;36mcreate_block_manager_from_blocks\u001b[0;34m(blocks, axes)\u001b[0m\n\u001b[1;32m   1674\u001b[0m                 blocks = [\n\u001b[0;32m-> 1675\u001b[0;31m                     make_block(\n\u001b[0m\u001b[1;32m   1676\u001b[0m                         \u001b[0mvalues\u001b[0m\u001b[0;34m=\u001b[0m\u001b[0mblocks\u001b[0m\u001b[0;34m[\u001b[0m\u001b[0;36m0\u001b[0m\u001b[0;34m]\u001b[0m\u001b[0;34m,\u001b[0m \u001b[0mplacement\u001b[0m\u001b[0;34m=\u001b[0m\u001b[0mslice\u001b[0m\u001b[0;34m(\u001b[0m\u001b[0;36m0\u001b[0m\u001b[0;34m,\u001b[0m \u001b[0mlen\u001b[0m\u001b[0;34m(\u001b[0m\u001b[0maxes\u001b[0m\u001b[0;34m[\u001b[0m\u001b[0;36m0\u001b[0m\u001b[0;34m]\u001b[0m\u001b[0;34m)\u001b[0m\u001b[0;34m)\u001b[0m\u001b[0;34m,\u001b[0m \u001b[0mndim\u001b[0m\u001b[0;34m=\u001b[0m\u001b[0;36m2\u001b[0m\u001b[0;34m\u001b[0m\u001b[0;34m\u001b[0m\u001b[0m\n",
      "\u001b[0;32m~/anaconda3/envs/kbs_coin/lib/python3.8/site-packages/pandas/core/internals/blocks.py\u001b[0m in \u001b[0;36mmake_block\u001b[0;34m(values, placement, klass, ndim, dtype)\u001b[0m\n\u001b[1;32m   2741\u001b[0m \u001b[0;34m\u001b[0m\u001b[0m\n\u001b[0;32m-> 2742\u001b[0;31m     \u001b[0;32mreturn\u001b[0m \u001b[0mklass\u001b[0m\u001b[0;34m(\u001b[0m\u001b[0mvalues\u001b[0m\u001b[0;34m,\u001b[0m \u001b[0mndim\u001b[0m\u001b[0;34m=\u001b[0m\u001b[0mndim\u001b[0m\u001b[0;34m,\u001b[0m \u001b[0mplacement\u001b[0m\u001b[0;34m=\u001b[0m\u001b[0mplacement\u001b[0m\u001b[0;34m)\u001b[0m\u001b[0;34m\u001b[0m\u001b[0;34m\u001b[0m\u001b[0m\n\u001b[0m\u001b[1;32m   2743\u001b[0m \u001b[0;34m\u001b[0m\u001b[0m\n",
      "\u001b[0;32m~/anaconda3/envs/kbs_coin/lib/python3.8/site-packages/pandas/core/internals/blocks.py\u001b[0m in \u001b[0;36m__init__\u001b[0;34m(self, values, placement, ndim)\u001b[0m\n\u001b[1;32m    141\u001b[0m         \u001b[0;32mif\u001b[0m \u001b[0mself\u001b[0m\u001b[0;34m.\u001b[0m\u001b[0m_validate_ndim\u001b[0m \u001b[0;32mand\u001b[0m \u001b[0mself\u001b[0m\u001b[0;34m.\u001b[0m\u001b[0mndim\u001b[0m \u001b[0;32mand\u001b[0m \u001b[0mlen\u001b[0m\u001b[0;34m(\u001b[0m\u001b[0mself\u001b[0m\u001b[0;34m.\u001b[0m\u001b[0mmgr_locs\u001b[0m\u001b[0;34m)\u001b[0m \u001b[0;34m!=\u001b[0m \u001b[0mlen\u001b[0m\u001b[0;34m(\u001b[0m\u001b[0mself\u001b[0m\u001b[0;34m.\u001b[0m\u001b[0mvalues\u001b[0m\u001b[0;34m)\u001b[0m\u001b[0;34m:\u001b[0m\u001b[0;34m\u001b[0m\u001b[0;34m\u001b[0m\u001b[0m\n\u001b[0;32m--> 142\u001b[0;31m             raise ValueError(\n\u001b[0m\u001b[1;32m    143\u001b[0m                 \u001b[0;34mf\"Wrong number of items passed {len(self.values)}, \"\u001b[0m\u001b[0;34m\u001b[0m\u001b[0;34m\u001b[0m\u001b[0m\n",
      "\u001b[0;31mValueError\u001b[0m: Wrong number of items passed 120, placement implies 3",
      "\nDuring handling of the above exception, another exception occurred:\n",
      "\u001b[0;31mValueError\u001b[0m                                Traceback (most recent call last)",
      "\u001b[0;32m<ipython-input-79-aa74d5b09cf9>\u001b[0m in \u001b[0;36m<module>\u001b[0;34m\u001b[0m\n\u001b[0;32m----> 1\u001b[0;31m \u001b[0msubmit\u001b[0m \u001b[0;34m=\u001b[0m \u001b[0mpd\u001b[0m\u001b[0;34m.\u001b[0m\u001b[0mDataFrame\u001b[0m\u001b[0;34m(\u001b[0m\u001b[0mdata\u001b[0m\u001b[0;34m=\u001b[0m\u001b[0msubmit1\u001b[0m\u001b[0;34m,\u001b[0m \u001b[0mcolumns\u001b[0m\u001b[0;34m=\u001b[0m\u001b[0msubmit_columns\u001b[0m\u001b[0;34m)\u001b[0m\u001b[0;34m\u001b[0m\u001b[0;34m\u001b[0m\u001b[0m\n\u001b[0m",
      "\u001b[0;32m~/anaconda3/envs/kbs_coin/lib/python3.8/site-packages/pandas/core/frame.py\u001b[0m in \u001b[0;36m__init__\u001b[0;34m(self, data, index, columns, dtype, copy)\u001b[0m\n\u001b[1;32m    556\u001b[0m                 \u001b[0mmgr\u001b[0m \u001b[0;34m=\u001b[0m \u001b[0minit_dict\u001b[0m\u001b[0;34m(\u001b[0m\u001b[0;34m{\u001b[0m\u001b[0mdata\u001b[0m\u001b[0;34m.\u001b[0m\u001b[0mname\u001b[0m\u001b[0;34m:\u001b[0m \u001b[0mdata\u001b[0m\u001b[0;34m}\u001b[0m\u001b[0;34m,\u001b[0m \u001b[0mindex\u001b[0m\u001b[0;34m,\u001b[0m \u001b[0mcolumns\u001b[0m\u001b[0;34m,\u001b[0m \u001b[0mdtype\u001b[0m\u001b[0;34m=\u001b[0m\u001b[0mdtype\u001b[0m\u001b[0;34m)\u001b[0m\u001b[0;34m\u001b[0m\u001b[0;34m\u001b[0m\u001b[0m\n\u001b[1;32m    557\u001b[0m             \u001b[0;32melse\u001b[0m\u001b[0;34m:\u001b[0m\u001b[0;34m\u001b[0m\u001b[0;34m\u001b[0m\u001b[0m\n\u001b[0;32m--> 558\u001b[0;31m                 \u001b[0mmgr\u001b[0m \u001b[0;34m=\u001b[0m \u001b[0minit_ndarray\u001b[0m\u001b[0;34m(\u001b[0m\u001b[0mdata\u001b[0m\u001b[0;34m,\u001b[0m \u001b[0mindex\u001b[0m\u001b[0;34m,\u001b[0m \u001b[0mcolumns\u001b[0m\u001b[0;34m,\u001b[0m \u001b[0mdtype\u001b[0m\u001b[0;34m=\u001b[0m\u001b[0mdtype\u001b[0m\u001b[0;34m,\u001b[0m \u001b[0mcopy\u001b[0m\u001b[0;34m=\u001b[0m\u001b[0mcopy\u001b[0m\u001b[0;34m)\u001b[0m\u001b[0;34m\u001b[0m\u001b[0;34m\u001b[0m\u001b[0m\n\u001b[0m\u001b[1;32m    559\u001b[0m \u001b[0;34m\u001b[0m\u001b[0m\n\u001b[1;32m    560\u001b[0m         \u001b[0;31m# For data is list-like, or Iterable (will consume into list)\u001b[0m\u001b[0;34m\u001b[0m\u001b[0;34m\u001b[0m\u001b[0;34m\u001b[0m\u001b[0m\n",
      "\u001b[0;32m~/anaconda3/envs/kbs_coin/lib/python3.8/site-packages/pandas/core/internals/construction.py\u001b[0m in \u001b[0;36minit_ndarray\u001b[0;34m(values, index, columns, dtype, copy)\u001b[0m\n\u001b[1;32m    236\u001b[0m         \u001b[0mblock_values\u001b[0m \u001b[0;34m=\u001b[0m \u001b[0;34m[\u001b[0m\u001b[0mvalues\u001b[0m\u001b[0;34m]\u001b[0m\u001b[0;34m\u001b[0m\u001b[0;34m\u001b[0m\u001b[0m\n\u001b[1;32m    237\u001b[0m \u001b[0;34m\u001b[0m\u001b[0m\n\u001b[0;32m--> 238\u001b[0;31m     \u001b[0;32mreturn\u001b[0m \u001b[0mcreate_block_manager_from_blocks\u001b[0m\u001b[0;34m(\u001b[0m\u001b[0mblock_values\u001b[0m\u001b[0;34m,\u001b[0m \u001b[0;34m[\u001b[0m\u001b[0mcolumns\u001b[0m\u001b[0;34m,\u001b[0m \u001b[0mindex\u001b[0m\u001b[0;34m]\u001b[0m\u001b[0;34m)\u001b[0m\u001b[0;34m\u001b[0m\u001b[0;34m\u001b[0m\u001b[0m\n\u001b[0m\u001b[1;32m    239\u001b[0m \u001b[0;34m\u001b[0m\u001b[0m\n\u001b[1;32m    240\u001b[0m \u001b[0;34m\u001b[0m\u001b[0m\n",
      "\u001b[0;32m~/anaconda3/envs/kbs_coin/lib/python3.8/site-packages/pandas/core/internals/managers.py\u001b[0m in \u001b[0;36mcreate_block_manager_from_blocks\u001b[0;34m(blocks, axes)\u001b[0m\n\u001b[1;32m   1685\u001b[0m         \u001b[0mblocks\u001b[0m \u001b[0;34m=\u001b[0m \u001b[0;34m[\u001b[0m\u001b[0mgetattr\u001b[0m\u001b[0;34m(\u001b[0m\u001b[0mb\u001b[0m\u001b[0;34m,\u001b[0m \u001b[0;34m\"values\"\u001b[0m\u001b[0;34m,\u001b[0m \u001b[0mb\u001b[0m\u001b[0;34m)\u001b[0m \u001b[0;32mfor\u001b[0m \u001b[0mb\u001b[0m \u001b[0;32min\u001b[0m \u001b[0mblocks\u001b[0m\u001b[0;34m]\u001b[0m\u001b[0;34m\u001b[0m\u001b[0;34m\u001b[0m\u001b[0m\n\u001b[1;32m   1686\u001b[0m         \u001b[0mtot_items\u001b[0m \u001b[0;34m=\u001b[0m \u001b[0msum\u001b[0m\u001b[0;34m(\u001b[0m\u001b[0mb\u001b[0m\u001b[0;34m.\u001b[0m\u001b[0mshape\u001b[0m\u001b[0;34m[\u001b[0m\u001b[0;36m0\u001b[0m\u001b[0;34m]\u001b[0m \u001b[0;32mfor\u001b[0m \u001b[0mb\u001b[0m \u001b[0;32min\u001b[0m \u001b[0mblocks\u001b[0m\u001b[0;34m)\u001b[0m\u001b[0;34m\u001b[0m\u001b[0;34m\u001b[0m\u001b[0m\n\u001b[0;32m-> 1687\u001b[0;31m         \u001b[0;32mraise\u001b[0m \u001b[0mconstruction_error\u001b[0m\u001b[0;34m(\u001b[0m\u001b[0mtot_items\u001b[0m\u001b[0;34m,\u001b[0m \u001b[0mblocks\u001b[0m\u001b[0;34m[\u001b[0m\u001b[0;36m0\u001b[0m\u001b[0;34m]\u001b[0m\u001b[0;34m.\u001b[0m\u001b[0mshape\u001b[0m\u001b[0;34m[\u001b[0m\u001b[0;36m1\u001b[0m\u001b[0;34m:\u001b[0m\u001b[0;34m]\u001b[0m\u001b[0;34m,\u001b[0m \u001b[0maxes\u001b[0m\u001b[0;34m,\u001b[0m \u001b[0me\u001b[0m\u001b[0;34m)\u001b[0m\u001b[0;34m\u001b[0m\u001b[0;34m\u001b[0m\u001b[0m\n\u001b[0m\u001b[1;32m   1688\u001b[0m \u001b[0;34m\u001b[0m\u001b[0m\n\u001b[1;32m   1689\u001b[0m \u001b[0;34m\u001b[0m\u001b[0m\n",
      "\u001b[0;31mValueError\u001b[0m: Shape of passed values is (760, 120), indices imply (760, 3)"
     ]
    }
   ],
   "source": [
    "submit = pd.DataFrame(data=submit1, columns=submit_columns)"
   ]
  },
  {
   "cell_type": "code",
   "execution_count": 73,
   "id": "be0eace0",
   "metadata": {},
   "outputs": [
    {
     "data": {
      "text/plain": [
       "array([[[1.02421665, 1.02421665, 1.02421665, ..., 1.02421665,\n",
       "         1.02421665, 1.02421665],\n",
       "        [1.02473438, 1.02473438, 1.02473438, ..., 1.02473438,\n",
       "         1.02473438, 1.02473438],\n",
       "        [1.01606822, 1.01606822, 1.01606822, ..., 1.01606822,\n",
       "         1.01606822, 1.01606822],\n",
       "        ...,\n",
       "        [1.01149237, 1.01149237, 1.01149237, ..., 1.01149237,\n",
       "         1.01149237, 1.01149237],\n",
       "        [1.01185524, 1.01185524, 1.01185524, ..., 1.01185524,\n",
       "         1.01185524, 1.01185524],\n",
       "        [1.01459992, 1.01459992, 1.01459992, ..., 1.01459992,\n",
       "         1.01459992, 1.01459992]],\n",
       "\n",
       "       [[1.0242151 , 1.0242151 , 1.0242151 , ..., 1.0242151 ,\n",
       "         1.0242151 , 1.0242151 ],\n",
       "        [1.02473378, 1.02473378, 1.02473378, ..., 1.02473378,\n",
       "         1.02473378, 1.02473378],\n",
       "        [1.01606715, 1.01606715, 1.01606715, ..., 1.01606715,\n",
       "         1.01606715, 1.01606715],\n",
       "        ...,\n",
       "        [1.01149237, 1.01149237, 1.01149237, ..., 1.01149237,\n",
       "         1.01149237, 1.01149237],\n",
       "        [1.01185524, 1.01185524, 1.01185524, ..., 1.01185524,\n",
       "         1.01185524, 1.01185524],\n",
       "        [1.01459992, 1.01459992, 1.01459992, ..., 1.01459992,\n",
       "         1.01459992, 1.01459992]],\n",
       "\n",
       "       [[1.02421606, 1.02421606, 1.02421606, ..., 1.02421606,\n",
       "         1.02421606, 1.02421606],\n",
       "        [1.02473414, 1.02473414, 1.02473414, ..., 1.02473414,\n",
       "         1.02473414, 1.02473414],\n",
       "        [1.01606798, 1.01606798, 1.01606798, ..., 1.01606798,\n",
       "         1.01606798, 1.01606798],\n",
       "        ...,\n",
       "        [1.01149237, 1.01149237, 1.01149237, ..., 1.01149237,\n",
       "         1.01149237, 1.01149237],\n",
       "        [1.01185524, 1.01185524, 1.01185524, ..., 1.01185524,\n",
       "         1.01185524, 1.01185524],\n",
       "        [1.01459992, 1.01459992, 1.01459992, ..., 1.01459992,\n",
       "         1.01459992, 1.01459992]],\n",
       "\n",
       "       ...,\n",
       "\n",
       "       [[1.02421653, 1.02421653, 1.02421653, ..., 1.02421653,\n",
       "         1.02421653, 1.02421653],\n",
       "        [1.02473426, 1.02473426, 1.02473426, ..., 1.02473426,\n",
       "         1.02473426, 1.02473426],\n",
       "        [1.01606822, 1.01606822, 1.01606822, ..., 1.01606822,\n",
       "         1.01606822, 1.01606822],\n",
       "        ...,\n",
       "        [1.01149237, 1.01149237, 1.01149237, ..., 1.01149237,\n",
       "         1.01149237, 1.01149237],\n",
       "        [1.01185524, 1.01185524, 1.01185524, ..., 1.01185524,\n",
       "         1.01185524, 1.01185524],\n",
       "        [1.0145998 , 1.0145998 , 1.0145998 , ..., 1.0145998 ,\n",
       "         1.0145998 , 1.0145998 ]],\n",
       "\n",
       "       [[1.02421606, 1.02421606, 1.02421606, ..., 1.02421606,\n",
       "         1.02421606, 1.02421606],\n",
       "        [1.02473414, 1.02473414, 1.02473414, ..., 1.02473414,\n",
       "         1.02473414, 1.02473414],\n",
       "        [1.01606786, 1.01606786, 1.01606786, ..., 1.01606786,\n",
       "         1.01606786, 1.01606786],\n",
       "        ...,\n",
       "        [1.01149237, 1.01149237, 1.01149237, ..., 1.01149237,\n",
       "         1.01149237, 1.01149237],\n",
       "        [1.01185524, 1.01185524, 1.01185524, ..., 1.01185524,\n",
       "         1.01185524, 1.01185524],\n",
       "        [1.0145998 , 1.0145998 , 1.0145998 , ..., 1.0145998 ,\n",
       "         1.0145998 , 1.0145998 ]],\n",
       "\n",
       "       [[1.02421725, 1.02421725, 1.02421725, ..., 1.02421725,\n",
       "         1.02421725, 1.02421725],\n",
       "        [1.02473462, 1.02473462, 1.02473462, ..., 1.02473462,\n",
       "         1.02473462, 1.02473462],\n",
       "        [1.0160687 , 1.0160687 , 1.0160687 , ..., 1.0160687 ,\n",
       "         1.0160687 , 1.0160687 ],\n",
       "        ...,\n",
       "        [1.01149237, 1.01149237, 1.01149237, ..., 1.01149237,\n",
       "         1.01149237, 1.01149237],\n",
       "        [1.01185524, 1.01185524, 1.01185524, ..., 1.01185524,\n",
       "         1.01185524, 1.01185524],\n",
       "        [1.01459992, 1.01459992, 1.01459992, ..., 1.01459992,\n",
       "         1.01459992, 1.01459992]]])"
      ]
     },
     "execution_count": 73,
     "metadata": {},
     "output_type": "execute_result"
    }
   ],
   "source": [
    "submission"
   ]
  },
  {
   "cell_type": "code",
   "execution_count": 49,
   "id": "594d95a9",
   "metadata": {},
   "outputs": [],
   "source": [
    "subm = pd.DataFrame(submission[row, :, 0])"
   ]
  },
  {
   "cell_type": "code",
   "execution_count": 50,
   "id": "e160de09",
   "metadata": {},
   "outputs": [],
   "source": [
    "subm.to_csv(\"hioo.csv\")"
   ]
  },
  {
   "cell_type": "code",
   "execution_count": 30,
   "id": "8a23d3be",
   "metadata": {},
   "outputs": [
    {
     "data": {
      "text/plain": [
       "array([[1.0242151 , 1.0242151 , 1.0242151 , ..., 1.0242151 , 1.0242151 ,\n",
       "        1.0242151 ],\n",
       "       [1.02473378, 1.02473378, 1.02473378, ..., 1.02473378, 1.02473378,\n",
       "        1.02473378],\n",
       "       [1.01606715, 1.01606715, 1.01606715, ..., 1.01606715, 1.01606715,\n",
       "        1.01606715],\n",
       "       ...,\n",
       "       [1.01149237, 1.01149237, 1.01149237, ..., 1.01149237, 1.01149237,\n",
       "        1.01149237],\n",
       "       [1.01185524, 1.01185524, 1.01185524, ..., 1.01185524, 1.01185524,\n",
       "        1.01185524],\n",
       "       [1.01459992, 1.01459992, 1.01459992, ..., 1.01459992, 1.01459992,\n",
       "        1.01459992]])"
      ]
     },
     "execution_count": 30,
     "metadata": {},
     "output_type": "execute_result"
    }
   ],
   "source": [
    "row=1\n",
    "submission[row,:,:]"
   ]
  },
  {
   "cell_type": "code",
   "execution_count": 77,
   "id": "5b2f91e9",
   "metadata": {},
   "outputs": [
    {
     "data": {
      "text/plain": [
       "(120, 9)"
      ]
     },
     "execution_count": 77,
     "metadata": {},
     "output_type": "execute_result"
    }
   ],
   "source": [
    "submission[row,:,:].shape"
   ]
  },
  {
   "cell_type": "code",
   "execution_count": 57,
   "id": "1cfcca3d",
   "metadata": {},
   "outputs": [
    {
     "ename": "NameError",
     "evalue": "name 'ModelCheckpoint' is not defined",
     "output_type": "error",
     "traceback": [
      "\u001b[0;31m---------------------------------------------------------------------------\u001b[0m",
      "\u001b[0;31mNameError\u001b[0m                                 Traceback (most recent call last)",
      "\u001b[0;32m<ipython-input-57-c8acd622de1b>\u001b[0m in \u001b[0;36m<module>\u001b[0;34m\u001b[0m\n\u001b[0;32m----> 1\u001b[0;31m \u001b[0mbest_model\u001b[0m \u001b[0;34m=\u001b[0m \u001b[0mModelCheckpoint\u001b[0m\u001b[0;34m(\u001b[0m\u001b[0;34m)\u001b[0m\u001b[0;34m\u001b[0m\u001b[0;34m\u001b[0m\u001b[0m\n\u001b[0m\u001b[1;32m      2\u001b[0m \u001b[0mpred\u001b[0m \u001b[0;34m=\u001b[0m \u001b[0mbest_model\u001b[0m\u001b[0;34m.\u001b[0m\u001b[0msubmission\u001b[0m\u001b[0;34m(\u001b[0m\u001b[0mtest_X\u001b[0m\u001b[0;34m)\u001b[0m\u001b[0;34m\u001b[0m\u001b[0;34m\u001b[0m\u001b[0m\n\u001b[1;32m      3\u001b[0m \u001b[0mpred\u001b[0m\u001b[0;34m[\u001b[0m\u001b[0;34m:\u001b[0m\u001b[0;36m5\u001b[0m\u001b[0;34m]\u001b[0m\u001b[0;34m\u001b[0m\u001b[0;34m\u001b[0m\u001b[0m\n",
      "\u001b[0;31mNameError\u001b[0m: name 'ModelCheckpoint' is not defined"
     ]
    }
   ],
   "source": [
    "best_model = ModelCheckpoint()\n",
    "pred = best_model.submission(test_X)\n",
    "pred[:5]"
   ]
  },
  {
   "cell_type": "code",
   "execution_count": null,
   "id": "feefb76d",
   "metadata": {},
   "outputs": [],
   "source": [
    "rlyStopp"
   ]
  }
 ],
 "metadata": {
  "kernelspec": {
   "display_name": "Python 3",
   "language": "python",
   "name": "python3"
  },
  "language_info": {
   "codemirror_mode": {
    "name": "ipython",
    "version": 3
   },
   "file_extension": ".py",
   "mimetype": "text/x-python",
   "name": "python",
   "nbconvert_exporter": "python",
   "pygments_lexer": "ipython3",
   "version": "3.8.5"
  }
 },
 "nbformat": 4,
 "nbformat_minor": 5
}
