{
 "cells": [
  {
   "cell_type": "markdown",
   "id": "filled-array",
   "metadata": {},
   "source": [
    "# 비트트레이더 RNN MODEL(LSTM, GRU)\n",
    "\n",
    "#### 전처리\n",
    "#### LSTM\n",
    "#### GRU\n",
    "#### LSTM(Min Max Normalization)\n",
    "#### LSTM(Min Max Normalization, 층 깊게)\n",
    "#### GRU(Min Max Normalization, 층 깊게)"
   ]
  },
  {
   "cell_type": "code",
   "execution_count": 1,
   "id": "505fea45",
   "metadata": {
    "id": "505fea45"
   },
   "outputs": [],
   "source": [
    "import numpy as np\n",
    "import pandas as pd\n",
    "import math\n",
    "import os\n",
    "import matplotlib.pyplot as plt\n",
    " \n",
    "\n",
    "import tensorflow as tf\n",
    "from tensorflow import keras\n",
    "from tensorflow.keras.models import Sequential\n",
    "from tensorflow.keras.layers import Dense, LSTM, Reshape, GRU\n",
    "\n",
    "#os.environ['CUDA_VISIBLE_DEVICES']=\"2\""
   ]
  },
  {
   "cell_type": "markdown",
   "id": "through-savings",
   "metadata": {},
   "source": [
    "### 전처리"
   ]
  },
  {
   "cell_type": "code",
   "execution_count": 2,
   "id": "769cc664",
   "metadata": {
    "id": "769cc664"
   },
   "outputs": [],
   "source": [
    "train_x_df=pd.read_csv('train_x_df.csv') \n",
    "train_y_df=pd.read_csv('train_y_df.csv')\n",
    "test_x_df=pd.read_csv('test_x_df.csv')\n",
    "sample_submission=pd.read_csv('sample_submission.csv')"
   ]
  },
  {
   "cell_type": "code",
   "execution_count": 3,
   "id": "fc9bf73c",
   "metadata": {
    "colab": {
     "base_uri": "https://localhost:8080/"
    },
    "id": "fc9bf73c",
    "outputId": "153a56a9-1497-4946-80fa-4f51c0195fce"
   },
   "outputs": [
    {
     "name": "stdout",
     "output_type": "stream",
     "text": [
      "(10942020, 12)\n",
      "7929.0 7929.0\n"
     ]
    }
   ],
   "source": [
    "print(np.shape(train_x_df))\n",
    "print(len(train_x_df)/1380, len(train_y_df)/120)"
   ]
  },
  {
   "cell_type": "code",
   "execution_count": 4,
   "id": "d1324b69",
   "metadata": {
    "colab": {
     "base_uri": "https://localhost:8080/"
    },
    "id": "d1324b69",
    "outputId": "ad932946-f82a-476d-d32a-9b02916b9461"
   },
   "outputs": [
    {
     "name": "stdout",
     "output_type": "stream",
     "text": [
      "7929\n",
      "7929\n"
     ]
    }
   ],
   "source": [
    "print(train_x_df.sample_id.nunique())\n",
    "print(train_y_df.sample_id.nunique())"
   ]
  },
  {
   "cell_type": "code",
   "execution_count": 5,
   "id": "10805715",
   "metadata": {
    "colab": {
     "base_uri": "https://localhost:8080/",
     "height": 111
    },
    "id": "10805715",
    "outputId": "37b4075d-2194-4917-f8b3-01ed3ef828a0"
   },
   "outputs": [
    {
     "data": {
      "text/html": [
       "<div>\n",
       "<style scoped>\n",
       "    .dataframe tbody tr th:only-of-type {\n",
       "        vertical-align: middle;\n",
       "    }\n",
       "\n",
       "    .dataframe tbody tr th {\n",
       "        vertical-align: top;\n",
       "    }\n",
       "\n",
       "    .dataframe thead th {\n",
       "        text-align: right;\n",
       "    }\n",
       "</style>\n",
       "<table border=\"1\" class=\"dataframe\">\n",
       "  <thead>\n",
       "    <tr style=\"text-align: right;\">\n",
       "      <th></th>\n",
       "      <th>sample_id</th>\n",
       "      <th>time</th>\n",
       "      <th>coin_index</th>\n",
       "      <th>open</th>\n",
       "      <th>high</th>\n",
       "      <th>low</th>\n",
       "      <th>close</th>\n",
       "      <th>volume</th>\n",
       "      <th>quote_av</th>\n",
       "      <th>trades</th>\n",
       "      <th>tb_base_av</th>\n",
       "      <th>tb_quote_av</th>\n",
       "    </tr>\n",
       "  </thead>\n",
       "  <tbody>\n",
       "    <tr>\n",
       "      <th>0</th>\n",
       "      <td>0</td>\n",
       "      <td>0</td>\n",
       "      <td>0</td>\n",
       "      <td>0.993147</td>\n",
       "      <td>0.993546</td>\n",
       "      <td>0.992857</td>\n",
       "      <td>0.992966</td>\n",
       "      <td>1379.478027</td>\n",
       "      <td>3778.584961</td>\n",
       "      <td>11.240029</td>\n",
       "      <td>329.655548</td>\n",
       "      <td>903.091614</td>\n",
       "    </tr>\n",
       "    <tr>\n",
       "      <th>1</th>\n",
       "      <td>0</td>\n",
       "      <td>1</td>\n",
       "      <td>0</td>\n",
       "      <td>0.993256</td>\n",
       "      <td>0.993546</td>\n",
       "      <td>0.992712</td>\n",
       "      <td>0.992712</td>\n",
       "      <td>3438.807373</td>\n",
       "      <td>9419.426758</td>\n",
       "      <td>11.602611</td>\n",
       "      <td>1363.999268</td>\n",
       "      <td>3737.512695</td>\n",
       "    </tr>\n",
       "  </tbody>\n",
       "</table>\n",
       "</div>"
      ],
      "text/plain": [
       "   sample_id  time  coin_index      open      high       low     close  \\\n",
       "0          0     0           0  0.993147  0.993546  0.992857  0.992966   \n",
       "1          0     1           0  0.993256  0.993546  0.992712  0.992712   \n",
       "\n",
       "        volume     quote_av     trades   tb_base_av  tb_quote_av  \n",
       "0  1379.478027  3778.584961  11.240029   329.655548   903.091614  \n",
       "1  3438.807373  9419.426758  11.602611  1363.999268  3737.512695  "
      ]
     },
     "execution_count": 5,
     "metadata": {},
     "output_type": "execute_result"
    }
   ],
   "source": [
    "train_x_df.head(2)"
   ]
  },
  {
   "cell_type": "code",
   "execution_count": 6,
   "id": "8ed3d1f6",
   "metadata": {
    "colab": {
     "base_uri": "https://localhost:8080/",
     "height": 111
    },
    "id": "8ed3d1f6",
    "outputId": "42c8a06d-bcba-4788-eac9-3d5c30caeeb9"
   },
   "outputs": [
    {
     "data": {
      "text/html": [
       "<div>\n",
       "<style scoped>\n",
       "    .dataframe tbody tr th:only-of-type {\n",
       "        vertical-align: middle;\n",
       "    }\n",
       "\n",
       "    .dataframe tbody tr th {\n",
       "        vertical-align: top;\n",
       "    }\n",
       "\n",
       "    .dataframe thead th {\n",
       "        text-align: right;\n",
       "    }\n",
       "</style>\n",
       "<table border=\"1\" class=\"dataframe\">\n",
       "  <thead>\n",
       "    <tr style=\"text-align: right;\">\n",
       "      <th></th>\n",
       "      <th>sample_id</th>\n",
       "      <th>time</th>\n",
       "      <th>coin_index</th>\n",
       "      <th>open</th>\n",
       "      <th>high</th>\n",
       "      <th>low</th>\n",
       "      <th>close</th>\n",
       "      <th>volume</th>\n",
       "      <th>quote_av</th>\n",
       "      <th>trades</th>\n",
       "      <th>tb_base_av</th>\n",
       "      <th>tb_quote_av</th>\n",
       "    </tr>\n",
       "  </thead>\n",
       "  <tbody>\n",
       "    <tr>\n",
       "      <th>0</th>\n",
       "      <td>0</td>\n",
       "      <td>0</td>\n",
       "      <td>0</td>\n",
       "      <td>1.000326</td>\n",
       "      <td>1.002683</td>\n",
       "      <td>0.999420</td>\n",
       "      <td>1.00116</td>\n",
       "      <td>6848.100586</td>\n",
       "      <td>18914.638672</td>\n",
       "      <td>56.925312</td>\n",
       "      <td>2409.717285</td>\n",
       "      <td>6656.051270</td>\n",
       "    </tr>\n",
       "    <tr>\n",
       "      <th>1</th>\n",
       "      <td>0</td>\n",
       "      <td>1</td>\n",
       "      <td>0</td>\n",
       "      <td>1.001342</td>\n",
       "      <td>1.001450</td>\n",
       "      <td>0.999347</td>\n",
       "      <td>1.00000</td>\n",
       "      <td>5056.033691</td>\n",
       "      <td>13946.318359</td>\n",
       "      <td>42.059464</td>\n",
       "      <td>2371.283691</td>\n",
       "      <td>6540.831543</td>\n",
       "    </tr>\n",
       "  </tbody>\n",
       "</table>\n",
       "</div>"
      ],
      "text/plain": [
       "   sample_id  time  coin_index      open      high       low    close  \\\n",
       "0          0     0           0  1.000326  1.002683  0.999420  1.00116   \n",
       "1          0     1           0  1.001342  1.001450  0.999347  1.00000   \n",
       "\n",
       "        volume      quote_av     trades   tb_base_av  tb_quote_av  \n",
       "0  6848.100586  18914.638672  56.925312  2409.717285  6656.051270  \n",
       "1  5056.033691  13946.318359  42.059464  2371.283691  6540.831543  "
      ]
     },
     "execution_count": 6,
     "metadata": {},
     "output_type": "execute_result"
    }
   ],
   "source": [
    "train_y_df.head(2)"
   ]
  },
  {
   "cell_type": "code",
   "execution_count": 7,
   "id": "5a55a663",
   "metadata": {
    "colab": {
     "base_uri": "https://localhost:8080/"
    },
    "id": "5a55a663",
    "outputId": "980d3cd7-50eb-48ff-8f0d-2928181cd37a"
   },
   "outputs": [
    {
     "data": {
      "text/plain": [
       "760.0"
      ]
     },
     "execution_count": 7,
     "metadata": {},
     "output_type": "execute_result"
    }
   ],
   "source": [
    "len(test_x_df)/1380"
   ]
  },
  {
   "cell_type": "markdown",
   "id": "aac3e5b6",
   "metadata": {
    "id": "aac3e5b6"
   },
   "source": [
    "iloc를 사용해 필요없는 index없앰"
   ]
  },
  {
   "cell_type": "code",
   "execution_count": 8,
   "id": "b9e63933",
   "metadata": {
    "colab": {
     "base_uri": "https://localhost:8080/"
    },
    "id": "b9e63933",
    "outputId": "d1dbec71-1a78-4ed9-d628-97dac9893859"
   },
   "outputs": [
    {
     "data": {
      "text/plain": [
       "array([[9.93147254e-01, 9.93546128e-01, 9.92857218e-01, ...,\n",
       "        1.12400293e+01, 3.29655548e+02, 9.03091614e+02],\n",
       "       [9.93255973e-01, 9.93546128e-01, 9.92712140e-01, ...,\n",
       "        1.16026106e+01, 1.36399927e+03, 3.73751270e+03],\n",
       "       [9.92748380e-01, 9.94815111e-01, 9.92458344e-01, ...,\n",
       "        1.95794067e+01, 1.22280286e+03, 3.35068872e+03],\n",
       "       ...,\n",
       "       [9.99707699e-01, 1.00000000e+00, 9.99488533e-01, ...,\n",
       "        6.20981872e-01, 7.88707495e-01, 1.07937714e+02],\n",
       "       [9.99707699e-01, 1.00014603e+00, 9.99488533e-01, ...,\n",
       "        7.52483904e-01, 8.69763434e-01, 1.19042564e+02],\n",
       "       [1.00000000e+00, 1.00029218e+00, 9.99853849e-01, ...,\n",
       "        3.94506127e-01, 5.62873721e-01, 7.70531311e+01]])"
      ]
     },
     "execution_count": 8,
     "metadata": {},
     "output_type": "execute_result"
    }
   ],
   "source": [
    "train_x_df.iloc[:,3:].values"
   ]
  },
  {
   "cell_type": "markdown",
   "id": "99cf3eec",
   "metadata": {
    "id": "99cf3eec"
   },
   "source": [
    "1380분 후 120분을 예측하는 모델을 만들기 위한 reshape"
   ]
  },
  {
   "cell_type": "code",
   "execution_count": 9,
   "id": "bdf688f7",
   "metadata": {
    "id": "bdf688f7"
   },
   "outputs": [],
   "source": [
    "train_x = tf.reshape(train_x_df.iloc[:,3].values, [-1, 1380, 1])\n",
    "train_y = tf.reshape(train_y_df.iloc[:,3].values, [-1, 120, 1])\n",
    "test_x = tf.reshape(test_x_df.iloc[:,3].values, [-1, 1380, 1])"
   ]
  },
  {
   "cell_type": "code",
   "execution_count": null,
   "id": "broadband-secret",
   "metadata": {},
   "outputs": [],
   "source": [
    "train_x = ((train_x-min(train_x))/(max(train_x)-min(train_x))\n",
    "train_y = ((train_x-min(train_x))/(max(train_x)-min(train_x))"
   ]
  },
  {
   "cell_type": "code",
   "execution_count": 10,
   "id": "c110d8d0",
   "metadata": {
    "colab": {
     "base_uri": "https://localhost:8080/"
    },
    "id": "c110d8d0",
    "outputId": "2019eb8b-db89-44b5-892e-13f5428b90bc"
   },
   "outputs": [
    {
     "data": {
      "text/plain": [
       "<tf.Tensor: shape=(7929,), dtype=float64, numpy=array([1., 1., 1., ..., 1., 1., 1.])>"
      ]
     },
     "execution_count": 10,
     "metadata": {},
     "output_type": "execute_result"
    }
   ],
   "source": [
    "train_x[:, 1379, 0]"
   ]
  },
  {
   "cell_type": "code",
   "execution_count": 11,
   "id": "eabcae40",
   "metadata": {
    "colab": {
     "base_uri": "https://localhost:8080/"
    },
    "id": "eabcae40",
    "outputId": "985e7fe3-2b62-45b6-95c6-b7009ae5f97f"
   },
   "outputs": [
    {
     "data": {
      "text/plain": [
       "<tf.Tensor: shape=(760,), dtype=float64, numpy=\n",
       "array([1., 1., 1., 1., 1., 1., 1., 1., 1., 1., 1., 1., 1., 1., 1., 1., 1.,\n",
       "       1., 1., 1., 1., 1., 1., 1., 1., 1., 1., 1., 1., 1., 1., 1., 1., 1.,\n",
       "       1., 1., 1., 1., 1., 1., 1., 1., 1., 1., 1., 1., 1., 1., 1., 1., 1.,\n",
       "       1., 1., 1., 1., 1., 1., 1., 1., 1., 1., 1., 1., 1., 1., 1., 1., 1.,\n",
       "       1., 1., 1., 1., 1., 1., 1., 1., 1., 1., 1., 1., 1., 1., 1., 1., 1.,\n",
       "       1., 1., 1., 1., 1., 1., 1., 1., 1., 1., 1., 1., 1., 1., 1., 1., 1.,\n",
       "       1., 1., 1., 1., 1., 1., 1., 1., 1., 1., 1., 1., 1., 1., 1., 1., 1.,\n",
       "       1., 1., 1., 1., 1., 1., 1., 1., 1., 1., 1., 1., 1., 1., 1., 1., 1.,\n",
       "       1., 1., 1., 1., 1., 1., 1., 1., 1., 1., 1., 1., 1., 1., 1., 1., 1.,\n",
       "       1., 1., 1., 1., 1., 1., 1., 1., 1., 1., 1., 1., 1., 1., 1., 1., 1.,\n",
       "       1., 1., 1., 1., 1., 1., 1., 1., 1., 1., 1., 1., 1., 1., 1., 1., 1.,\n",
       "       1., 1., 1., 1., 1., 1., 1., 1., 1., 1., 1., 1., 1., 1., 1., 1., 1.,\n",
       "       1., 1., 1., 1., 1., 1., 1., 1., 1., 1., 1., 1., 1., 1., 1., 1., 1.,\n",
       "       1., 1., 1., 1., 1., 1., 1., 1., 1., 1., 1., 1., 1., 1., 1., 1., 1.,\n",
       "       1., 1., 1., 1., 1., 1., 1., 1., 1., 1., 1., 1., 1., 1., 1., 1., 1.,\n",
       "       1., 1., 1., 1., 1., 1., 1., 1., 1., 1., 1., 1., 1., 1., 1., 1., 1.,\n",
       "       1., 1., 1., 1., 1., 1., 1., 1., 1., 1., 1., 1., 1., 1., 1., 1., 1.,\n",
       "       1., 1., 1., 1., 1., 1., 1., 1., 1., 1., 1., 1., 1., 1., 1., 1., 1.,\n",
       "       1., 1., 1., 1., 1., 1., 1., 1., 1., 1., 1., 1., 1., 1., 1., 1., 1.,\n",
       "       1., 1., 1., 1., 1., 1., 1., 1., 1., 1., 1., 1., 1., 1., 1., 1., 1.,\n",
       "       1., 1., 1., 1., 1., 1., 1., 1., 1., 1., 1., 1., 1., 1., 1., 1., 1.,\n",
       "       1., 1., 1., 1., 1., 1., 1., 1., 1., 1., 1., 1., 1., 1., 1., 1., 1.,\n",
       "       1., 1., 1., 1., 1., 1., 1., 1., 1., 1., 1., 1., 1., 1., 1., 1., 1.,\n",
       "       1., 1., 1., 1., 1., 1., 1., 1., 1., 1., 1., 1., 1., 1., 1., 1., 1.,\n",
       "       1., 1., 1., 1., 1., 1., 1., 1., 1., 1., 1., 1., 1., 1., 1., 1., 1.,\n",
       "       1., 1., 1., 1., 1., 1., 1., 1., 1., 1., 1., 1., 1., 1., 1., 1., 1.,\n",
       "       1., 1., 1., 1., 1., 1., 1., 1., 1., 1., 1., 1., 1., 1., 1., 1., 1.,\n",
       "       1., 1., 1., 1., 1., 1., 1., 1., 1., 1., 1., 1., 1., 1., 1., 1., 1.,\n",
       "       1., 1., 1., 1., 1., 1., 1., 1., 1., 1., 1., 1., 1., 1., 1., 1., 1.,\n",
       "       1., 1., 1., 1., 1., 1., 1., 1., 1., 1., 1., 1., 1., 1., 1., 1., 1.,\n",
       "       1., 1., 1., 1., 1., 1., 1., 1., 1., 1., 1., 1., 1., 1., 1., 1., 1.,\n",
       "       1., 1., 1., 1., 1., 1., 1., 1., 1., 1., 1., 1., 1., 1., 1., 1., 1.,\n",
       "       1., 1., 1., 1., 1., 1., 1., 1., 1., 1., 1., 1., 1., 1., 1., 1., 1.,\n",
       "       1., 1., 1., 1., 1., 1., 1., 1., 1., 1., 1., 1., 1., 1., 1., 1., 1.,\n",
       "       1., 1., 1., 1., 1., 1., 1., 1., 1., 1., 1., 1., 1., 1., 1., 1., 1.,\n",
       "       1., 1., 1., 1., 1., 1., 1., 1., 1., 1., 1., 1., 1., 1., 1., 1., 1.,\n",
       "       1., 1., 1., 1., 1., 1., 1., 1., 1., 1., 1., 1., 1., 1., 1., 1., 1.,\n",
       "       1., 1., 1., 1., 1., 1., 1., 1., 1., 1., 1., 1., 1., 1., 1., 1., 1.,\n",
       "       1., 1., 1., 1., 1., 1., 1., 1., 1., 1., 1., 1., 1., 1., 1., 1., 1.,\n",
       "       1., 1., 1., 1., 1., 1., 1., 1., 1., 1., 1., 1., 1., 1., 1., 1., 1.,\n",
       "       1., 1., 1., 1., 1., 1., 1., 1., 1., 1., 1., 1., 1., 1., 1., 1., 1.,\n",
       "       1., 1., 1., 1., 1., 1., 1., 1., 1., 1., 1., 1., 1., 1., 1., 1., 1.,\n",
       "       1., 1., 1., 1., 1., 1., 1., 1., 1., 1., 1., 1., 1., 1., 1., 1., 1.,\n",
       "       1., 1., 1., 1., 1., 1., 1., 1., 1., 1., 1., 1., 1., 1., 1., 1., 1.,\n",
       "       1., 1., 1., 1., 1., 1., 1., 1., 1., 1., 1., 1.])>"
      ]
     },
     "execution_count": 11,
     "metadata": {},
     "output_type": "execute_result"
    }
   ],
   "source": [
    "test_x[:, 1379, 0]"
   ]
  },
  {
   "cell_type": "markdown",
   "id": "de9d0e3a",
   "metadata": {
    "id": "de9d0e3a"
   },
   "source": [
    "shape 확인, 학습을 위한 7929개의 샘플, test를 위한 760개의 샘플"
   ]
  },
  {
   "cell_type": "code",
   "execution_count": 12,
   "id": "cf579ecc",
   "metadata": {
    "colab": {
     "base_uri": "https://localhost:8080/"
    },
    "id": "cf579ecc",
    "outputId": "40ab5178-7c5e-4b57-dfd6-cb7c72edae44"
   },
   "outputs": [
    {
     "name": "stdout",
     "output_type": "stream",
     "text": [
      "(7929, 1380, 1) (7929, 120, 1) (760, 1380, 1)\n"
     ]
    }
   ],
   "source": [
    "print(train_x.shape, train_y.shape, test_x.shape)"
   ]
  },
  {
   "cell_type": "markdown",
   "id": "3ab7ddf0",
   "metadata": {
    "id": "3ab7ddf0"
   },
   "source": [
    "np.arrange로 1380분~1500분 반환"
   ]
  },
  {
   "cell_type": "code",
   "execution_count": 13,
   "id": "055943ec",
   "metadata": {
    "colab": {
     "base_uri": "https://localhost:8080/",
     "height": 336
    },
    "id": "055943ec",
    "outputId": "659d8002-a314-4427-8cc6-516e44304a8d",
    "scrolled": true
   },
   "outputs": [
    {
     "data": {
      "image/png": "[encoded data removed]",
      "text/plain": [
       "<Figure size 1080x360 with 1 Axes>"
      ]
     },
     "metadata": {
      "needs_background": "light"
     },
     "output_type": "display_data"
    }
   ],
   "source": [
    "row=1\n",
    "plt.figure(figsize=(15,5))\n",
    "\n",
    "\n",
    "plt.plot(train_x[row,:,0], label='train_x open')\n",
    "plt.plot(np.arange(train_x.shape[1],train_x.shape[1]+ train_y.shape[1]), train_y[row, :, 0], label='train_y open')\n",
    "plt.legend()\n",
    "plt.title('open graph')\n",
    "plt.show()"
   ]
  },
  {
   "cell_type": "code",
   "execution_count": 35,
   "id": "95ff9242",
   "metadata": {
    "colab": {
     "base_uri": "https://localhost:8080/"
    },
    "id": "95ff9242",
    "outputId": "abf4d294-14bf-4aa2-f7f5-575c075774fd"
   },
   "outputs": [
    {
     "data": {
      "text/plain": [
       "<tf.Tensor: shape=(1380,), dtype=float64, numpy=\n",
       "array([1.04582441, 1.04666603, 1.04685307, ..., 0.99869072, 1.00037408,\n",
       "       1.        ])>"
      ]
     },
     "execution_count": 35,
     "metadata": {
      "tags": []
     },
     "output_type": "execute_result"
    }
   ],
   "source": [
    "train_x[row,:,0]"
   ]
  },
  {
   "cell_type": "code",
   "execution_count": 14,
   "id": "f9a42868",
   "metadata": {
    "colab": {
     "base_uri": "https://localhost:8080/"
    },
    "id": "f9a42868",
    "outputId": "c3013e15-a249-42e2-ebed-e531a580acd0"
   },
   "outputs": [
    {
     "data": {
      "text/plain": [
       "TensorShape([7929, 1380, 1])"
      ]
     },
     "execution_count": 14,
     "metadata": {},
     "output_type": "execute_result"
    }
   ],
   "source": [
    "train_x.shape"
   ]
  },
  {
   "cell_type": "code",
   "execution_count": 15,
   "id": "eb4a0ace",
   "metadata": {
    "colab": {
     "base_uri": "https://localhost:8080/"
    },
    "id": "eb4a0ace",
    "outputId": "a9982a43-7130-49a6-88e2-2354f3a47897",
    "scrolled": true
   },
   "outputs": [
    {
     "data": {
      "text/plain": [
       "TensorShape([7929, 120, 1])"
      ]
     },
     "execution_count": 15,
     "metadata": {},
     "output_type": "execute_result"
    }
   ],
   "source": [
    "train_y.shape"
   ]
  },
  {
   "cell_type": "code",
   "execution_count": 16,
   "id": "0322cfad",
   "metadata": {
    "colab": {
     "base_uri": "https://localhost:8080/"
    },
    "id": "0322cfad",
    "outputId": "cba5f7b6-3a49-4d67-fa24-7771733ca79a"
   },
   "outputs": [
    {
     "name": "stdout",
     "output_type": "stream",
     "text": [
      "(7929, 5, 170, 1) (7929, 5, 60, 1)\n"
     ]
    }
   ],
   "source": [
    "input_window=170\n",
    "output_window=60\n",
    "num_features=1\n",
    "window=input_window + output_window\n",
    "\n",
    "train_window_x= np.zeros(( train_x.shape[0], (train_x.shape[1]-(input_window + output_window))//230, input_window, num_features))\n",
    "train_window_y= np.zeros(( train_x.shape[0], (train_x.shape[1]-(input_window + output_window))//230, output_window, num_features))\n",
    "print(train_window_x.shape, train_window_y.shape)\n",
    "\n",
    "for example in range(train_x.shape[0]):\n",
    "    \n",
    "    for start in range(0,  train_x.shape[1]-(input_window + output_window), 230):\n",
    "        end=start+input_window\n",
    "        train_window_x[example, start//230, :, :] = train_x[example, start: end               , :]\n",
    "        train_window_y[example, start//230, :, :] = train_x[example, end  : end+ output_window, :]"
   ]
  },
  {
   "cell_type": "code",
   "execution_count": 17,
   "id": "b3153b5f",
   "metadata": {
    "id": "b3153b5f"
   },
   "outputs": [],
   "source": [
    "new_train_x=tf.reshape(train_window_x, [-1, 170, 1])\n",
    "new_train_y=tf.reshape(train_window_y, [-1, 60, 1])"
   ]
  },
  {
   "cell_type": "markdown",
   "id": "hungry-question",
   "metadata": {},
   "source": [
    "### Try1 : 1계층 LSTM Layer를 쌓고 30에폭으로 학습"
   ]
  },
  {
   "cell_type": "code",
   "execution_count": 23,
   "id": "9079c7a5",
   "metadata": {
    "colab": {
     "base_uri": "https://localhost:8080/"
    },
    "id": "9079c7a5",
    "outputId": "28656149-241d-4b4a-8c89-4301c0b172f4"
   },
   "outputs": [
    {
     "name": "stdout",
     "output_type": "stream",
     "text": [
      "0\n",
      ".1\n",
      ".2\n",
      ".3\n",
      ".4\n",
      ".5\n",
      ".6\n",
      ".7\n",
      ".8\n",
      ".9\n",
      ".10\n",
      ".11\n",
      ".12\n",
      ".13\n",
      ".14\n",
      ".15\n",
      ".16\n",
      ".17\n",
      ".18\n",
      ".19\n",
      ".20\n",
      ".21\n",
      ".22\n",
      ".23\n",
      ".24\n",
      ".25\n",
      ".26\n",
      ".27\n",
      ".28\n",
      ".29\n",
      "."
     ]
    }
   ],
   "source": [
    "time        = new_train_x.shape[1] #170\n",
    "num_features= new_train_x.shape[2] #1\n",
    "OUT_STEPS   = new_train_y.shape[1] #60\n",
    "\n",
    "#####층 쌓기###########\n",
    "\n",
    "\n",
    "model=Sequential([\n",
    "LSTM(32, input_shape=(time, num_features), dropout=0.2, recurrent_dropout=0.2),\n",
    "Dense(OUT_STEPS * num_features),\n",
    "Reshape([OUT_STEPS, num_features])\n",
    "])\n",
    "\n",
    "\n",
    "\n",
    "#######Compile 구성하기################\n",
    "\n",
    "\n",
    "model.compile(optimizer='rmsprop', loss='mae', metrics=['mae', 'accuracy'])\n",
    "# 에포크가 끝날 때마다 점(.)을 출력해 훈련 진행 과정을 표시합니다\n",
    "class PrintDot(keras.callbacks.Callback):\n",
    "    def on_epoch_end(self, epoch, logs):\n",
    "        if epoch % 1 == 0: print(epoch)\n",
    "        print('.', end='')\n",
    "\n",
    "#가장 좋은 성능을 낸 val_loss가 적은 model만 남겨 놓았습니다.\n",
    "save_best_only=tf.keras.callbacks.ModelCheckpoint(filepath=\"lstm_model.h5\", monitor='val_loss', save_best_only=True)\n",
    "\n",
    "\n",
    "early_stop = tf.keras.callbacks.EarlyStopping(monitor='val_loss', patience=20)\n",
    "\n",
    "#검증 손실이 10epoch 동안 좋아지지 않으면 학습률을 0.1 배로 재구성하는 명령어입니다.\n",
    "reduceLR = tf.keras.callbacks.ReduceLROnPlateau(monitor='val_loss', factor=0.1, patience=10)\n",
    "\n",
    "\n",
    "######################\n",
    "history = model.fit(new_train_x, new_train_y, epochs=30, batch_size=64, validation_split = 0.2, verbose=0, callbacks=[PrintDot(), early_stop, save_best_only , reduceLR])"
   ]
  },
  {
   "cell_type": "markdown",
   "id": "everyday-oxide",
   "metadata": {},
   "source": [
    "아래는 10에폭의 결과, <span style=\"color:red\">에폭을 늘리면 좀 더 성능이 좋아질 여지가 있어보임</span>"
   ]
  },
  {
   "cell_type": "code",
   "execution_count": 41,
   "id": "1022b3db",
   "metadata": {
    "colab": {
     "base_uri": "https://localhost:8080/",
     "height": 358
    },
    "id": "1022b3db",
    "outputId": "f0a68a44-0732-4f29-a6a2-23e2329ced7f",
    "scrolled": true
   },
   "outputs": [
    {
     "data": {
      "text/html": [
       "<div>\n",
       "<style scoped>\n",
       "    .dataframe tbody tr th:only-of-type {\n",
       "        vertical-align: middle;\n",
       "    }\n",
       "\n",
       "    .dataframe tbody tr th {\n",
       "        vertical-align: top;\n",
       "    }\n",
       "\n",
       "    .dataframe thead th {\n",
       "        text-align: right;\n",
       "    }\n",
       "</style>\n",
       "<table border=\"1\" class=\"dataframe\">\n",
       "  <thead>\n",
       "    <tr style=\"text-align: right;\">\n",
       "      <th></th>\n",
       "      <th>loss</th>\n",
       "      <th>mae</th>\n",
       "      <th>accuracy</th>\n",
       "      <th>val_loss</th>\n",
       "      <th>val_mae</th>\n",
       "      <th>val_accuracy</th>\n",
       "      <th>lr</th>\n",
       "    </tr>\n",
       "  </thead>\n",
       "  <tbody>\n",
       "    <tr>\n",
       "      <th>0</th>\n",
       "      <td>0.071151</td>\n",
       "      <td>0.071151</td>\n",
       "      <td>0.002277</td>\n",
       "      <td>0.027171</td>\n",
       "      <td>0.027171</td>\n",
       "      <td>0.002028</td>\n",
       "      <td>0.001</td>\n",
       "    </tr>\n",
       "    <tr>\n",
       "      <th>1</th>\n",
       "      <td>0.031820</td>\n",
       "      <td>0.031820</td>\n",
       "      <td>0.002353</td>\n",
       "      <td>0.026935</td>\n",
       "      <td>0.026935</td>\n",
       "      <td>0.002028</td>\n",
       "      <td>0.001</td>\n",
       "    </tr>\n",
       "    <tr>\n",
       "      <th>2</th>\n",
       "      <td>0.029814</td>\n",
       "      <td>0.029814</td>\n",
       "      <td>0.002353</td>\n",
       "      <td>0.026858</td>\n",
       "      <td>0.026858</td>\n",
       "      <td>0.002028</td>\n",
       "      <td>0.001</td>\n",
       "    </tr>\n",
       "    <tr>\n",
       "      <th>3</th>\n",
       "      <td>0.029251</td>\n",
       "      <td>0.029251</td>\n",
       "      <td>0.002353</td>\n",
       "      <td>0.026000</td>\n",
       "      <td>0.026000</td>\n",
       "      <td>0.002028</td>\n",
       "      <td>0.001</td>\n",
       "    </tr>\n",
       "    <tr>\n",
       "      <th>4</th>\n",
       "      <td>0.028970</td>\n",
       "      <td>0.028970</td>\n",
       "      <td>0.002353</td>\n",
       "      <td>0.026373</td>\n",
       "      <td>0.026373</td>\n",
       "      <td>0.002028</td>\n",
       "      <td>0.001</td>\n",
       "    </tr>\n",
       "    <tr>\n",
       "      <th>5</th>\n",
       "      <td>0.028621</td>\n",
       "      <td>0.028621</td>\n",
       "      <td>0.002353</td>\n",
       "      <td>0.028803</td>\n",
       "      <td>0.028803</td>\n",
       "      <td>0.002028</td>\n",
       "      <td>0.001</td>\n",
       "    </tr>\n",
       "    <tr>\n",
       "      <th>6</th>\n",
       "      <td>0.028562</td>\n",
       "      <td>0.028562</td>\n",
       "      <td>0.002353</td>\n",
       "      <td>0.027566</td>\n",
       "      <td>0.027566</td>\n",
       "      <td>0.002028</td>\n",
       "      <td>0.001</td>\n",
       "    </tr>\n",
       "    <tr>\n",
       "      <th>7</th>\n",
       "      <td>0.028276</td>\n",
       "      <td>0.028276</td>\n",
       "      <td>0.002353</td>\n",
       "      <td>0.027217</td>\n",
       "      <td>0.027217</td>\n",
       "      <td>0.002028</td>\n",
       "      <td>0.001</td>\n",
       "    </tr>\n",
       "    <tr>\n",
       "      <th>8</th>\n",
       "      <td>0.028184</td>\n",
       "      <td>0.028184</td>\n",
       "      <td>0.002353</td>\n",
       "      <td>0.028209</td>\n",
       "      <td>0.028209</td>\n",
       "      <td>0.002028</td>\n",
       "      <td>0.001</td>\n",
       "    </tr>\n",
       "    <tr>\n",
       "      <th>9</th>\n",
       "      <td>0.028247</td>\n",
       "      <td>0.028247</td>\n",
       "      <td>0.002353</td>\n",
       "      <td>0.026473</td>\n",
       "      <td>0.026473</td>\n",
       "      <td>0.002028</td>\n",
       "      <td>0.001</td>\n",
       "    </tr>\n",
       "  </tbody>\n",
       "</table>\n",
       "</div>"
      ],
      "text/plain": [
       "       loss       mae  accuracy  val_loss   val_mae  val_accuracy     lr\n",
       "0  0.071151  0.071151  0.002277  0.027171  0.027171      0.002028  0.001\n",
       "1  0.031820  0.031820  0.002353  0.026935  0.026935      0.002028  0.001\n",
       "2  0.029814  0.029814  0.002353  0.026858  0.026858      0.002028  0.001\n",
       "3  0.029251  0.029251  0.002353  0.026000  0.026000      0.002028  0.001\n",
       "4  0.028970  0.028970  0.002353  0.026373  0.026373      0.002028  0.001\n",
       "5  0.028621  0.028621  0.002353  0.028803  0.028803      0.002028  0.001\n",
       "6  0.028562  0.028562  0.002353  0.027566  0.027566      0.002028  0.001\n",
       "7  0.028276  0.028276  0.002353  0.027217  0.027217      0.002028  0.001\n",
       "8  0.028184  0.028184  0.002353  0.028209  0.028209      0.002028  0.001\n",
       "9  0.028247  0.028247  0.002353  0.026473  0.026473      0.002028  0.001"
      ]
     },
     "execution_count": 41,
     "metadata": {
      "tags": []
     },
     "output_type": "execute_result"
    }
   ],
   "source": [
    "pd.DataFrame(history.history)"
   ]
  },
  {
   "cell_type": "markdown",
   "id": "specific-target",
   "metadata": {},
   "source": [
    "그래서 30에폭의 결과"
   ]
  },
  {
   "cell_type": "code",
   "execution_count": 25,
   "id": "advance-hybrid",
   "metadata": {},
   "outputs": [
    {
     "data": {
      "text/html": [
       "<div>\n",
       "<style scoped>\n",
       "    .dataframe tbody tr th:only-of-type {\n",
       "        vertical-align: middle;\n",
       "    }\n",
       "\n",
       "    .dataframe tbody tr th {\n",
       "        vertical-align: top;\n",
       "    }\n",
       "\n",
       "    .dataframe thead th {\n",
       "        text-align: right;\n",
       "    }\n",
       "</style>\n",
       "<table border=\"1\" class=\"dataframe\">\n",
       "  <thead>\n",
       "    <tr style=\"text-align: right;\">\n",
       "      <th></th>\n",
       "      <th>loss</th>\n",
       "      <th>mae</th>\n",
       "      <th>accuracy</th>\n",
       "      <th>val_loss</th>\n",
       "      <th>val_mae</th>\n",
       "      <th>val_accuracy</th>\n",
       "      <th>lr</th>\n",
       "    </tr>\n",
       "  </thead>\n",
       "  <tbody>\n",
       "    <tr>\n",
       "      <th>0</th>\n",
       "      <td>0.075599</td>\n",
       "      <td>0.075599</td>\n",
       "      <td>0.002227</td>\n",
       "      <td>0.028779</td>\n",
       "      <td>0.028779</td>\n",
       "      <td>0.002028</td>\n",
       "      <td>0.001</td>\n",
       "    </tr>\n",
       "    <tr>\n",
       "      <th>1</th>\n",
       "      <td>0.032109</td>\n",
       "      <td>0.032109</td>\n",
       "      <td>0.002353</td>\n",
       "      <td>0.032235</td>\n",
       "      <td>0.032235</td>\n",
       "      <td>0.002028</td>\n",
       "      <td>0.001</td>\n",
       "    </tr>\n",
       "    <tr>\n",
       "      <th>2</th>\n",
       "      <td>0.030216</td>\n",
       "      <td>0.030216</td>\n",
       "      <td>0.002353</td>\n",
       "      <td>0.027750</td>\n",
       "      <td>0.027750</td>\n",
       "      <td>0.002028</td>\n",
       "      <td>0.001</td>\n",
       "    </tr>\n",
       "    <tr>\n",
       "      <th>3</th>\n",
       "      <td>0.029666</td>\n",
       "      <td>0.029666</td>\n",
       "      <td>0.002353</td>\n",
       "      <td>0.028844</td>\n",
       "      <td>0.028844</td>\n",
       "      <td>0.002028</td>\n",
       "      <td>0.001</td>\n",
       "    </tr>\n",
       "    <tr>\n",
       "      <th>4</th>\n",
       "      <td>0.029309</td>\n",
       "      <td>0.029309</td>\n",
       "      <td>0.002353</td>\n",
       "      <td>0.026000</td>\n",
       "      <td>0.026000</td>\n",
       "      <td>0.002028</td>\n",
       "      <td>0.001</td>\n",
       "    </tr>\n",
       "    <tr>\n",
       "      <th>5</th>\n",
       "      <td>0.029065</td>\n",
       "      <td>0.029065</td>\n",
       "      <td>0.002353</td>\n",
       "      <td>0.029518</td>\n",
       "      <td>0.029518</td>\n",
       "      <td>0.002028</td>\n",
       "      <td>0.001</td>\n",
       "    </tr>\n",
       "    <tr>\n",
       "      <th>6</th>\n",
       "      <td>0.028880</td>\n",
       "      <td>0.028880</td>\n",
       "      <td>0.002353</td>\n",
       "      <td>0.029173</td>\n",
       "      <td>0.029173</td>\n",
       "      <td>0.002028</td>\n",
       "      <td>0.001</td>\n",
       "    </tr>\n",
       "    <tr>\n",
       "      <th>7</th>\n",
       "      <td>0.028875</td>\n",
       "      <td>0.028875</td>\n",
       "      <td>0.002353</td>\n",
       "      <td>0.027080</td>\n",
       "      <td>0.027080</td>\n",
       "      <td>0.002028</td>\n",
       "      <td>0.001</td>\n",
       "    </tr>\n",
       "    <tr>\n",
       "      <th>8</th>\n",
       "      <td>0.028668</td>\n",
       "      <td>0.028668</td>\n",
       "      <td>0.002353</td>\n",
       "      <td>0.029103</td>\n",
       "      <td>0.029103</td>\n",
       "      <td>0.002028</td>\n",
       "      <td>0.001</td>\n",
       "    </tr>\n",
       "    <tr>\n",
       "      <th>9</th>\n",
       "      <td>0.028675</td>\n",
       "      <td>0.028675</td>\n",
       "      <td>0.002353</td>\n",
       "      <td>0.025721</td>\n",
       "      <td>0.025721</td>\n",
       "      <td>0.002028</td>\n",
       "      <td>0.001</td>\n",
       "    </tr>\n",
       "    <tr>\n",
       "      <th>10</th>\n",
       "      <td>0.028487</td>\n",
       "      <td>0.028487</td>\n",
       "      <td>0.002353</td>\n",
       "      <td>0.029181</td>\n",
       "      <td>0.029181</td>\n",
       "      <td>0.002028</td>\n",
       "      <td>0.001</td>\n",
       "    </tr>\n",
       "    <tr>\n",
       "      <th>11</th>\n",
       "      <td>0.028416</td>\n",
       "      <td>0.028416</td>\n",
       "      <td>0.002353</td>\n",
       "      <td>0.032571</td>\n",
       "      <td>0.032571</td>\n",
       "      <td>0.002028</td>\n",
       "      <td>0.001</td>\n",
       "    </tr>\n",
       "    <tr>\n",
       "      <th>12</th>\n",
       "      <td>0.028206</td>\n",
       "      <td>0.028206</td>\n",
       "      <td>0.002353</td>\n",
       "      <td>0.033523</td>\n",
       "      <td>0.033523</td>\n",
       "      <td>0.002028</td>\n",
       "      <td>0.001</td>\n",
       "    </tr>\n",
       "    <tr>\n",
       "      <th>13</th>\n",
       "      <td>0.028141</td>\n",
       "      <td>0.028141</td>\n",
       "      <td>0.002353</td>\n",
       "      <td>0.028537</td>\n",
       "      <td>0.028537</td>\n",
       "      <td>0.002028</td>\n",
       "      <td>0.001</td>\n",
       "    </tr>\n",
       "    <tr>\n",
       "      <th>14</th>\n",
       "      <td>0.027986</td>\n",
       "      <td>0.027986</td>\n",
       "      <td>0.002353</td>\n",
       "      <td>0.027023</td>\n",
       "      <td>0.027023</td>\n",
       "      <td>0.002028</td>\n",
       "      <td>0.001</td>\n",
       "    </tr>\n",
       "    <tr>\n",
       "      <th>15</th>\n",
       "      <td>0.027793</td>\n",
       "      <td>0.027793</td>\n",
       "      <td>0.002353</td>\n",
       "      <td>0.027402</td>\n",
       "      <td>0.027402</td>\n",
       "      <td>0.002028</td>\n",
       "      <td>0.001</td>\n",
       "    </tr>\n",
       "    <tr>\n",
       "      <th>16</th>\n",
       "      <td>0.027436</td>\n",
       "      <td>0.027436</td>\n",
       "      <td>0.002353</td>\n",
       "      <td>0.024935</td>\n",
       "      <td>0.024935</td>\n",
       "      <td>0.002028</td>\n",
       "      <td>0.001</td>\n",
       "    </tr>\n",
       "    <tr>\n",
       "      <th>17</th>\n",
       "      <td>0.026906</td>\n",
       "      <td>0.026906</td>\n",
       "      <td>0.002353</td>\n",
       "      <td>0.023558</td>\n",
       "      <td>0.023558</td>\n",
       "      <td>0.002028</td>\n",
       "      <td>0.001</td>\n",
       "    </tr>\n",
       "    <tr>\n",
       "      <th>18</th>\n",
       "      <td>0.026324</td>\n",
       "      <td>0.026324</td>\n",
       "      <td>0.002353</td>\n",
       "      <td>0.021684</td>\n",
       "      <td>0.021684</td>\n",
       "      <td>0.002028</td>\n",
       "      <td>0.001</td>\n",
       "    </tr>\n",
       "    <tr>\n",
       "      <th>19</th>\n",
       "      <td>0.026000</td>\n",
       "      <td>0.026000</td>\n",
       "      <td>0.002353</td>\n",
       "      <td>0.027910</td>\n",
       "      <td>0.027910</td>\n",
       "      <td>0.002028</td>\n",
       "      <td>0.001</td>\n",
       "    </tr>\n",
       "    <tr>\n",
       "      <th>20</th>\n",
       "      <td>0.025824</td>\n",
       "      <td>0.025824</td>\n",
       "      <td>0.002353</td>\n",
       "      <td>0.023893</td>\n",
       "      <td>0.023893</td>\n",
       "      <td>0.002028</td>\n",
       "      <td>0.001</td>\n",
       "    </tr>\n",
       "    <tr>\n",
       "      <th>21</th>\n",
       "      <td>0.025842</td>\n",
       "      <td>0.025842</td>\n",
       "      <td>0.002353</td>\n",
       "      <td>0.022693</td>\n",
       "      <td>0.022693</td>\n",
       "      <td>0.002028</td>\n",
       "      <td>0.001</td>\n",
       "    </tr>\n",
       "    <tr>\n",
       "      <th>22</th>\n",
       "      <td>0.025160</td>\n",
       "      <td>0.025160</td>\n",
       "      <td>0.002353</td>\n",
       "      <td>0.023535</td>\n",
       "      <td>0.023535</td>\n",
       "      <td>0.002028</td>\n",
       "      <td>0.001</td>\n",
       "    </tr>\n",
       "    <tr>\n",
       "      <th>23</th>\n",
       "      <td>0.025451</td>\n",
       "      <td>0.025451</td>\n",
       "      <td>0.002353</td>\n",
       "      <td>0.020541</td>\n",
       "      <td>0.020541</td>\n",
       "      <td>0.002028</td>\n",
       "      <td>0.001</td>\n",
       "    </tr>\n",
       "    <tr>\n",
       "      <th>24</th>\n",
       "      <td>0.024950</td>\n",
       "      <td>0.024950</td>\n",
       "      <td>0.002353</td>\n",
       "      <td>0.021340</td>\n",
       "      <td>0.021340</td>\n",
       "      <td>0.002028</td>\n",
       "      <td>0.001</td>\n",
       "    </tr>\n",
       "    <tr>\n",
       "      <th>25</th>\n",
       "      <td>0.024470</td>\n",
       "      <td>0.024470</td>\n",
       "      <td>0.002353</td>\n",
       "      <td>0.020236</td>\n",
       "      <td>0.020236</td>\n",
       "      <td>0.002028</td>\n",
       "      <td>0.001</td>\n",
       "    </tr>\n",
       "    <tr>\n",
       "      <th>26</th>\n",
       "      <td>0.024292</td>\n",
       "      <td>0.024292</td>\n",
       "      <td>0.002352</td>\n",
       "      <td>0.037443</td>\n",
       "      <td>0.037443</td>\n",
       "      <td>0.002028</td>\n",
       "      <td>0.001</td>\n",
       "    </tr>\n",
       "    <tr>\n",
       "      <th>27</th>\n",
       "      <td>0.023895</td>\n",
       "      <td>0.023895</td>\n",
       "      <td>0.002353</td>\n",
       "      <td>0.021532</td>\n",
       "      <td>0.021532</td>\n",
       "      <td>0.002028</td>\n",
       "      <td>0.001</td>\n",
       "    </tr>\n",
       "    <tr>\n",
       "      <th>28</th>\n",
       "      <td>0.023982</td>\n",
       "      <td>0.023982</td>\n",
       "      <td>0.002353</td>\n",
       "      <td>0.025988</td>\n",
       "      <td>0.025988</td>\n",
       "      <td>0.002028</td>\n",
       "      <td>0.001</td>\n",
       "    </tr>\n",
       "    <tr>\n",
       "      <th>29</th>\n",
       "      <td>0.023489</td>\n",
       "      <td>0.023489</td>\n",
       "      <td>0.002353</td>\n",
       "      <td>0.030694</td>\n",
       "      <td>0.030694</td>\n",
       "      <td>0.002028</td>\n",
       "      <td>0.001</td>\n",
       "    </tr>\n",
       "  </tbody>\n",
       "</table>\n",
       "</div>"
      ],
      "text/plain": [
       "        loss       mae  accuracy  val_loss   val_mae  val_accuracy     lr\n",
       "0   0.075599  0.075599  0.002227  0.028779  0.028779      0.002028  0.001\n",
       "1   0.032109  0.032109  0.002353  0.032235  0.032235      0.002028  0.001\n",
       "2   0.030216  0.030216  0.002353  0.027750  0.027750      0.002028  0.001\n",
       "3   0.029666  0.029666  0.002353  0.028844  0.028844      0.002028  0.001\n",
       "4   0.029309  0.029309  0.002353  0.026000  0.026000      0.002028  0.001\n",
       "5   0.029065  0.029065  0.002353  0.029518  0.029518      0.002028  0.001\n",
       "6   0.028880  0.028880  0.002353  0.029173  0.029173      0.002028  0.001\n",
       "7   0.028875  0.028875  0.002353  0.027080  0.027080      0.002028  0.001\n",
       "8   0.028668  0.028668  0.002353  0.029103  0.029103      0.002028  0.001\n",
       "9   0.028675  0.028675  0.002353  0.025721  0.025721      0.002028  0.001\n",
       "10  0.028487  0.028487  0.002353  0.029181  0.029181      0.002028  0.001\n",
       "11  0.028416  0.028416  0.002353  0.032571  0.032571      0.002028  0.001\n",
       "12  0.028206  0.028206  0.002353  0.033523  0.033523      0.002028  0.001\n",
       "13  0.028141  0.028141  0.002353  0.028537  0.028537      0.002028  0.001\n",
       "14  0.027986  0.027986  0.002353  0.027023  0.027023      0.002028  0.001\n",
       "15  0.027793  0.027793  0.002353  0.027402  0.027402      0.002028  0.001\n",
       "16  0.027436  0.027436  0.002353  0.024935  0.024935      0.002028  0.001\n",
       "17  0.026906  0.026906  0.002353  0.023558  0.023558      0.002028  0.001\n",
       "18  0.026324  0.026324  0.002353  0.021684  0.021684      0.002028  0.001\n",
       "19  0.026000  0.026000  0.002353  0.027910  0.027910      0.002028  0.001\n",
       "20  0.025824  0.025824  0.002353  0.023893  0.023893      0.002028  0.001\n",
       "21  0.025842  0.025842  0.002353  0.022693  0.022693      0.002028  0.001\n",
       "22  0.025160  0.025160  0.002353  0.023535  0.023535      0.002028  0.001\n",
       "23  0.025451  0.025451  0.002353  0.020541  0.020541      0.002028  0.001\n",
       "24  0.024950  0.024950  0.002353  0.021340  0.021340      0.002028  0.001\n",
       "25  0.024470  0.024470  0.002353  0.020236  0.020236      0.002028  0.001\n",
       "26  0.024292  0.024292  0.002352  0.037443  0.037443      0.002028  0.001\n",
       "27  0.023895  0.023895  0.002353  0.021532  0.021532      0.002028  0.001\n",
       "28  0.023982  0.023982  0.002353  0.025988  0.025988      0.002028  0.001\n",
       "29  0.023489  0.023489  0.002353  0.030694  0.030694      0.002028  0.001"
      ]
     },
     "execution_count": 25,
     "metadata": {},
     "output_type": "execute_result"
    }
   ],
   "source": [
    "pd.DataFrame(history.history)"
   ]
  },
  {
   "cell_type": "code",
   "execution_count": 26,
   "id": "f337553d",
   "metadata": {
    "colab": {
     "base_uri": "https://localhost:8080/"
    },
    "id": "f337553d",
    "outputId": "50af081d-668e-4b61-a0bc-a0f4f208854d"
   },
   "outputs": [
    {
     "name": "stdout",
     "output_type": "stream",
     "text": [
      "(39645, 170, 1) (39645, 60, 1)\n"
     ]
    }
   ],
   "source": [
    "print(new_train_x.shape, new_train_y.shape)"
   ]
  },
  {
   "cell_type": "code",
   "execution_count": 27,
   "id": "9e19dfd9",
   "metadata": {
    "id": "9e19dfd9"
   },
   "outputs": [],
   "source": [
    "test_x = tf.reshape(test_x_df.iloc[:,3].values, [-1, 1380, 1])"
   ]
  },
  {
   "cell_type": "code",
   "execution_count": 28,
   "id": "81704d07",
   "metadata": {
    "colab": {
     "base_uri": "https://localhost:8080/"
    },
    "id": "81704d07",
    "outputId": "8ca61836-240b-4178-a9ea-045d9a23666b"
   },
   "outputs": [
    {
     "data": {
      "text/plain": [
       "TensorShape([760, 1380, 1])"
      ]
     },
     "execution_count": 28,
     "metadata": {},
     "output_type": "execute_result"
    }
   ],
   "source": [
    "auto_x=test_x\n",
    "auto_x.shape"
   ]
  },
  {
   "cell_type": "code",
   "execution_count": 29,
   "id": "fe91e372",
   "metadata": {
    "id": "fe91e372"
   },
   "outputs": [],
   "source": [
    "submission=np.zeros((760, 120, 9))"
   ]
  },
  {
   "cell_type": "code",
   "execution_count": 30,
   "id": "2c9141e4",
   "metadata": {
    "colab": {
     "base_uri": "https://localhost:8080/"
    },
    "id": "2c9141e4",
    "outputId": "41ee09c5-8d54-442f-dff8-b10509590af0"
   },
   "outputs": [
    {
     "name": "stdout",
     "output_type": "stream",
     "text": [
      "(760, 1440, 1)\n",
      "(760, 1500, 1)\n"
     ]
    }
   ],
   "source": [
    "end_=120\n",
    "output_window = 60\n",
    "\n",
    "for i in range(end_//output_window):\n",
    "    start_ = i *output_window\n",
    "    next_ = model.predict(auto_x[:, -170:, :])\n",
    "    auto_x=tf.concat([auto_x, next_], axis=1)\n",
    "    print(auto_x.shape)\n",
    "    submission[:, start_ : start_ + output_window, :] = next_"
   ]
  },
  {
   "cell_type": "code",
   "execution_count": 31,
   "id": "ba234026",
   "metadata": {
    "colab": {
     "base_uri": "https://localhost:8080/"
    },
    "id": "ba234026",
    "outputId": "21bd442f-fa05-45e8-894a-f365dae4332a"
   },
   "outputs": [
    {
     "data": {
      "text/plain": [
       "(760, 120, 9)"
      ]
     },
     "execution_count": 31,
     "metadata": {},
     "output_type": "execute_result"
    }
   ],
   "source": [
    "submission.shape"
   ]
  },
  {
   "cell_type": "code",
   "execution_count": 32,
   "id": "bedca414",
   "metadata": {
    "colab": {
     "base_uri": "https://localhost:8080/"
    },
    "id": "bedca414",
    "outputId": "c11da4bc-ce83-446a-b4ac-dc429bbcd2f2"
   },
   "outputs": [
    {
     "name": "stdout",
     "output_type": "stream",
     "text": [
      "[1.01847756 1.01757717 1.01931429 1.02114439 1.01896191 1.02020359\n",
      " 1.01901007 1.01871479 1.01611984 1.02015829 1.02319539 1.02242863\n",
      " 1.01839638 1.01614904 1.01769078 1.01790452 1.02182138 1.02123761\n",
      " 1.01977277 1.01871037 1.01584744 1.0174154  1.01701725 1.01773798\n",
      " 1.01548052 1.01736927 1.0170778  1.01337469 1.01904809 1.01777732\n",
      " 1.01639688 1.0164001  1.01944864 1.0173856  1.01559281 1.01600885\n",
      " 1.01327848 1.01523125 1.01596951 1.01430893 1.01375282 1.01776052\n",
      " 1.01112747 1.01736295 1.0140847  1.01472414 1.02094579 1.0174737\n",
      " 1.0190208  1.01810384 1.01717067 1.01926064 1.01842535 1.01608682\n",
      " 1.01782417 1.01767325 1.01833224 1.01665866 1.01921499 1.01444399\n",
      " 1.02383137 1.02331233 1.02486289 1.02606928 1.02336037 1.02543235\n",
      " 1.02465689 1.02427399 1.02205861 1.02606368 1.02735472 1.02905118\n",
      " 1.02355349 1.02219224 1.02257431 1.0225451  1.02767551 1.02644455\n",
      " 1.02432323 1.0235678  1.01964641 1.02191186 1.02215958 1.02296495\n",
      " 1.02037919 1.0223906  1.02239311 1.0183897  1.02408671 1.02280843\n",
      " 1.02142942 1.02216887 1.02408469 1.02236748 1.02129614 1.02124882\n",
      " 1.0177269  1.02071595 1.0199368  1.01885474 1.01866019 1.0229243\n",
      " 1.01531053 1.02130723 1.01949084 1.01955867 1.02565372 1.02266705\n",
      " 1.02420938 1.02217507 1.02070403 1.02398205 1.0220629  1.02065122\n",
      " 1.02295816 1.02308118 1.02327418 1.02191925 1.02292657 1.01897669]\n",
      "71\n",
      "1.0290511846542358\n"
     ]
    }
   ],
   "source": [
    "print(submission[1,:,0])\n",
    "print(np.argmax(submission[1,:,0], axis=0))\n",
    "print(np.max(submission[1,:,0], axis=0))"
   ]
  },
  {
   "cell_type": "markdown",
   "id": "opponent-reliance",
   "metadata": {},
   "source": [
    "10에폭시 결과물"
   ]
  },
  {
   "cell_type": "code",
   "execution_count": 49,
   "id": "c0a39bff",
   "metadata": {
    "colab": {
     "base_uri": "https://localhost:8080/",
     "height": 287
    },
    "id": "c0a39bff",
    "outputId": "b0f6c1b4-96e2-4311-a868-ada4cc40ee30"
   },
   "outputs": [
    {
     "data": {
      "image/png": "[encoded data removed]",
      "text/plain": [
       "<Figure size 1440x360 with 1 Axes>"
      ]
     },
     "metadata": {
      "needs_background": "light",
      "tags": []
     },
     "output_type": "display_data"
    }
   ],
   "source": [
    "row +=1\n",
    "plt.figure(figsize=(20,5))\n",
    "\n",
    "plt.plot(test_x[row,:, 0])\n",
    "plt.plot(np.arange(test_x.shape[1], test_x.shape[1]+ submission.shape[1]), submission[row, :, 0], label='pred open price')\n",
    "plt.legend()\n",
    "plt.show()"
   ]
  },
  {
   "cell_type": "markdown",
   "id": "modular-government",
   "metadata": {},
   "source": [
    "특정 값에 너무 치우친 경향이 보인다. <span style=\"color:red\">정규화가 필요해 보임.</span>"
   ]
  },
  {
   "cell_type": "code",
   "execution_count": 33,
   "id": "impaired-pendant",
   "metadata": {},
   "outputs": [
    {
     "data": {
      "image/png": "[encoded data removed]",
      "text/plain": [
       "<Figure size 1440x360 with 1 Axes>"
      ]
     },
     "metadata": {
      "needs_background": "light"
     },
     "output_type": "display_data"
    }
   ],
   "source": [
    "row +=1\n",
    "plt.figure(figsize=(20,5))\n",
    "\n",
    "plt.plot(test_x[row,:, 0])\n",
    "plt.plot(np.arange(test_x.shape[1], test_x.shape[1]+ submission.shape[1]), submission[row, :, 0], label='pred open price')\n",
    "plt.legend()\n",
    "plt.show()"
   ]
  },
  {
   "cell_type": "code",
   "execution_count": 34,
   "id": "0d39c62e",
   "metadata": {
    "colab": {
     "base_uri": "https://localhost:8080/"
    },
    "id": "0d39c62e",
    "outputId": "c253b8f7-be2b-4bab-8a07-7a7ed7971369"
   },
   "outputs": [
    {
     "data": {
      "text/plain": [
       "<tf.Tensor: shape=(1380,), dtype=float64, numpy=\n",
       "array([0.93553561, 0.93619257, 0.93566424, ..., 0.99679416, 0.99709255,\n",
       "       1.        ])>"
      ]
     },
     "execution_count": 34,
     "metadata": {},
     "output_type": "execute_result"
    }
   ],
   "source": [
    "test_x[row,:, 0]"
   ]
  },
  {
   "cell_type": "markdown",
   "id": "behind-length",
   "metadata": {},
   "source": [
    "결과물을 submission형태로 재구성해서 csv파일 생성"
   ]
  },
  {
   "cell_type": "code",
   "execution_count": 35,
   "id": "d3191652",
   "metadata": {
    "id": "d3191652"
   },
   "outputs": [],
   "source": [
    "submit_columns = [\n",
    "                  \"sample_id\", \n",
    "                  \"buy_quantity\", \n",
    "                  \"sell_time\"\n",
    "                  ]"
   ]
  },
  {
   "cell_type": "code",
   "execution_count": 36,
   "id": "7050dc5f",
   "metadata": {
    "id": "7050dc5f"
   },
   "outputs": [],
   "source": [
    "sample_submission['buy_quantity'] = 1\n",
    "sample_submission['sell_time']= np.argmax(submission[:,:,0], axis=1)\n",
    "subm = pd.DataFrame(data=sample_submission, columns=submit_columns)"
   ]
  },
  {
   "cell_type": "code",
   "execution_count": 39,
   "id": "indirect-fiber",
   "metadata": {},
   "outputs": [
    {
     "data": {
      "text/html": [
       "<div>\n",
       "<style scoped>\n",
       "    .dataframe tbody tr th:only-of-type {\n",
       "        vertical-align: middle;\n",
       "    }\n",
       "\n",
       "    .dataframe tbody tr th {\n",
       "        vertical-align: top;\n",
       "    }\n",
       "\n",
       "    .dataframe thead th {\n",
       "        text-align: right;\n",
       "    }\n",
       "</style>\n",
       "<table border=\"1\" class=\"dataframe\">\n",
       "  <thead>\n",
       "    <tr style=\"text-align: right;\">\n",
       "      <th></th>\n",
       "      <th>sample_id</th>\n",
       "      <th>buy_quantity</th>\n",
       "      <th>sell_time</th>\n",
       "    </tr>\n",
       "  </thead>\n",
       "  <tbody>\n",
       "    <tr>\n",
       "      <th>0</th>\n",
       "      <td>7929</td>\n",
       "      <td>1</td>\n",
       "      <td>71</td>\n",
       "    </tr>\n",
       "    <tr>\n",
       "      <th>1</th>\n",
       "      <td>7930</td>\n",
       "      <td>1</td>\n",
       "      <td>71</td>\n",
       "    </tr>\n",
       "    <tr>\n",
       "      <th>2</th>\n",
       "      <td>7931</td>\n",
       "      <td>1</td>\n",
       "      <td>71</td>\n",
       "    </tr>\n",
       "    <tr>\n",
       "      <th>3</th>\n",
       "      <td>7932</td>\n",
       "      <td>1</td>\n",
       "      <td>71</td>\n",
       "    </tr>\n",
       "    <tr>\n",
       "      <th>4</th>\n",
       "      <td>7933</td>\n",
       "      <td>1</td>\n",
       "      <td>71</td>\n",
       "    </tr>\n",
       "  </tbody>\n",
       "</table>\n",
       "</div>"
      ],
      "text/plain": [
       "   sample_id  buy_quantity  sell_time\n",
       "0       7929             1         71\n",
       "1       7930             1         71\n",
       "2       7931             1         71\n",
       "3       7932             1         71\n",
       "4       7933             1         71"
      ]
     },
     "execution_count": 39,
     "metadata": {},
     "output_type": "execute_result"
    }
   ],
   "source": [
    "subm.head()"
   ]
  },
  {
   "cell_type": "code",
   "execution_count": 40,
   "id": "e160de09",
   "metadata": {
    "id": "e160de09"
   },
   "outputs": [],
   "source": [
    "subm.to_csv(\"submission_lstm1.csv\", index=False)"
   ]
  },
  {
   "cell_type": "markdown",
   "id": "dependent-azerbaijan",
   "metadata": {},
   "source": [
    "### Try2 : 1계층의 GRU Layer를 쌓고 30에폭으로 학습"
   ]
  },
  {
   "cell_type": "code",
   "execution_count": 41,
   "id": "circular-cigarette",
   "metadata": {},
   "outputs": [
    {
     "name": "stdout",
     "output_type": "stream",
     "text": [
      "0\n",
      ".1\n",
      ".2\n",
      ".3\n",
      ".4\n",
      ".5\n",
      ".6\n",
      ".7\n",
      ".8\n",
      ".9\n",
      ".10\n",
      ".11\n",
      ".12\n",
      ".13\n",
      ".14\n",
      ".15\n",
      ".16\n",
      ".17\n",
      ".18\n",
      ".19\n",
      ".20\n",
      ".21\n",
      ".22\n",
      ".23\n",
      ".24\n",
      ".25\n",
      ".26\n",
      ".27\n",
      ".28\n",
      ".29\n",
      "."
     ]
    }
   ],
   "source": [
    "time        = new_train_x.shape[1] #170\n",
    "num_features= new_train_x.shape[2] #1\n",
    "OUT_STEPS   = new_train_y.shape[1] #60\n",
    "\n",
    "#####층 쌓기###########\n",
    "\n",
    "model=Sequential([\n",
    "GRU(32, input_shape=(time, num_features), dropout=0.2, recurrent_dropout=0.2),\n",
    "Dense(OUT_STEPS * num_features),\n",
    "Reshape([OUT_STEPS, num_features])\n",
    "])\n",
    "\n",
    "#######Compile 구성하기################\n",
    "\n",
    "model.compile(optimizer='rmsprop', loss='mae', metrics=['mae', 'accuracy'])\n",
    "class PrintDot(keras.callbacks.Callback):\n",
    "    def on_epoch_end(self, epoch, logs):\n",
    "        if epoch % 1 == 0: print(epoch)\n",
    "        print('.', end='')\n",
    "\n",
    "save_best_only=tf.keras.callbacks.ModelCheckpoint(filepath=\"lstm_model.h5\", monitor='val_loss', save_best_only=True)\n",
    "\n",
    "early_stop = tf.keras.callbacks.EarlyStopping(monitor='val_loss', patience=20)\n",
    "\n",
    "reduceLR = tf.keras.callbacks.ReduceLROnPlateau(monitor='val_loss', factor=0.1, patience=10)\n",
    "\n",
    "\n",
    "######################\n",
    "history = model.fit(new_train_x, new_train_y, epochs=30, batch_size=64, validation_split = 0.2, verbose=0, callbacks=[PrintDot(), early_stop, save_best_only , reduceLR])"
   ]
  },
  {
   "cell_type": "code",
   "execution_count": 42,
   "id": "alike-stomach",
   "metadata": {},
   "outputs": [
    {
     "data": {
      "text/html": [
       "<div>\n",
       "<style scoped>\n",
       "    .dataframe tbody tr th:only-of-type {\n",
       "        vertical-align: middle;\n",
       "    }\n",
       "\n",
       "    .dataframe tbody tr th {\n",
       "        vertical-align: top;\n",
       "    }\n",
       "\n",
       "    .dataframe thead th {\n",
       "        text-align: right;\n",
       "    }\n",
       "</style>\n",
       "<table border=\"1\" class=\"dataframe\">\n",
       "  <thead>\n",
       "    <tr style=\"text-align: right;\">\n",
       "      <th></th>\n",
       "      <th>loss</th>\n",
       "      <th>mae</th>\n",
       "      <th>accuracy</th>\n",
       "      <th>val_loss</th>\n",
       "      <th>val_mae</th>\n",
       "      <th>val_accuracy</th>\n",
       "      <th>lr</th>\n",
       "    </tr>\n",
       "  </thead>\n",
       "  <tbody>\n",
       "    <tr>\n",
       "      <th>0</th>\n",
       "      <td>0.072282</td>\n",
       "      <td>0.072282</td>\n",
       "      <td>0.002284</td>\n",
       "      <td>0.025551</td>\n",
       "      <td>0.025551</td>\n",
       "      <td>0.002028</td>\n",
       "      <td>0.001</td>\n",
       "    </tr>\n",
       "    <tr>\n",
       "      <th>1</th>\n",
       "      <td>0.029997</td>\n",
       "      <td>0.029997</td>\n",
       "      <td>0.002353</td>\n",
       "      <td>0.024603</td>\n",
       "      <td>0.024603</td>\n",
       "      <td>0.002028</td>\n",
       "      <td>0.001</td>\n",
       "    </tr>\n",
       "    <tr>\n",
       "      <th>2</th>\n",
       "      <td>0.029042</td>\n",
       "      <td>0.029042</td>\n",
       "      <td>0.002353</td>\n",
       "      <td>0.028010</td>\n",
       "      <td>0.028010</td>\n",
       "      <td>0.002028</td>\n",
       "      <td>0.001</td>\n",
       "    </tr>\n",
       "    <tr>\n",
       "      <th>3</th>\n",
       "      <td>0.028342</td>\n",
       "      <td>0.028342</td>\n",
       "      <td>0.002353</td>\n",
       "      <td>0.035720</td>\n",
       "      <td>0.035720</td>\n",
       "      <td>0.002028</td>\n",
       "      <td>0.001</td>\n",
       "    </tr>\n",
       "    <tr>\n",
       "      <th>4</th>\n",
       "      <td>0.027573</td>\n",
       "      <td>0.027573</td>\n",
       "      <td>0.002353</td>\n",
       "      <td>0.025172</td>\n",
       "      <td>0.025172</td>\n",
       "      <td>0.002028</td>\n",
       "      <td>0.001</td>\n",
       "    </tr>\n",
       "    <tr>\n",
       "      <th>5</th>\n",
       "      <td>0.027115</td>\n",
       "      <td>0.027115</td>\n",
       "      <td>0.002353</td>\n",
       "      <td>0.022220</td>\n",
       "      <td>0.022220</td>\n",
       "      <td>0.002028</td>\n",
       "      <td>0.001</td>\n",
       "    </tr>\n",
       "    <tr>\n",
       "      <th>6</th>\n",
       "      <td>0.026537</td>\n",
       "      <td>0.026537</td>\n",
       "      <td>0.002353</td>\n",
       "      <td>0.022202</td>\n",
       "      <td>0.022202</td>\n",
       "      <td>0.002028</td>\n",
       "      <td>0.001</td>\n",
       "    </tr>\n",
       "    <tr>\n",
       "      <th>7</th>\n",
       "      <td>0.026194</td>\n",
       "      <td>0.026194</td>\n",
       "      <td>0.002353</td>\n",
       "      <td>0.036042</td>\n",
       "      <td>0.036042</td>\n",
       "      <td>0.002028</td>\n",
       "      <td>0.001</td>\n",
       "    </tr>\n",
       "    <tr>\n",
       "      <th>8</th>\n",
       "      <td>0.025916</td>\n",
       "      <td>0.025916</td>\n",
       "      <td>0.002353</td>\n",
       "      <td>0.021571</td>\n",
       "      <td>0.021571</td>\n",
       "      <td>0.002028</td>\n",
       "      <td>0.001</td>\n",
       "    </tr>\n",
       "    <tr>\n",
       "      <th>9</th>\n",
       "      <td>0.025529</td>\n",
       "      <td>0.025529</td>\n",
       "      <td>0.002353</td>\n",
       "      <td>0.028449</td>\n",
       "      <td>0.028449</td>\n",
       "      <td>0.002028</td>\n",
       "      <td>0.001</td>\n",
       "    </tr>\n",
       "    <tr>\n",
       "      <th>10</th>\n",
       "      <td>0.025432</td>\n",
       "      <td>0.025432</td>\n",
       "      <td>0.002353</td>\n",
       "      <td>0.022761</td>\n",
       "      <td>0.022761</td>\n",
       "      <td>0.002028</td>\n",
       "      <td>0.001</td>\n",
       "    </tr>\n",
       "    <tr>\n",
       "      <th>11</th>\n",
       "      <td>0.024938</td>\n",
       "      <td>0.024938</td>\n",
       "      <td>0.002353</td>\n",
       "      <td>0.023474</td>\n",
       "      <td>0.023474</td>\n",
       "      <td>0.002028</td>\n",
       "      <td>0.001</td>\n",
       "    </tr>\n",
       "    <tr>\n",
       "      <th>12</th>\n",
       "      <td>0.024934</td>\n",
       "      <td>0.024934</td>\n",
       "      <td>0.002353</td>\n",
       "      <td>0.023949</td>\n",
       "      <td>0.023949</td>\n",
       "      <td>0.002028</td>\n",
       "      <td>0.001</td>\n",
       "    </tr>\n",
       "    <tr>\n",
       "      <th>13</th>\n",
       "      <td>0.024703</td>\n",
       "      <td>0.024703</td>\n",
       "      <td>0.002353</td>\n",
       "      <td>0.024644</td>\n",
       "      <td>0.024644</td>\n",
       "      <td>0.002028</td>\n",
       "      <td>0.001</td>\n",
       "    </tr>\n",
       "    <tr>\n",
       "      <th>14</th>\n",
       "      <td>0.024652</td>\n",
       "      <td>0.024652</td>\n",
       "      <td>0.002353</td>\n",
       "      <td>0.021129</td>\n",
       "      <td>0.021129</td>\n",
       "      <td>0.002028</td>\n",
       "      <td>0.001</td>\n",
       "    </tr>\n",
       "    <tr>\n",
       "      <th>15</th>\n",
       "      <td>0.024468</td>\n",
       "      <td>0.024468</td>\n",
       "      <td>0.002353</td>\n",
       "      <td>0.019531</td>\n",
       "      <td>0.019531</td>\n",
       "      <td>0.002028</td>\n",
       "      <td>0.001</td>\n",
       "    </tr>\n",
       "    <tr>\n",
       "      <th>16</th>\n",
       "      <td>0.024334</td>\n",
       "      <td>0.024334</td>\n",
       "      <td>0.002353</td>\n",
       "      <td>0.025162</td>\n",
       "      <td>0.025162</td>\n",
       "      <td>0.002028</td>\n",
       "      <td>0.001</td>\n",
       "    </tr>\n",
       "    <tr>\n",
       "      <th>17</th>\n",
       "      <td>0.024229</td>\n",
       "      <td>0.024229</td>\n",
       "      <td>0.002353</td>\n",
       "      <td>0.022308</td>\n",
       "      <td>0.022308</td>\n",
       "      <td>0.002028</td>\n",
       "      <td>0.001</td>\n",
       "    </tr>\n",
       "    <tr>\n",
       "      <th>18</th>\n",
       "      <td>0.024225</td>\n",
       "      <td>0.024225</td>\n",
       "      <td>0.002353</td>\n",
       "      <td>0.022683</td>\n",
       "      <td>0.022683</td>\n",
       "      <td>0.002028</td>\n",
       "      <td>0.001</td>\n",
       "    </tr>\n",
       "    <tr>\n",
       "      <th>19</th>\n",
       "      <td>0.023960</td>\n",
       "      <td>0.023960</td>\n",
       "      <td>0.002353</td>\n",
       "      <td>0.017725</td>\n",
       "      <td>0.017725</td>\n",
       "      <td>0.002028</td>\n",
       "      <td>0.001</td>\n",
       "    </tr>\n",
       "    <tr>\n",
       "      <th>20</th>\n",
       "      <td>0.023717</td>\n",
       "      <td>0.023717</td>\n",
       "      <td>0.002353</td>\n",
       "      <td>0.018532</td>\n",
       "      <td>0.018532</td>\n",
       "      <td>0.002028</td>\n",
       "      <td>0.001</td>\n",
       "    </tr>\n",
       "    <tr>\n",
       "      <th>21</th>\n",
       "      <td>0.023718</td>\n",
       "      <td>0.023718</td>\n",
       "      <td>0.002353</td>\n",
       "      <td>0.019991</td>\n",
       "      <td>0.019991</td>\n",
       "      <td>0.002028</td>\n",
       "      <td>0.001</td>\n",
       "    </tr>\n",
       "    <tr>\n",
       "      <th>22</th>\n",
       "      <td>0.023417</td>\n",
       "      <td>0.023417</td>\n",
       "      <td>0.002353</td>\n",
       "      <td>0.017956</td>\n",
       "      <td>0.017956</td>\n",
       "      <td>0.002028</td>\n",
       "      <td>0.001</td>\n",
       "    </tr>\n",
       "    <tr>\n",
       "      <th>23</th>\n",
       "      <td>0.023365</td>\n",
       "      <td>0.023365</td>\n",
       "      <td>0.002353</td>\n",
       "      <td>0.021064</td>\n",
       "      <td>0.021064</td>\n",
       "      <td>0.002028</td>\n",
       "      <td>0.001</td>\n",
       "    </tr>\n",
       "    <tr>\n",
       "      <th>24</th>\n",
       "      <td>0.023163</td>\n",
       "      <td>0.023163</td>\n",
       "      <td>0.002353</td>\n",
       "      <td>0.017754</td>\n",
       "      <td>0.017754</td>\n",
       "      <td>0.002028</td>\n",
       "      <td>0.001</td>\n",
       "    </tr>\n",
       "    <tr>\n",
       "      <th>25</th>\n",
       "      <td>0.023082</td>\n",
       "      <td>0.023082</td>\n",
       "      <td>0.002353</td>\n",
       "      <td>0.022069</td>\n",
       "      <td>0.022069</td>\n",
       "      <td>0.002028</td>\n",
       "      <td>0.001</td>\n",
       "    </tr>\n",
       "    <tr>\n",
       "      <th>26</th>\n",
       "      <td>0.022967</td>\n",
       "      <td>0.022967</td>\n",
       "      <td>0.002353</td>\n",
       "      <td>0.021003</td>\n",
       "      <td>0.021003</td>\n",
       "      <td>0.002028</td>\n",
       "      <td>0.001</td>\n",
       "    </tr>\n",
       "    <tr>\n",
       "      <th>27</th>\n",
       "      <td>0.022800</td>\n",
       "      <td>0.022800</td>\n",
       "      <td>0.002353</td>\n",
       "      <td>0.018890</td>\n",
       "      <td>0.018890</td>\n",
       "      <td>0.002028</td>\n",
       "      <td>0.001</td>\n",
       "    </tr>\n",
       "    <tr>\n",
       "      <th>28</th>\n",
       "      <td>0.022785</td>\n",
       "      <td>0.022785</td>\n",
       "      <td>0.002353</td>\n",
       "      <td>0.017679</td>\n",
       "      <td>0.017679</td>\n",
       "      <td>0.002028</td>\n",
       "      <td>0.001</td>\n",
       "    </tr>\n",
       "    <tr>\n",
       "      <th>29</th>\n",
       "      <td>0.022628</td>\n",
       "      <td>0.022628</td>\n",
       "      <td>0.002353</td>\n",
       "      <td>0.017360</td>\n",
       "      <td>0.017360</td>\n",
       "      <td>0.002028</td>\n",
       "      <td>0.001</td>\n",
       "    </tr>\n",
       "  </tbody>\n",
       "</table>\n",
       "</div>"
      ],
      "text/plain": [
       "        loss       mae  accuracy  val_loss   val_mae  val_accuracy     lr\n",
       "0   0.072282  0.072282  0.002284  0.025551  0.025551      0.002028  0.001\n",
       "1   0.029997  0.029997  0.002353  0.024603  0.024603      0.002028  0.001\n",
       "2   0.029042  0.029042  0.002353  0.028010  0.028010      0.002028  0.001\n",
       "3   0.028342  0.028342  0.002353  0.035720  0.035720      0.002028  0.001\n",
       "4   0.027573  0.027573  0.002353  0.025172  0.025172      0.002028  0.001\n",
       "5   0.027115  0.027115  0.002353  0.022220  0.022220      0.002028  0.001\n",
       "6   0.026537  0.026537  0.002353  0.022202  0.022202      0.002028  0.001\n",
       "7   0.026194  0.026194  0.002353  0.036042  0.036042      0.002028  0.001\n",
       "8   0.025916  0.025916  0.002353  0.021571  0.021571      0.002028  0.001\n",
       "9   0.025529  0.025529  0.002353  0.028449  0.028449      0.002028  0.001\n",
       "10  0.025432  0.025432  0.002353  0.022761  0.022761      0.002028  0.001\n",
       "11  0.024938  0.024938  0.002353  0.023474  0.023474      0.002028  0.001\n",
       "12  0.024934  0.024934  0.002353  0.023949  0.023949      0.002028  0.001\n",
       "13  0.024703  0.024703  0.002353  0.024644  0.024644      0.002028  0.001\n",
       "14  0.024652  0.024652  0.002353  0.021129  0.021129      0.002028  0.001\n",
       "15  0.024468  0.024468  0.002353  0.019531  0.019531      0.002028  0.001\n",
       "16  0.024334  0.024334  0.002353  0.025162  0.025162      0.002028  0.001\n",
       "17  0.024229  0.024229  0.002353  0.022308  0.022308      0.002028  0.001\n",
       "18  0.024225  0.024225  0.002353  0.022683  0.022683      0.002028  0.001\n",
       "19  0.023960  0.023960  0.002353  0.017725  0.017725      0.002028  0.001\n",
       "20  0.023717  0.023717  0.002353  0.018532  0.018532      0.002028  0.001\n",
       "21  0.023718  0.023718  0.002353  0.019991  0.019991      0.002028  0.001\n",
       "22  0.023417  0.023417  0.002353  0.017956  0.017956      0.002028  0.001\n",
       "23  0.023365  0.023365  0.002353  0.021064  0.021064      0.002028  0.001\n",
       "24  0.023163  0.023163  0.002353  0.017754  0.017754      0.002028  0.001\n",
       "25  0.023082  0.023082  0.002353  0.022069  0.022069      0.002028  0.001\n",
       "26  0.022967  0.022967  0.002353  0.021003  0.021003      0.002028  0.001\n",
       "27  0.022800  0.022800  0.002353  0.018890  0.018890      0.002028  0.001\n",
       "28  0.022785  0.022785  0.002353  0.017679  0.017679      0.002028  0.001\n",
       "29  0.022628  0.022628  0.002353  0.017360  0.017360      0.002028  0.001"
      ]
     },
     "execution_count": 42,
     "metadata": {},
     "output_type": "execute_result"
    }
   ],
   "source": [
    "pd.DataFrame(history.history)"
   ]
  },
  {
   "cell_type": "code",
   "execution_count": 43,
   "id": "moderate-newton",
   "metadata": {},
   "outputs": [
    {
     "name": "stdout",
     "output_type": "stream",
     "text": [
      "(39645, 170, 1) (39645, 60, 1)\n"
     ]
    }
   ],
   "source": [
    "print(new_train_x.shape, new_train_y.shape)"
   ]
  },
  {
   "cell_type": "code",
   "execution_count": 44,
   "id": "ranking-perception",
   "metadata": {},
   "outputs": [],
   "source": [
    "test_x = tf.reshape(test_x_df.iloc[:,3].values, [-1, 1380, 1])"
   ]
  },
  {
   "cell_type": "code",
   "execution_count": 45,
   "id": "bigger-motivation",
   "metadata": {},
   "outputs": [
    {
     "data": {
      "text/plain": [
       "TensorShape([760, 1380, 1])"
      ]
     },
     "execution_count": 45,
     "metadata": {},
     "output_type": "execute_result"
    }
   ],
   "source": [
    "auto_x=test_x\n",
    "auto_x.shape"
   ]
  },
  {
   "cell_type": "code",
   "execution_count": 46,
   "id": "strategic-sword",
   "metadata": {},
   "outputs": [],
   "source": [
    "submission=np.zeros((760, 120, 9))"
   ]
  },
  {
   "cell_type": "code",
   "execution_count": 47,
   "id": "diagnostic-margin",
   "metadata": {},
   "outputs": [
    {
     "name": "stdout",
     "output_type": "stream",
     "text": [
      "(760, 1440, 1)\n",
      "(760, 1500, 1)\n"
     ]
    }
   ],
   "source": [
    "end_=120\n",
    "output_window = 60\n",
    "\n",
    "for i in range(end_//output_window):\n",
    "    start_ = i *output_window\n",
    "    next_ = model.predict(auto_x[:, -170:, :])\n",
    "    auto_x=tf.concat([auto_x, next_], axis=1)\n",
    "    print(auto_x.shape)\n",
    "    submission[:, start_ : start_ + output_window, :] = next_"
   ]
  },
  {
   "cell_type": "code",
   "execution_count": 48,
   "id": "beginning-pillow",
   "metadata": {},
   "outputs": [
    {
     "data": {
      "image/png": "[encoded data removed]",
      "text/plain": [
       "<Figure size 1440x360 with 1 Axes>"
      ]
     },
     "metadata": {
      "needs_background": "light"
     },
     "output_type": "display_data"
    }
   ],
   "source": [
    "row +=1\n",
    "plt.figure(figsize=(20,5))\n",
    "\n",
    "plt.plot(test_x[row,:, 0])\n",
    "plt.plot(np.arange(test_x.shape[1], test_x.shape[1]+ submission.shape[1]), submission[row, :, 0], label='pred open price')\n",
    "plt.legend()\n",
    "plt.show()"
   ]
  },
  {
   "cell_type": "code",
   "execution_count": 49,
   "id": "reflected-arrest",
   "metadata": {},
   "outputs": [],
   "source": [
    "submit_columns = [\n",
    "                  \"sample_id\", \n",
    "                  \"buy_quantity\", \n",
    "                  \"sell_time\"\n",
    "                  ]"
   ]
  },
  {
   "cell_type": "code",
   "execution_count": 50,
   "id": "cellular-teens",
   "metadata": {},
   "outputs": [],
   "source": [
    "sample_submission['buy_quantity'] = 1\n",
    "sample_submission['sell_time']= np.argmax(submission[:,:,0], axis=1)\n",
    "subm = pd.DataFrame(data=sample_submission, columns=submit_columns)"
   ]
  },
  {
   "cell_type": "code",
   "execution_count": 51,
   "id": "technical-atmosphere",
   "metadata": {},
   "outputs": [],
   "source": [
    "subm.to_csv(\"submission_gru1.csv\", index=False)"
   ]
  },
  {
   "cell_type": "markdown",
   "id": "communist-psychiatry",
   "metadata": {},
   "source": [
    "### Try3 : 정규화 후 1계층 LSTM Layer를 쌓고 30에폭으로 학습"
   ]
  },
  {
   "cell_type": "code",
   "execution_count": 70,
   "id": "unknown-throw",
   "metadata": {},
   "outputs": [],
   "source": [
    "train_x_df=pd.read_csv('train_x_df.csv') \n",
    "train_y_df=pd.read_csv('train_y_df.csv')\n",
    "test_x_df=pd.read_csv('test_x_df.csv')\n",
    "sample_submission=pd.read_csv('sample_submission.csv')\n",
    "\n",
    "train_x_df.iloc[:,3:].values\n",
    "\n",
    "train_x = tf.reshape(train_x_df.iloc[:,3].values, [-1, 1380, 1])\n",
    "train_y = tf.reshape(train_y_df.iloc[:,3].values, [-1, 120, 1])\n",
    "test_x = tf.reshape(test_x_df.iloc[:,3].values, [-1, 1380, 1])"
   ]
  },
  {
   "cell_type": "markdown",
   "id": "enhanced-exhibition",
   "metadata": {},
   "source": [
    "### Min Max Normalization"
   ]
  },
  {
   "cell_type": "code",
   "execution_count": 71,
   "id": "fabulous-integration",
   "metadata": {},
   "outputs": [],
   "source": [
    "train_x = (train_x-np.min(train_x))/(np.max(train_x)-np.min(train_x))"
   ]
  },
  {
   "cell_type": "code",
   "execution_count": 72,
   "id": "twenty-kingston",
   "metadata": {},
   "outputs": [],
   "source": [
    "train_y = (train_y-np.min(train_y))/(np.max(train_y)-np.min(train_y))"
   ]
  },
  {
   "cell_type": "code",
   "execution_count": 74,
   "id": "downtown-mounting",
   "metadata": {},
   "outputs": [],
   "source": [
    "test_y = (test_x-np.min(test_x))/(np.max(test_x)-np.min(test_x))"
   ]
  },
  {
   "cell_type": "code",
   "execution_count": 78,
   "id": "british-bracket",
   "metadata": {},
   "outputs": [
    {
     "data": {
      "image/png": "[encoded data removed]",
      "text/plain": [
       "<Figure size 1080x360 with 1 Axes>"
      ]
     },
     "metadata": {
      "needs_background": "light"
     },
     "output_type": "display_data"
    }
   ],
   "source": [
    "row=1\n",
    "plt.figure(figsize=(15,5))\n",
    "\n",
    "\n",
    "plt.plot(train_x[row,:,0], label='train_x open')\n",
    "plt.plot(np.arange(train_x.shape[1],train_x.shape[1]+ train_y.shape[1]), train_y[row, :, 0], label='train_y open')\n",
    "plt.legend()\n",
    "plt.title('open graph')\n",
    "plt.show()"
   ]
  },
  {
   "cell_type": "code",
   "execution_count": 79,
   "id": "vital-confidentiality",
   "metadata": {},
   "outputs": [],
   "source": [
    "new_train_x=tf.reshape(train_window_x, [-1, 170, 1])\n",
    "new_train_y=tf.reshape(train_window_y, [-1, 60, 1])"
   ]
  },
  {
   "cell_type": "code",
   "execution_count": 80,
   "id": "historical-macedonia",
   "metadata": {},
   "outputs": [
    {
     "name": "stdout",
     "output_type": "stream",
     "text": [
      "0\n",
      ".1\n",
      ".2\n",
      ".3\n",
      ".4\n",
      ".5\n",
      ".6\n",
      ".7\n",
      ".8\n",
      ".9\n",
      ".10\n",
      ".11\n",
      ".12\n",
      ".13\n",
      ".14\n",
      ".15\n",
      ".16\n",
      ".17\n",
      ".18\n",
      ".19\n",
      ".20\n",
      ".21\n",
      ".22\n",
      ".23\n",
      ".24\n",
      ".25\n",
      ".26\n",
      ".27\n",
      ".28\n",
      ".29\n",
      "."
     ]
    }
   ],
   "source": [
    "time        = new_train_x.shape[1] #170\n",
    "num_features= new_train_x.shape[2] #1\n",
    "OUT_STEPS   = new_train_y.shape[1] #60\n",
    "\n",
    "#####층 쌓기###########\n",
    "\n",
    "\n",
    "model=Sequential([\n",
    "LSTM(32, input_shape=(time, num_features), dropout=0.2, recurrent_dropout=0.2),\n",
    "Dense(OUT_STEPS * num_features),\n",
    "Reshape([OUT_STEPS, num_features])\n",
    "])\n",
    "\n",
    "\n",
    "\n",
    "#######Compile 구성하기################\n",
    "\n",
    "\n",
    "model.compile(optimizer='rmsprop', loss='mae', metrics=['mae', 'accuracy'])\n",
    "# 에포크가 끝날 때마다 점(.)을 출력해 훈련 진행 과정을 표시합니다\n",
    "class PrintDot(keras.callbacks.Callback):\n",
    "    def on_epoch_end(self, epoch, logs):\n",
    "        if epoch % 1 == 0: print(epoch)\n",
    "        print('.', end='')\n",
    "\n",
    "#가장 좋은 성능을 낸 val_loss가 적은 model만 남겨 놓았습니다.\n",
    "save_best_only=tf.keras.callbacks.ModelCheckpoint(filepath=\"lstm_model.h5\", monitor='val_loss', save_best_only=True)\n",
    "\n",
    "\n",
    "early_stop = tf.keras.callbacks.EarlyStopping(monitor='val_loss', patience=20)\n",
    "\n",
    "#검증 손실이 10epoch 동안 좋아지지 않으면 학습률을 0.1 배로 재구성하는 명령어입니다.\n",
    "reduceLR = tf.keras.callbacks.ReduceLROnPlateau(monitor='val_loss', factor=0.1, patience=10)\n",
    "\n",
    "\n",
    "######################\n",
    "history = model.fit(new_train_x, new_train_y, epochs=30, batch_size=64, validation_split = 0.2, verbose=0, callbacks=[PrintDot(), early_stop, save_best_only , reduceLR])"
   ]
  },
  {
   "cell_type": "code",
   "execution_count": 81,
   "id": "peripheral-campaign",
   "metadata": {},
   "outputs": [
    {
     "data": {
      "text/html": [
       "<div>\n",
       "<style scoped>\n",
       "    .dataframe tbody tr th:only-of-type {\n",
       "        vertical-align: middle;\n",
       "    }\n",
       "\n",
       "    .dataframe tbody tr th {\n",
       "        vertical-align: top;\n",
       "    }\n",
       "\n",
       "    .dataframe thead th {\n",
       "        text-align: right;\n",
       "    }\n",
       "</style>\n",
       "<table border=\"1\" class=\"dataframe\">\n",
       "  <thead>\n",
       "    <tr style=\"text-align: right;\">\n",
       "      <th></th>\n",
       "      <th>loss</th>\n",
       "      <th>mae</th>\n",
       "      <th>accuracy</th>\n",
       "      <th>val_loss</th>\n",
       "      <th>val_mae</th>\n",
       "      <th>val_accuracy</th>\n",
       "      <th>lr</th>\n",
       "    </tr>\n",
       "  </thead>\n",
       "  <tbody>\n",
       "    <tr>\n",
       "      <th>0</th>\n",
       "      <td>0.071453</td>\n",
       "      <td>0.071453</td>\n",
       "      <td>0.002271</td>\n",
       "      <td>0.028396</td>\n",
       "      <td>0.028396</td>\n",
       "      <td>0.002028</td>\n",
       "      <td>0.001</td>\n",
       "    </tr>\n",
       "    <tr>\n",
       "      <th>1</th>\n",
       "      <td>0.032105</td>\n",
       "      <td>0.032105</td>\n",
       "      <td>0.002353</td>\n",
       "      <td>0.032326</td>\n",
       "      <td>0.032326</td>\n",
       "      <td>0.002028</td>\n",
       "      <td>0.001</td>\n",
       "    </tr>\n",
       "    <tr>\n",
       "      <th>2</th>\n",
       "      <td>0.030571</td>\n",
       "      <td>0.030571</td>\n",
       "      <td>0.002353</td>\n",
       "      <td>0.030872</td>\n",
       "      <td>0.030872</td>\n",
       "      <td>0.002028</td>\n",
       "      <td>0.001</td>\n",
       "    </tr>\n",
       "    <tr>\n",
       "      <th>3</th>\n",
       "      <td>0.030024</td>\n",
       "      <td>0.030024</td>\n",
       "      <td>0.002353</td>\n",
       "      <td>0.029693</td>\n",
       "      <td>0.029693</td>\n",
       "      <td>0.002028</td>\n",
       "      <td>0.001</td>\n",
       "    </tr>\n",
       "    <tr>\n",
       "      <th>4</th>\n",
       "      <td>0.029864</td>\n",
       "      <td>0.029864</td>\n",
       "      <td>0.002353</td>\n",
       "      <td>0.030732</td>\n",
       "      <td>0.030732</td>\n",
       "      <td>0.002028</td>\n",
       "      <td>0.001</td>\n",
       "    </tr>\n",
       "    <tr>\n",
       "      <th>5</th>\n",
       "      <td>0.029756</td>\n",
       "      <td>0.029756</td>\n",
       "      <td>0.002353</td>\n",
       "      <td>0.026740</td>\n",
       "      <td>0.026740</td>\n",
       "      <td>0.002028</td>\n",
       "      <td>0.001</td>\n",
       "    </tr>\n",
       "    <tr>\n",
       "      <th>6</th>\n",
       "      <td>0.029441</td>\n",
       "      <td>0.029441</td>\n",
       "      <td>0.002353</td>\n",
       "      <td>0.036616</td>\n",
       "      <td>0.036616</td>\n",
       "      <td>0.002028</td>\n",
       "      <td>0.001</td>\n",
       "    </tr>\n",
       "    <tr>\n",
       "      <th>7</th>\n",
       "      <td>0.029374</td>\n",
       "      <td>0.029374</td>\n",
       "      <td>0.002353</td>\n",
       "      <td>0.028471</td>\n",
       "      <td>0.028471</td>\n",
       "      <td>0.002028</td>\n",
       "      <td>0.001</td>\n",
       "    </tr>\n",
       "    <tr>\n",
       "      <th>8</th>\n",
       "      <td>0.029216</td>\n",
       "      <td>0.029216</td>\n",
       "      <td>0.002353</td>\n",
       "      <td>0.026916</td>\n",
       "      <td>0.026916</td>\n",
       "      <td>0.002028</td>\n",
       "      <td>0.001</td>\n",
       "    </tr>\n",
       "    <tr>\n",
       "      <th>9</th>\n",
       "      <td>0.029069</td>\n",
       "      <td>0.029069</td>\n",
       "      <td>0.002353</td>\n",
       "      <td>0.029006</td>\n",
       "      <td>0.029006</td>\n",
       "      <td>0.002028</td>\n",
       "      <td>0.001</td>\n",
       "    </tr>\n",
       "    <tr>\n",
       "      <th>10</th>\n",
       "      <td>0.028995</td>\n",
       "      <td>0.028995</td>\n",
       "      <td>0.002353</td>\n",
       "      <td>0.030855</td>\n",
       "      <td>0.030855</td>\n",
       "      <td>0.002028</td>\n",
       "      <td>0.001</td>\n",
       "    </tr>\n",
       "    <tr>\n",
       "      <th>11</th>\n",
       "      <td>0.028752</td>\n",
       "      <td>0.028752</td>\n",
       "      <td>0.002353</td>\n",
       "      <td>0.029080</td>\n",
       "      <td>0.029080</td>\n",
       "      <td>0.002028</td>\n",
       "      <td>0.001</td>\n",
       "    </tr>\n",
       "    <tr>\n",
       "      <th>12</th>\n",
       "      <td>0.029008</td>\n",
       "      <td>0.029008</td>\n",
       "      <td>0.002352</td>\n",
       "      <td>0.028482</td>\n",
       "      <td>0.028482</td>\n",
       "      <td>0.002028</td>\n",
       "      <td>0.001</td>\n",
       "    </tr>\n",
       "    <tr>\n",
       "      <th>13</th>\n",
       "      <td>0.028439</td>\n",
       "      <td>0.028439</td>\n",
       "      <td>0.002352</td>\n",
       "      <td>0.028266</td>\n",
       "      <td>0.028266</td>\n",
       "      <td>0.002028</td>\n",
       "      <td>0.001</td>\n",
       "    </tr>\n",
       "    <tr>\n",
       "      <th>14</th>\n",
       "      <td>0.028202</td>\n",
       "      <td>0.028202</td>\n",
       "      <td>0.002353</td>\n",
       "      <td>0.027124</td>\n",
       "      <td>0.027124</td>\n",
       "      <td>0.002028</td>\n",
       "      <td>0.001</td>\n",
       "    </tr>\n",
       "    <tr>\n",
       "      <th>15</th>\n",
       "      <td>0.027553</td>\n",
       "      <td>0.027553</td>\n",
       "      <td>0.002353</td>\n",
       "      <td>0.024433</td>\n",
       "      <td>0.024433</td>\n",
       "      <td>0.002028</td>\n",
       "      <td>0.001</td>\n",
       "    </tr>\n",
       "    <tr>\n",
       "      <th>16</th>\n",
       "      <td>0.027175</td>\n",
       "      <td>0.027175</td>\n",
       "      <td>0.002353</td>\n",
       "      <td>0.027986</td>\n",
       "      <td>0.027986</td>\n",
       "      <td>0.002028</td>\n",
       "      <td>0.001</td>\n",
       "    </tr>\n",
       "    <tr>\n",
       "      <th>17</th>\n",
       "      <td>0.027276</td>\n",
       "      <td>0.027276</td>\n",
       "      <td>0.002350</td>\n",
       "      <td>0.033425</td>\n",
       "      <td>0.033425</td>\n",
       "      <td>0.002028</td>\n",
       "      <td>0.001</td>\n",
       "    </tr>\n",
       "    <tr>\n",
       "      <th>18</th>\n",
       "      <td>0.026258</td>\n",
       "      <td>0.026258</td>\n",
       "      <td>0.002353</td>\n",
       "      <td>0.033190</td>\n",
       "      <td>0.033190</td>\n",
       "      <td>0.002028</td>\n",
       "      <td>0.001</td>\n",
       "    </tr>\n",
       "    <tr>\n",
       "      <th>19</th>\n",
       "      <td>0.025975</td>\n",
       "      <td>0.025975</td>\n",
       "      <td>0.002353</td>\n",
       "      <td>0.022967</td>\n",
       "      <td>0.022967</td>\n",
       "      <td>0.002028</td>\n",
       "      <td>0.001</td>\n",
       "    </tr>\n",
       "    <tr>\n",
       "      <th>20</th>\n",
       "      <td>0.025825</td>\n",
       "      <td>0.025825</td>\n",
       "      <td>0.002352</td>\n",
       "      <td>0.024515</td>\n",
       "      <td>0.024515</td>\n",
       "      <td>0.002028</td>\n",
       "      <td>0.001</td>\n",
       "    </tr>\n",
       "    <tr>\n",
       "      <th>21</th>\n",
       "      <td>0.025178</td>\n",
       "      <td>0.025178</td>\n",
       "      <td>0.002353</td>\n",
       "      <td>0.027888</td>\n",
       "      <td>0.027888</td>\n",
       "      <td>0.002028</td>\n",
       "      <td>0.001</td>\n",
       "    </tr>\n",
       "    <tr>\n",
       "      <th>22</th>\n",
       "      <td>0.024854</td>\n",
       "      <td>0.024854</td>\n",
       "      <td>0.002353</td>\n",
       "      <td>0.020201</td>\n",
       "      <td>0.020201</td>\n",
       "      <td>0.002028</td>\n",
       "      <td>0.001</td>\n",
       "    </tr>\n",
       "    <tr>\n",
       "      <th>23</th>\n",
       "      <td>0.024415</td>\n",
       "      <td>0.024415</td>\n",
       "      <td>0.002353</td>\n",
       "      <td>0.019483</td>\n",
       "      <td>0.019483</td>\n",
       "      <td>0.002028</td>\n",
       "      <td>0.001</td>\n",
       "    </tr>\n",
       "    <tr>\n",
       "      <th>24</th>\n",
       "      <td>0.024393</td>\n",
       "      <td>0.024393</td>\n",
       "      <td>0.002353</td>\n",
       "      <td>0.023142</td>\n",
       "      <td>0.023142</td>\n",
       "      <td>0.002028</td>\n",
       "      <td>0.001</td>\n",
       "    </tr>\n",
       "    <tr>\n",
       "      <th>25</th>\n",
       "      <td>0.024141</td>\n",
       "      <td>0.024141</td>\n",
       "      <td>0.002353</td>\n",
       "      <td>0.017313</td>\n",
       "      <td>0.017313</td>\n",
       "      <td>0.002028</td>\n",
       "      <td>0.001</td>\n",
       "    </tr>\n",
       "    <tr>\n",
       "      <th>26</th>\n",
       "      <td>0.023927</td>\n",
       "      <td>0.023927</td>\n",
       "      <td>0.002353</td>\n",
       "      <td>0.017279</td>\n",
       "      <td>0.017279</td>\n",
       "      <td>0.002028</td>\n",
       "      <td>0.001</td>\n",
       "    </tr>\n",
       "    <tr>\n",
       "      <th>27</th>\n",
       "      <td>0.023794</td>\n",
       "      <td>0.023794</td>\n",
       "      <td>0.002353</td>\n",
       "      <td>0.017120</td>\n",
       "      <td>0.017120</td>\n",
       "      <td>0.002028</td>\n",
       "      <td>0.001</td>\n",
       "    </tr>\n",
       "    <tr>\n",
       "      <th>28</th>\n",
       "      <td>0.023461</td>\n",
       "      <td>0.023461</td>\n",
       "      <td>0.002353</td>\n",
       "      <td>0.021252</td>\n",
       "      <td>0.021252</td>\n",
       "      <td>0.002028</td>\n",
       "      <td>0.001</td>\n",
       "    </tr>\n",
       "    <tr>\n",
       "      <th>29</th>\n",
       "      <td>0.023457</td>\n",
       "      <td>0.023457</td>\n",
       "      <td>0.002353</td>\n",
       "      <td>0.020988</td>\n",
       "      <td>0.020988</td>\n",
       "      <td>0.002028</td>\n",
       "      <td>0.001</td>\n",
       "    </tr>\n",
       "  </tbody>\n",
       "</table>\n",
       "</div>"
      ],
      "text/plain": [
       "        loss       mae  accuracy  val_loss   val_mae  val_accuracy     lr\n",
       "0   0.071453  0.071453  0.002271  0.028396  0.028396      0.002028  0.001\n",
       "1   0.032105  0.032105  0.002353  0.032326  0.032326      0.002028  0.001\n",
       "2   0.030571  0.030571  0.002353  0.030872  0.030872      0.002028  0.001\n",
       "3   0.030024  0.030024  0.002353  0.029693  0.029693      0.002028  0.001\n",
       "4   0.029864  0.029864  0.002353  0.030732  0.030732      0.002028  0.001\n",
       "5   0.029756  0.029756  0.002353  0.026740  0.026740      0.002028  0.001\n",
       "6   0.029441  0.029441  0.002353  0.036616  0.036616      0.002028  0.001\n",
       "7   0.029374  0.029374  0.002353  0.028471  0.028471      0.002028  0.001\n",
       "8   0.029216  0.029216  0.002353  0.026916  0.026916      0.002028  0.001\n",
       "9   0.029069  0.029069  0.002353  0.029006  0.029006      0.002028  0.001\n",
       "10  0.028995  0.028995  0.002353  0.030855  0.030855      0.002028  0.001\n",
       "11  0.028752  0.028752  0.002353  0.029080  0.029080      0.002028  0.001\n",
       "12  0.029008  0.029008  0.002352  0.028482  0.028482      0.002028  0.001\n",
       "13  0.028439  0.028439  0.002352  0.028266  0.028266      0.002028  0.001\n",
       "14  0.028202  0.028202  0.002353  0.027124  0.027124      0.002028  0.001\n",
       "15  0.027553  0.027553  0.002353  0.024433  0.024433      0.002028  0.001\n",
       "16  0.027175  0.027175  0.002353  0.027986  0.027986      0.002028  0.001\n",
       "17  0.027276  0.027276  0.002350  0.033425  0.033425      0.002028  0.001\n",
       "18  0.026258  0.026258  0.002353  0.033190  0.033190      0.002028  0.001\n",
       "19  0.025975  0.025975  0.002353  0.022967  0.022967      0.002028  0.001\n",
       "20  0.025825  0.025825  0.002352  0.024515  0.024515      0.002028  0.001\n",
       "21  0.025178  0.025178  0.002353  0.027888  0.027888      0.002028  0.001\n",
       "22  0.024854  0.024854  0.002353  0.020201  0.020201      0.002028  0.001\n",
       "23  0.024415  0.024415  0.002353  0.019483  0.019483      0.002028  0.001\n",
       "24  0.024393  0.024393  0.002353  0.023142  0.023142      0.002028  0.001\n",
       "25  0.024141  0.024141  0.002353  0.017313  0.017313      0.002028  0.001\n",
       "26  0.023927  0.023927  0.002353  0.017279  0.017279      0.002028  0.001\n",
       "27  0.023794  0.023794  0.002353  0.017120  0.017120      0.002028  0.001\n",
       "28  0.023461  0.023461  0.002353  0.021252  0.021252      0.002028  0.001\n",
       "29  0.023457  0.023457  0.002353  0.020988  0.020988      0.002028  0.001"
      ]
     },
     "execution_count": 81,
     "metadata": {},
     "output_type": "execute_result"
    }
   ],
   "source": [
    "pd.DataFrame(history.history)"
   ]
  },
  {
   "cell_type": "code",
   "execution_count": 82,
   "id": "affected-beauty",
   "metadata": {},
   "outputs": [],
   "source": [
    "test_x = tf.reshape(test_x_df.iloc[:,3].values, [-1, 1380, 1])"
   ]
  },
  {
   "cell_type": "code",
   "execution_count": 83,
   "id": "difficult-prison",
   "metadata": {},
   "outputs": [
    {
     "data": {
      "text/plain": [
       "TensorShape([760, 1380, 1])"
      ]
     },
     "execution_count": 83,
     "metadata": {},
     "output_type": "execute_result"
    }
   ],
   "source": [
    "auto_x=test_x\n",
    "auto_x.shape"
   ]
  },
  {
   "cell_type": "code",
   "execution_count": 84,
   "id": "desirable-possible",
   "metadata": {},
   "outputs": [],
   "source": [
    "submission=np.zeros((760, 120, 9))"
   ]
  },
  {
   "cell_type": "code",
   "execution_count": 85,
   "id": "comparable-indicator",
   "metadata": {},
   "outputs": [
    {
     "name": "stdout",
     "output_type": "stream",
     "text": [
      "(760, 1440, 1)\n",
      "(760, 1500, 1)\n"
     ]
    }
   ],
   "source": [
    "end_=120\n",
    "output_window = 60\n",
    "\n",
    "for i in range(end_//output_window):\n",
    "    start_ = i *output_window\n",
    "    next_ = model.predict(auto_x[:, -170:, :])\n",
    "    auto_x=tf.concat([auto_x, next_], axis=1)\n",
    "    print(auto_x.shape)\n",
    "    submission[:, start_ : start_ + output_window, :] = next_"
   ]
  },
  {
   "cell_type": "code",
   "execution_count": 86,
   "id": "senior-stockholm",
   "metadata": {},
   "outputs": [
    {
     "data": {
      "image/png": "[encoded data removed]",
      "text/plain": [
       "<Figure size 1440x360 with 1 Axes>"
      ]
     },
     "metadata": {
      "needs_background": "light"
     },
     "output_type": "display_data"
    }
   ],
   "source": [
    "row +=1\n",
    "plt.figure(figsize=(20,5))\n",
    "\n",
    "plt.plot(test_x[row,:, 0])\n",
    "plt.plot(np.arange(test_x.shape[1], test_x.shape[1]+ submission.shape[1]), submission[row, :, 0], label='pred open price')\n",
    "plt.legend()\n",
    "plt.show()"
   ]
  },
  {
   "cell_type": "code",
   "execution_count": 88,
   "id": "dying-columbia",
   "metadata": {},
   "outputs": [],
   "source": [
    "submit_columns = [\n",
    "                  \"sample_id\", \n",
    "                  \"buy_quantity\", \n",
    "                  \"sell_time\"\n",
    "                  ]"
   ]
  },
  {
   "cell_type": "code",
   "execution_count": 89,
   "id": "prerequisite-rocket",
   "metadata": {},
   "outputs": [],
   "source": [
    "sample_submission['buy_quantity'] = 1\n",
    "sample_submission['sell_time']= np.argmax(submission[:,:,0], axis=1)\n",
    "subm = pd.DataFrame(data=sample_submission, columns=submit_columns)"
   ]
  },
  {
   "cell_type": "code",
   "execution_count": 90,
   "id": "turkish-grace",
   "metadata": {},
   "outputs": [],
   "source": [
    "subm.to_csv(\"submission_lstm2.csv\", index=False)"
   ]
  },
  {
   "cell_type": "markdown",
   "id": "functional-vehicle",
   "metadata": {},
   "source": [
    "### Try4 : 정규화, LSTM 깊게"
   ]
  },
  {
   "cell_type": "code",
   "execution_count": 104,
   "id": "painful-somalia",
   "metadata": {},
   "outputs": [
    {
     "name": "stdout",
     "output_type": "stream",
     "text": [
      "0\n",
      ".1\n",
      ".2\n",
      ".3\n",
      ".4\n",
      ".5\n",
      ".6\n",
      ".7\n",
      ".8\n",
      ".9\n",
      ".10\n",
      ".11\n",
      ".12\n",
      ".13\n",
      ".14\n",
      ".15\n",
      ".16\n",
      ".17\n",
      ".18\n",
      ".19\n",
      ".20\n",
      ".21\n",
      ".22\n",
      ".23\n",
      ".24\n",
      ".25\n",
      ".26\n",
      ".27\n",
      ".28\n",
      ".29\n",
      "."
     ]
    }
   ],
   "source": [
    "time        = new_train_x.shape[1] #170\n",
    "num_features= new_train_x.shape[2] #1\n",
    "OUT_STEPS   = new_train_y.shape[1] #60\n",
    "\n",
    "#####층 쌓기###########\n",
    "\n",
    "\n",
    "\n",
    "\n",
    "model=Sequential([\n",
    "LSTM(16, input_shape=(time, num_features), dropout=0.2, recurrent_dropout=0.2),\n",
    "Dense(32),\n",
    "Dense(OUT_STEPS * num_features),\n",
    "Reshape([OUT_STEPS, num_features])\n",
    "])\n",
    "\n",
    "\n",
    "\n",
    "#######Compile 구성하기################\n",
    "\n",
    "\n",
    "model.compile(optimizer='adam', loss='mae', metrics=['mae', 'accuracy'])\n",
    "# 에포크가 끝날 때마다 점(.)을 출력해 훈련 진행 과정을 표시합니다\n",
    "class PrintDot(keras.callbacks.Callback):\n",
    "    def on_epoch_end(self, epoch, logs):\n",
    "        if epoch % 1 == 0: print(epoch)\n",
    "        print('.', end='')\n",
    "\n",
    "#가장 좋은 성능을 낸 val_loss가 적은 model만 남겨 놓았습니다.\n",
    "save_best_only=tf.keras.callbacks.ModelCheckpoint(filepath=\"lstm_model.h5\", monitor='val_loss', save_best_only=True)\n",
    "\n",
    "\n",
    "early_stop = tf.keras.callbacks.EarlyStopping(monitor='val_loss', patience=20)\n",
    "\n",
    "#검증 손실이 10epoch 동안 좋아지지 않으면 학습률을 0.1 배로 재구성하는 명령어입니다.\n",
    "reduceLR = tf.keras.callbacks.ReduceLROnPlateau(monitor='val_loss', factor=0.1, patience=10)\n",
    "\n",
    "\n",
    "######################\n",
    "history = model.fit(new_train_x, new_train_y, epochs=30, batch_size=64, validation_split = 0.2, verbose=0, callbacks=[PrintDot(), early_stop, save_best_only , reduceLR])"
   ]
  },
  {
   "cell_type": "code",
   "execution_count": 105,
   "id": "valuable-sequence",
   "metadata": {},
   "outputs": [
    {
     "data": {
      "text/html": [
       "<div>\n",
       "<style scoped>\n",
       "    .dataframe tbody tr th:only-of-type {\n",
       "        vertical-align: middle;\n",
       "    }\n",
       "\n",
       "    .dataframe tbody tr th {\n",
       "        vertical-align: top;\n",
       "    }\n",
       "\n",
       "    .dataframe thead th {\n",
       "        text-align: right;\n",
       "    }\n",
       "</style>\n",
       "<table border=\"1\" class=\"dataframe\">\n",
       "  <thead>\n",
       "    <tr style=\"text-align: right;\">\n",
       "      <th></th>\n",
       "      <th>loss</th>\n",
       "      <th>mae</th>\n",
       "      <th>accuracy</th>\n",
       "      <th>val_loss</th>\n",
       "      <th>val_mae</th>\n",
       "      <th>val_accuracy</th>\n",
       "      <th>lr</th>\n",
       "    </tr>\n",
       "  </thead>\n",
       "  <tbody>\n",
       "    <tr>\n",
       "      <th>0</th>\n",
       "      <td>0.100875</td>\n",
       "      <td>0.100875</td>\n",
       "      <td>0.002170</td>\n",
       "      <td>0.026407</td>\n",
       "      <td>0.026407</td>\n",
       "      <td>0.002028</td>\n",
       "      <td>0.001</td>\n",
       "    </tr>\n",
       "    <tr>\n",
       "      <th>1</th>\n",
       "      <td>0.027759</td>\n",
       "      <td>0.027759</td>\n",
       "      <td>0.002353</td>\n",
       "      <td>0.027723</td>\n",
       "      <td>0.027723</td>\n",
       "      <td>0.002028</td>\n",
       "      <td>0.001</td>\n",
       "    </tr>\n",
       "    <tr>\n",
       "      <th>2</th>\n",
       "      <td>0.026871</td>\n",
       "      <td>0.026871</td>\n",
       "      <td>0.002353</td>\n",
       "      <td>0.025278</td>\n",
       "      <td>0.025278</td>\n",
       "      <td>0.002028</td>\n",
       "      <td>0.001</td>\n",
       "    </tr>\n",
       "    <tr>\n",
       "      <th>3</th>\n",
       "      <td>0.026584</td>\n",
       "      <td>0.026584</td>\n",
       "      <td>0.002353</td>\n",
       "      <td>0.024984</td>\n",
       "      <td>0.024984</td>\n",
       "      <td>0.002028</td>\n",
       "      <td>0.001</td>\n",
       "    </tr>\n",
       "    <tr>\n",
       "      <th>4</th>\n",
       "      <td>0.026297</td>\n",
       "      <td>0.026297</td>\n",
       "      <td>0.002353</td>\n",
       "      <td>0.025172</td>\n",
       "      <td>0.025172</td>\n",
       "      <td>0.002028</td>\n",
       "      <td>0.001</td>\n",
       "    </tr>\n",
       "    <tr>\n",
       "      <th>5</th>\n",
       "      <td>0.026062</td>\n",
       "      <td>0.026063</td>\n",
       "      <td>0.002353</td>\n",
       "      <td>0.027029</td>\n",
       "      <td>0.027029</td>\n",
       "      <td>0.002028</td>\n",
       "      <td>0.001</td>\n",
       "    </tr>\n",
       "    <tr>\n",
       "      <th>6</th>\n",
       "      <td>0.026138</td>\n",
       "      <td>0.026138</td>\n",
       "      <td>0.002353</td>\n",
       "      <td>0.024671</td>\n",
       "      <td>0.024671</td>\n",
       "      <td>0.002028</td>\n",
       "      <td>0.001</td>\n",
       "    </tr>\n",
       "    <tr>\n",
       "      <th>7</th>\n",
       "      <td>0.025751</td>\n",
       "      <td>0.025751</td>\n",
       "      <td>0.002353</td>\n",
       "      <td>0.024200</td>\n",
       "      <td>0.024200</td>\n",
       "      <td>0.002028</td>\n",
       "      <td>0.001</td>\n",
       "    </tr>\n",
       "    <tr>\n",
       "      <th>8</th>\n",
       "      <td>0.025479</td>\n",
       "      <td>0.025479</td>\n",
       "      <td>0.002353</td>\n",
       "      <td>0.024866</td>\n",
       "      <td>0.024866</td>\n",
       "      <td>0.002028</td>\n",
       "      <td>0.001</td>\n",
       "    </tr>\n",
       "    <tr>\n",
       "      <th>9</th>\n",
       "      <td>0.024728</td>\n",
       "      <td>0.024728</td>\n",
       "      <td>0.002353</td>\n",
       "      <td>0.026789</td>\n",
       "      <td>0.026789</td>\n",
       "      <td>0.002028</td>\n",
       "      <td>0.001</td>\n",
       "    </tr>\n",
       "    <tr>\n",
       "      <th>10</th>\n",
       "      <td>0.023459</td>\n",
       "      <td>0.023459</td>\n",
       "      <td>0.002353</td>\n",
       "      <td>0.022430</td>\n",
       "      <td>0.022430</td>\n",
       "      <td>0.002028</td>\n",
       "      <td>0.001</td>\n",
       "    </tr>\n",
       "    <tr>\n",
       "      <th>11</th>\n",
       "      <td>0.022222</td>\n",
       "      <td>0.022222</td>\n",
       "      <td>0.002353</td>\n",
       "      <td>0.020180</td>\n",
       "      <td>0.020180</td>\n",
       "      <td>0.002028</td>\n",
       "      <td>0.001</td>\n",
       "    </tr>\n",
       "    <tr>\n",
       "      <th>12</th>\n",
       "      <td>0.021245</td>\n",
       "      <td>0.021245</td>\n",
       "      <td>0.002353</td>\n",
       "      <td>0.021599</td>\n",
       "      <td>0.021599</td>\n",
       "      <td>0.002028</td>\n",
       "      <td>0.001</td>\n",
       "    </tr>\n",
       "    <tr>\n",
       "      <th>13</th>\n",
       "      <td>0.020839</td>\n",
       "      <td>0.020839</td>\n",
       "      <td>0.002353</td>\n",
       "      <td>0.017444</td>\n",
       "      <td>0.017444</td>\n",
       "      <td>0.002028</td>\n",
       "      <td>0.001</td>\n",
       "    </tr>\n",
       "    <tr>\n",
       "      <th>14</th>\n",
       "      <td>0.020458</td>\n",
       "      <td>0.020458</td>\n",
       "      <td>0.002353</td>\n",
       "      <td>0.018489</td>\n",
       "      <td>0.018489</td>\n",
       "      <td>0.002028</td>\n",
       "      <td>0.001</td>\n",
       "    </tr>\n",
       "    <tr>\n",
       "      <th>15</th>\n",
       "      <td>0.020055</td>\n",
       "      <td>0.020055</td>\n",
       "      <td>0.002353</td>\n",
       "      <td>0.015313</td>\n",
       "      <td>0.015313</td>\n",
       "      <td>0.002028</td>\n",
       "      <td>0.001</td>\n",
       "    </tr>\n",
       "    <tr>\n",
       "      <th>16</th>\n",
       "      <td>0.019607</td>\n",
       "      <td>0.019607</td>\n",
       "      <td>0.002353</td>\n",
       "      <td>0.016059</td>\n",
       "      <td>0.016059</td>\n",
       "      <td>0.002028</td>\n",
       "      <td>0.001</td>\n",
       "    </tr>\n",
       "    <tr>\n",
       "      <th>17</th>\n",
       "      <td>0.019625</td>\n",
       "      <td>0.019625</td>\n",
       "      <td>0.002353</td>\n",
       "      <td>0.015682</td>\n",
       "      <td>0.015682</td>\n",
       "      <td>0.002028</td>\n",
       "      <td>0.001</td>\n",
       "    </tr>\n",
       "    <tr>\n",
       "      <th>18</th>\n",
       "      <td>0.018893</td>\n",
       "      <td>0.018893</td>\n",
       "      <td>0.002353</td>\n",
       "      <td>0.017424</td>\n",
       "      <td>0.017424</td>\n",
       "      <td>0.002028</td>\n",
       "      <td>0.001</td>\n",
       "    </tr>\n",
       "    <tr>\n",
       "      <th>19</th>\n",
       "      <td>0.019114</td>\n",
       "      <td>0.019114</td>\n",
       "      <td>0.002353</td>\n",
       "      <td>0.012122</td>\n",
       "      <td>0.012122</td>\n",
       "      <td>0.002028</td>\n",
       "      <td>0.001</td>\n",
       "    </tr>\n",
       "    <tr>\n",
       "      <th>20</th>\n",
       "      <td>0.018490</td>\n",
       "      <td>0.018490</td>\n",
       "      <td>0.002353</td>\n",
       "      <td>0.014205</td>\n",
       "      <td>0.014205</td>\n",
       "      <td>0.002028</td>\n",
       "      <td>0.001</td>\n",
       "    </tr>\n",
       "    <tr>\n",
       "      <th>21</th>\n",
       "      <td>0.018294</td>\n",
       "      <td>0.018294</td>\n",
       "      <td>0.002353</td>\n",
       "      <td>0.012169</td>\n",
       "      <td>0.012169</td>\n",
       "      <td>0.002028</td>\n",
       "      <td>0.001</td>\n",
       "    </tr>\n",
       "    <tr>\n",
       "      <th>22</th>\n",
       "      <td>0.018198</td>\n",
       "      <td>0.018198</td>\n",
       "      <td>0.002353</td>\n",
       "      <td>0.012538</td>\n",
       "      <td>0.012538</td>\n",
       "      <td>0.002028</td>\n",
       "      <td>0.001</td>\n",
       "    </tr>\n",
       "    <tr>\n",
       "      <th>23</th>\n",
       "      <td>0.018003</td>\n",
       "      <td>0.018003</td>\n",
       "      <td>0.002353</td>\n",
       "      <td>0.012557</td>\n",
       "      <td>0.012557</td>\n",
       "      <td>0.002028</td>\n",
       "      <td>0.001</td>\n",
       "    </tr>\n",
       "    <tr>\n",
       "      <th>24</th>\n",
       "      <td>0.017550</td>\n",
       "      <td>0.017550</td>\n",
       "      <td>0.002353</td>\n",
       "      <td>0.016990</td>\n",
       "      <td>0.016990</td>\n",
       "      <td>0.002028</td>\n",
       "      <td>0.001</td>\n",
       "    </tr>\n",
       "    <tr>\n",
       "      <th>25</th>\n",
       "      <td>0.017363</td>\n",
       "      <td>0.017363</td>\n",
       "      <td>0.002353</td>\n",
       "      <td>0.013433</td>\n",
       "      <td>0.013433</td>\n",
       "      <td>0.002028</td>\n",
       "      <td>0.001</td>\n",
       "    </tr>\n",
       "    <tr>\n",
       "      <th>26</th>\n",
       "      <td>0.017257</td>\n",
       "      <td>0.017257</td>\n",
       "      <td>0.002353</td>\n",
       "      <td>0.013486</td>\n",
       "      <td>0.013486</td>\n",
       "      <td>0.002028</td>\n",
       "      <td>0.001</td>\n",
       "    </tr>\n",
       "    <tr>\n",
       "      <th>27</th>\n",
       "      <td>0.016923</td>\n",
       "      <td>0.016923</td>\n",
       "      <td>0.002353</td>\n",
       "      <td>0.013435</td>\n",
       "      <td>0.013435</td>\n",
       "      <td>0.002028</td>\n",
       "      <td>0.001</td>\n",
       "    </tr>\n",
       "    <tr>\n",
       "      <th>28</th>\n",
       "      <td>0.016901</td>\n",
       "      <td>0.016901</td>\n",
       "      <td>0.002353</td>\n",
       "      <td>0.012676</td>\n",
       "      <td>0.012676</td>\n",
       "      <td>0.002028</td>\n",
       "      <td>0.001</td>\n",
       "    </tr>\n",
       "    <tr>\n",
       "      <th>29</th>\n",
       "      <td>0.017017</td>\n",
       "      <td>0.017017</td>\n",
       "      <td>0.002353</td>\n",
       "      <td>0.011746</td>\n",
       "      <td>0.011746</td>\n",
       "      <td>0.002028</td>\n",
       "      <td>0.001</td>\n",
       "    </tr>\n",
       "  </tbody>\n",
       "</table>\n",
       "</div>"
      ],
      "text/plain": [
       "        loss       mae  accuracy  val_loss   val_mae  val_accuracy     lr\n",
       "0   0.100875  0.100875  0.002170  0.026407  0.026407      0.002028  0.001\n",
       "1   0.027759  0.027759  0.002353  0.027723  0.027723      0.002028  0.001\n",
       "2   0.026871  0.026871  0.002353  0.025278  0.025278      0.002028  0.001\n",
       "3   0.026584  0.026584  0.002353  0.024984  0.024984      0.002028  0.001\n",
       "4   0.026297  0.026297  0.002353  0.025172  0.025172      0.002028  0.001\n",
       "5   0.026062  0.026063  0.002353  0.027029  0.027029      0.002028  0.001\n",
       "6   0.026138  0.026138  0.002353  0.024671  0.024671      0.002028  0.001\n",
       "7   0.025751  0.025751  0.002353  0.024200  0.024200      0.002028  0.001\n",
       "8   0.025479  0.025479  0.002353  0.024866  0.024866      0.002028  0.001\n",
       "9   0.024728  0.024728  0.002353  0.026789  0.026789      0.002028  0.001\n",
       "10  0.023459  0.023459  0.002353  0.022430  0.022430      0.002028  0.001\n",
       "11  0.022222  0.022222  0.002353  0.020180  0.020180      0.002028  0.001\n",
       "12  0.021245  0.021245  0.002353  0.021599  0.021599      0.002028  0.001\n",
       "13  0.020839  0.020839  0.002353  0.017444  0.017444      0.002028  0.001\n",
       "14  0.020458  0.020458  0.002353  0.018489  0.018489      0.002028  0.001\n",
       "15  0.020055  0.020055  0.002353  0.015313  0.015313      0.002028  0.001\n",
       "16  0.019607  0.019607  0.002353  0.016059  0.016059      0.002028  0.001\n",
       "17  0.019625  0.019625  0.002353  0.015682  0.015682      0.002028  0.001\n",
       "18  0.018893  0.018893  0.002353  0.017424  0.017424      0.002028  0.001\n",
       "19  0.019114  0.019114  0.002353  0.012122  0.012122      0.002028  0.001\n",
       "20  0.018490  0.018490  0.002353  0.014205  0.014205      0.002028  0.001\n",
       "21  0.018294  0.018294  0.002353  0.012169  0.012169      0.002028  0.001\n",
       "22  0.018198  0.018198  0.002353  0.012538  0.012538      0.002028  0.001\n",
       "23  0.018003  0.018003  0.002353  0.012557  0.012557      0.002028  0.001\n",
       "24  0.017550  0.017550  0.002353  0.016990  0.016990      0.002028  0.001\n",
       "25  0.017363  0.017363  0.002353  0.013433  0.013433      0.002028  0.001\n",
       "26  0.017257  0.017257  0.002353  0.013486  0.013486      0.002028  0.001\n",
       "27  0.016923  0.016923  0.002353  0.013435  0.013435      0.002028  0.001\n",
       "28  0.016901  0.016901  0.002353  0.012676  0.012676      0.002028  0.001\n",
       "29  0.017017  0.017017  0.002353  0.011746  0.011746      0.002028  0.001"
      ]
     },
     "execution_count": 105,
     "metadata": {},
     "output_type": "execute_result"
    }
   ],
   "source": [
    "pd.DataFrame(history.history)"
   ]
  },
  {
   "cell_type": "code",
   "execution_count": 106,
   "id": "enhanced-explosion",
   "metadata": {},
   "outputs": [],
   "source": [
    "test_x = tf.reshape(test_x_df.iloc[:,3].values, [-1, 1380, 1])"
   ]
  },
  {
   "cell_type": "code",
   "execution_count": 107,
   "id": "seasonal-visibility",
   "metadata": {},
   "outputs": [
    {
     "data": {
      "text/plain": [
       "TensorShape([760, 1380, 1])"
      ]
     },
     "execution_count": 107,
     "metadata": {},
     "output_type": "execute_result"
    }
   ],
   "source": [
    "auto_x=test_x\n",
    "auto_x.shape"
   ]
  },
  {
   "cell_type": "code",
   "execution_count": 108,
   "id": "consolidated-resistance",
   "metadata": {},
   "outputs": [],
   "source": [
    "submission=np.zeros((760, 120, 9))"
   ]
  },
  {
   "cell_type": "code",
   "execution_count": 109,
   "id": "finished-incentive",
   "metadata": {},
   "outputs": [
    {
     "name": "stdout",
     "output_type": "stream",
     "text": [
      "(760, 1440, 1)\n",
      "(760, 1500, 1)\n"
     ]
    }
   ],
   "source": [
    "end_=120\n",
    "output_window = 60\n",
    "\n",
    "for i in range(end_//output_window):\n",
    "    start_ = i *output_window\n",
    "    next_ = model.predict(auto_x[:, -170:, :])\n",
    "    auto_x=tf.concat([auto_x, next_], axis=1)\n",
    "    print(auto_x.shape)\n",
    "    submission[:, start_ : start_ + output_window, :] = next_"
   ]
  },
  {
   "cell_type": "code",
   "execution_count": 110,
   "id": "unlikely-annotation",
   "metadata": {},
   "outputs": [
    {
     "data": {
      "image/png": "[encoded data removed]",
      "text/plain": [
       "<Figure size 1440x360 with 1 Axes>"
      ]
     },
     "metadata": {
      "needs_background": "light"
     },
     "output_type": "display_data"
    }
   ],
   "source": [
    "row +=1\n",
    "plt.figure(figsize=(20,5))\n",
    "\n",
    "plt.plot(test_x[row,:, 0])\n",
    "plt.plot(np.arange(test_x.shape[1], test_x.shape[1]+ submission.shape[1]), submission[row, :, 0], label='pred open price')\n",
    "plt.legend()\n",
    "plt.show()"
   ]
  },
  {
   "cell_type": "code",
   "execution_count": 111,
   "id": "intended-certificate",
   "metadata": {},
   "outputs": [],
   "source": [
    "submit_columns = [\n",
    "                  \"sample_id\", \n",
    "                  \"buy_quantity\", \n",
    "                  \"sell_time\"\n",
    "                  ]"
   ]
  },
  {
   "cell_type": "code",
   "execution_count": 112,
   "id": "compliant-ceiling",
   "metadata": {},
   "outputs": [],
   "source": [
    "sample_submission['buy_quantity'] = 1\n",
    "sample_submission['sell_time']= np.argmax(submission[:,:,0], axis=1)\n",
    "subm = pd.DataFrame(data=sample_submission, columns=submit_columns)"
   ]
  },
  {
   "cell_type": "code",
   "execution_count": 113,
   "id": "neither-morrison",
   "metadata": {},
   "outputs": [],
   "source": [
    "subm.to_csv(\"submission_lstm3.csv\", index=False)"
   ]
  },
  {
   "cell_type": "markdown",
   "id": "increasing-mention",
   "metadata": {},
   "source": [
    "### Try4 : 정규화, GRU 깊게"
   ]
  },
  {
   "cell_type": "code",
   "execution_count": 114,
   "id": "complete-wildlife",
   "metadata": {},
   "outputs": [
    {
     "name": "stdout",
     "output_type": "stream",
     "text": [
      "0\n",
      ".1\n",
      ".2\n",
      ".3\n",
      ".4\n",
      ".5\n",
      ".6\n",
      ".7\n",
      ".8\n",
      ".9\n",
      ".10\n",
      ".11\n",
      ".12\n",
      ".13\n",
      ".14\n",
      ".15\n",
      ".16\n",
      ".17\n",
      ".18\n",
      ".19\n",
      ".20\n",
      ".21\n",
      ".22\n",
      ".23\n",
      ".24\n",
      ".25\n",
      ".26\n",
      ".27\n",
      ".28\n",
      ".29\n",
      "."
     ]
    }
   ],
   "source": [
    "time        = new_train_x.shape[1] #170\n",
    "num_features= new_train_x.shape[2] #1\n",
    "OUT_STEPS   = new_train_y.shape[1] #60\n",
    "\n",
    "#####층 쌓기###########\n",
    "\n",
    "\n",
    "\n",
    "\n",
    "model=Sequential([\n",
    "GRU(16, input_shape=(time, num_features), dropout=0.2, recurrent_dropout=0.2),\n",
    "Dense(32),\n",
    "Dense(OUT_STEPS * num_features),\n",
    "Reshape([OUT_STEPS, num_features])\n",
    "])\n",
    "\n",
    "\n",
    "\n",
    "#######Compile 구성하기################\n",
    "\n",
    "\n",
    "model.compile(optimizer='adam', loss='mae', metrics=['mae', 'accuracy'])\n",
    "# 에포크가 끝날 때마다 점(.)을 출력해 훈련 진행 과정을 표시합니다\n",
    "class PrintDot(keras.callbacks.Callback):\n",
    "    def on_epoch_end(self, epoch, logs):\n",
    "        if epoch % 1 == 0: print(epoch)\n",
    "        print('.', end='')\n",
    "\n",
    "#가장 좋은 성능을 낸 val_loss가 적은 model만 남겨 놓았습니다.\n",
    "save_best_only=tf.keras.callbacks.ModelCheckpoint(filepath=\"lstm_model.h5\", monitor='val_loss', save_best_only=True)\n",
    "\n",
    "\n",
    "early_stop = tf.keras.callbacks.EarlyStopping(monitor='val_loss', patience=20)\n",
    "\n",
    "#검증 손실이 10epoch 동안 좋아지지 않으면 학습률을 0.1 배로 재구성하는 명령어입니다.\n",
    "reduceLR = tf.keras.callbacks.ReduceLROnPlateau(monitor='val_loss', factor=0.1, patience=10)\n",
    "\n",
    "\n",
    "######################\n",
    "history = model.fit(new_train_x, new_train_y, epochs=30, batch_size=64, validation_split = 0.2, verbose=0, callbacks=[PrintDot(), early_stop, save_best_only , reduceLR])"
   ]
  },
  {
   "cell_type": "code",
   "execution_count": 115,
   "id": "human-picture",
   "metadata": {},
   "outputs": [
    {
     "data": {
      "text/html": [
       "<div>\n",
       "<style scoped>\n",
       "    .dataframe tbody tr th:only-of-type {\n",
       "        vertical-align: middle;\n",
       "    }\n",
       "\n",
       "    .dataframe tbody tr th {\n",
       "        vertical-align: top;\n",
       "    }\n",
       "\n",
       "    .dataframe thead th {\n",
       "        text-align: right;\n",
       "    }\n",
       "</style>\n",
       "<table border=\"1\" class=\"dataframe\">\n",
       "  <thead>\n",
       "    <tr style=\"text-align: right;\">\n",
       "      <th></th>\n",
       "      <th>loss</th>\n",
       "      <th>mae</th>\n",
       "      <th>accuracy</th>\n",
       "      <th>val_loss</th>\n",
       "      <th>val_mae</th>\n",
       "      <th>val_accuracy</th>\n",
       "      <th>lr</th>\n",
       "    </tr>\n",
       "  </thead>\n",
       "  <tbody>\n",
       "    <tr>\n",
       "      <th>0</th>\n",
       "      <td>0.104206</td>\n",
       "      <td>0.104206</td>\n",
       "      <td>0.002205</td>\n",
       "      <td>0.031862</td>\n",
       "      <td>0.031862</td>\n",
       "      <td>0.002028</td>\n",
       "      <td>0.0010</td>\n",
       "    </tr>\n",
       "    <tr>\n",
       "      <th>1</th>\n",
       "      <td>0.025232</td>\n",
       "      <td>0.025232</td>\n",
       "      <td>0.002353</td>\n",
       "      <td>0.022076</td>\n",
       "      <td>0.022076</td>\n",
       "      <td>0.002028</td>\n",
       "      <td>0.0010</td>\n",
       "    </tr>\n",
       "    <tr>\n",
       "      <th>2</th>\n",
       "      <td>0.024548</td>\n",
       "      <td>0.024548</td>\n",
       "      <td>0.002353</td>\n",
       "      <td>0.022105</td>\n",
       "      <td>0.022105</td>\n",
       "      <td>0.002028</td>\n",
       "      <td>0.0010</td>\n",
       "    </tr>\n",
       "    <tr>\n",
       "      <th>3</th>\n",
       "      <td>0.023899</td>\n",
       "      <td>0.023899</td>\n",
       "      <td>0.002353</td>\n",
       "      <td>0.021009</td>\n",
       "      <td>0.021009</td>\n",
       "      <td>0.002028</td>\n",
       "      <td>0.0010</td>\n",
       "    </tr>\n",
       "    <tr>\n",
       "      <th>4</th>\n",
       "      <td>0.023465</td>\n",
       "      <td>0.023465</td>\n",
       "      <td>0.002353</td>\n",
       "      <td>0.019751</td>\n",
       "      <td>0.019751</td>\n",
       "      <td>0.002028</td>\n",
       "      <td>0.0010</td>\n",
       "    </tr>\n",
       "    <tr>\n",
       "      <th>5</th>\n",
       "      <td>0.022778</td>\n",
       "      <td>0.022778</td>\n",
       "      <td>0.002353</td>\n",
       "      <td>0.020254</td>\n",
       "      <td>0.020254</td>\n",
       "      <td>0.002028</td>\n",
       "      <td>0.0010</td>\n",
       "    </tr>\n",
       "    <tr>\n",
       "      <th>6</th>\n",
       "      <td>0.022243</td>\n",
       "      <td>0.022243</td>\n",
       "      <td>0.002353</td>\n",
       "      <td>0.020792</td>\n",
       "      <td>0.020792</td>\n",
       "      <td>0.002028</td>\n",
       "      <td>0.0010</td>\n",
       "    </tr>\n",
       "    <tr>\n",
       "      <th>7</th>\n",
       "      <td>0.021873</td>\n",
       "      <td>0.021873</td>\n",
       "      <td>0.002353</td>\n",
       "      <td>0.018475</td>\n",
       "      <td>0.018475</td>\n",
       "      <td>0.002028</td>\n",
       "      <td>0.0010</td>\n",
       "    </tr>\n",
       "    <tr>\n",
       "      <th>8</th>\n",
       "      <td>0.021188</td>\n",
       "      <td>0.021188</td>\n",
       "      <td>0.002353</td>\n",
       "      <td>0.016034</td>\n",
       "      <td>0.016034</td>\n",
       "      <td>0.002028</td>\n",
       "      <td>0.0010</td>\n",
       "    </tr>\n",
       "    <tr>\n",
       "      <th>9</th>\n",
       "      <td>0.020861</td>\n",
       "      <td>0.020861</td>\n",
       "      <td>0.002353</td>\n",
       "      <td>0.015350</td>\n",
       "      <td>0.015350</td>\n",
       "      <td>0.002028</td>\n",
       "      <td>0.0010</td>\n",
       "    </tr>\n",
       "    <tr>\n",
       "      <th>10</th>\n",
       "      <td>0.020583</td>\n",
       "      <td>0.020583</td>\n",
       "      <td>0.002353</td>\n",
       "      <td>0.016735</td>\n",
       "      <td>0.016735</td>\n",
       "      <td>0.002028</td>\n",
       "      <td>0.0010</td>\n",
       "    </tr>\n",
       "    <tr>\n",
       "      <th>11</th>\n",
       "      <td>0.020184</td>\n",
       "      <td>0.020184</td>\n",
       "      <td>0.002353</td>\n",
       "      <td>0.022645</td>\n",
       "      <td>0.022645</td>\n",
       "      <td>0.002028</td>\n",
       "      <td>0.0010</td>\n",
       "    </tr>\n",
       "    <tr>\n",
       "      <th>12</th>\n",
       "      <td>0.019824</td>\n",
       "      <td>0.019824</td>\n",
       "      <td>0.002353</td>\n",
       "      <td>0.014808</td>\n",
       "      <td>0.014808</td>\n",
       "      <td>0.002028</td>\n",
       "      <td>0.0010</td>\n",
       "    </tr>\n",
       "    <tr>\n",
       "      <th>13</th>\n",
       "      <td>0.019505</td>\n",
       "      <td>0.019505</td>\n",
       "      <td>0.002353</td>\n",
       "      <td>0.017072</td>\n",
       "      <td>0.017072</td>\n",
       "      <td>0.002028</td>\n",
       "      <td>0.0010</td>\n",
       "    </tr>\n",
       "    <tr>\n",
       "      <th>14</th>\n",
       "      <td>0.019243</td>\n",
       "      <td>0.019243</td>\n",
       "      <td>0.002353</td>\n",
       "      <td>0.013937</td>\n",
       "      <td>0.013937</td>\n",
       "      <td>0.002028</td>\n",
       "      <td>0.0010</td>\n",
       "    </tr>\n",
       "    <tr>\n",
       "      <th>15</th>\n",
       "      <td>0.019085</td>\n",
       "      <td>0.019085</td>\n",
       "      <td>0.002353</td>\n",
       "      <td>0.013563</td>\n",
       "      <td>0.013563</td>\n",
       "      <td>0.002028</td>\n",
       "      <td>0.0010</td>\n",
       "    </tr>\n",
       "    <tr>\n",
       "      <th>16</th>\n",
       "      <td>0.018710</td>\n",
       "      <td>0.018710</td>\n",
       "      <td>0.002353</td>\n",
       "      <td>0.013783</td>\n",
       "      <td>0.013783</td>\n",
       "      <td>0.002028</td>\n",
       "      <td>0.0010</td>\n",
       "    </tr>\n",
       "    <tr>\n",
       "      <th>17</th>\n",
       "      <td>0.018615</td>\n",
       "      <td>0.018615</td>\n",
       "      <td>0.002353</td>\n",
       "      <td>0.016960</td>\n",
       "      <td>0.016960</td>\n",
       "      <td>0.002028</td>\n",
       "      <td>0.0010</td>\n",
       "    </tr>\n",
       "    <tr>\n",
       "      <th>18</th>\n",
       "      <td>0.018386</td>\n",
       "      <td>0.018386</td>\n",
       "      <td>0.002353</td>\n",
       "      <td>0.014877</td>\n",
       "      <td>0.014877</td>\n",
       "      <td>0.002028</td>\n",
       "      <td>0.0010</td>\n",
       "    </tr>\n",
       "    <tr>\n",
       "      <th>19</th>\n",
       "      <td>0.017983</td>\n",
       "      <td>0.017983</td>\n",
       "      <td>0.002353</td>\n",
       "      <td>0.028357</td>\n",
       "      <td>0.028357</td>\n",
       "      <td>0.002028</td>\n",
       "      <td>0.0010</td>\n",
       "    </tr>\n",
       "    <tr>\n",
       "      <th>20</th>\n",
       "      <td>0.017774</td>\n",
       "      <td>0.017774</td>\n",
       "      <td>0.002353</td>\n",
       "      <td>0.020308</td>\n",
       "      <td>0.020308</td>\n",
       "      <td>0.002028</td>\n",
       "      <td>0.0010</td>\n",
       "    </tr>\n",
       "    <tr>\n",
       "      <th>21</th>\n",
       "      <td>0.017290</td>\n",
       "      <td>0.017290</td>\n",
       "      <td>0.002353</td>\n",
       "      <td>0.029025</td>\n",
       "      <td>0.029025</td>\n",
       "      <td>0.002028</td>\n",
       "      <td>0.0010</td>\n",
       "    </tr>\n",
       "    <tr>\n",
       "      <th>22</th>\n",
       "      <td>0.017341</td>\n",
       "      <td>0.017341</td>\n",
       "      <td>0.002353</td>\n",
       "      <td>0.037413</td>\n",
       "      <td>0.037413</td>\n",
       "      <td>0.002028</td>\n",
       "      <td>0.0010</td>\n",
       "    </tr>\n",
       "    <tr>\n",
       "      <th>23</th>\n",
       "      <td>0.016704</td>\n",
       "      <td>0.016704</td>\n",
       "      <td>0.002353</td>\n",
       "      <td>0.048432</td>\n",
       "      <td>0.048432</td>\n",
       "      <td>0.002028</td>\n",
       "      <td>0.0010</td>\n",
       "    </tr>\n",
       "    <tr>\n",
       "      <th>24</th>\n",
       "      <td>0.016597</td>\n",
       "      <td>0.016597</td>\n",
       "      <td>0.002353</td>\n",
       "      <td>0.053405</td>\n",
       "      <td>0.053405</td>\n",
       "      <td>0.002028</td>\n",
       "      <td>0.0010</td>\n",
       "    </tr>\n",
       "    <tr>\n",
       "      <th>25</th>\n",
       "      <td>0.016102</td>\n",
       "      <td>0.016102</td>\n",
       "      <td>0.002353</td>\n",
       "      <td>0.037275</td>\n",
       "      <td>0.037275</td>\n",
       "      <td>0.002028</td>\n",
       "      <td>0.0010</td>\n",
       "    </tr>\n",
       "    <tr>\n",
       "      <th>26</th>\n",
       "      <td>0.015055</td>\n",
       "      <td>0.015055</td>\n",
       "      <td>0.002353</td>\n",
       "      <td>0.052119</td>\n",
       "      <td>0.052119</td>\n",
       "      <td>0.002028</td>\n",
       "      <td>0.0001</td>\n",
       "    </tr>\n",
       "    <tr>\n",
       "      <th>27</th>\n",
       "      <td>0.014848</td>\n",
       "      <td>0.014848</td>\n",
       "      <td>0.002353</td>\n",
       "      <td>0.052817</td>\n",
       "      <td>0.052817</td>\n",
       "      <td>0.002028</td>\n",
       "      <td>0.0001</td>\n",
       "    </tr>\n",
       "    <tr>\n",
       "      <th>28</th>\n",
       "      <td>0.014847</td>\n",
       "      <td>0.014847</td>\n",
       "      <td>0.002353</td>\n",
       "      <td>0.053718</td>\n",
       "      <td>0.053718</td>\n",
       "      <td>0.002028</td>\n",
       "      <td>0.0001</td>\n",
       "    </tr>\n",
       "    <tr>\n",
       "      <th>29</th>\n",
       "      <td>0.014820</td>\n",
       "      <td>0.014820</td>\n",
       "      <td>0.002353</td>\n",
       "      <td>0.058680</td>\n",
       "      <td>0.058680</td>\n",
       "      <td>0.002028</td>\n",
       "      <td>0.0001</td>\n",
       "    </tr>\n",
       "  </tbody>\n",
       "</table>\n",
       "</div>"
      ],
      "text/plain": [
       "        loss       mae  accuracy  val_loss   val_mae  val_accuracy      lr\n",
       "0   0.104206  0.104206  0.002205  0.031862  0.031862      0.002028  0.0010\n",
       "1   0.025232  0.025232  0.002353  0.022076  0.022076      0.002028  0.0010\n",
       "2   0.024548  0.024548  0.002353  0.022105  0.022105      0.002028  0.0010\n",
       "3   0.023899  0.023899  0.002353  0.021009  0.021009      0.002028  0.0010\n",
       "4   0.023465  0.023465  0.002353  0.019751  0.019751      0.002028  0.0010\n",
       "5   0.022778  0.022778  0.002353  0.020254  0.020254      0.002028  0.0010\n",
       "6   0.022243  0.022243  0.002353  0.020792  0.020792      0.002028  0.0010\n",
       "7   0.021873  0.021873  0.002353  0.018475  0.018475      0.002028  0.0010\n",
       "8   0.021188  0.021188  0.002353  0.016034  0.016034      0.002028  0.0010\n",
       "9   0.020861  0.020861  0.002353  0.015350  0.015350      0.002028  0.0010\n",
       "10  0.020583  0.020583  0.002353  0.016735  0.016735      0.002028  0.0010\n",
       "11  0.020184  0.020184  0.002353  0.022645  0.022645      0.002028  0.0010\n",
       "12  0.019824  0.019824  0.002353  0.014808  0.014808      0.002028  0.0010\n",
       "13  0.019505  0.019505  0.002353  0.017072  0.017072      0.002028  0.0010\n",
       "14  0.019243  0.019243  0.002353  0.013937  0.013937      0.002028  0.0010\n",
       "15  0.019085  0.019085  0.002353  0.013563  0.013563      0.002028  0.0010\n",
       "16  0.018710  0.018710  0.002353  0.013783  0.013783      0.002028  0.0010\n",
       "17  0.018615  0.018615  0.002353  0.016960  0.016960      0.002028  0.0010\n",
       "18  0.018386  0.018386  0.002353  0.014877  0.014877      0.002028  0.0010\n",
       "19  0.017983  0.017983  0.002353  0.028357  0.028357      0.002028  0.0010\n",
       "20  0.017774  0.017774  0.002353  0.020308  0.020308      0.002028  0.0010\n",
       "21  0.017290  0.017290  0.002353  0.029025  0.029025      0.002028  0.0010\n",
       "22  0.017341  0.017341  0.002353  0.037413  0.037413      0.002028  0.0010\n",
       "23  0.016704  0.016704  0.002353  0.048432  0.048432      0.002028  0.0010\n",
       "24  0.016597  0.016597  0.002353  0.053405  0.053405      0.002028  0.0010\n",
       "25  0.016102  0.016102  0.002353  0.037275  0.037275      0.002028  0.0010\n",
       "26  0.015055  0.015055  0.002353  0.052119  0.052119      0.002028  0.0001\n",
       "27  0.014848  0.014848  0.002353  0.052817  0.052817      0.002028  0.0001\n",
       "28  0.014847  0.014847  0.002353  0.053718  0.053718      0.002028  0.0001\n",
       "29  0.014820  0.014820  0.002353  0.058680  0.058680      0.002028  0.0001"
      ]
     },
     "execution_count": 115,
     "metadata": {},
     "output_type": "execute_result"
    }
   ],
   "source": [
    "pd.DataFrame(history.history)"
   ]
  },
  {
   "cell_type": "code",
   "execution_count": 116,
   "id": "electoral-maple",
   "metadata": {},
   "outputs": [
    {
     "data": {
      "text/plain": [
       "TensorShape([760, 1380, 1])"
      ]
     },
     "execution_count": 116,
     "metadata": {},
     "output_type": "execute_result"
    }
   ],
   "source": [
    "auto_x=test_x\n",
    "auto_x.shape"
   ]
  },
  {
   "cell_type": "code",
   "execution_count": 117,
   "id": "suitable-essex",
   "metadata": {},
   "outputs": [],
   "source": [
    "submission=np.zeros((760, 120, 9))"
   ]
  },
  {
   "cell_type": "code",
   "execution_count": 118,
   "id": "dental-moore",
   "metadata": {},
   "outputs": [
    {
     "name": "stdout",
     "output_type": "stream",
     "text": [
      "(760, 1440, 1)\n",
      "(760, 1500, 1)\n"
     ]
    }
   ],
   "source": [
    "end_=120\n",
    "output_window = 60\n",
    "\n",
    "for i in range(end_//output_window):\n",
    "    start_ = i *output_window\n",
    "    next_ = model.predict(auto_x[:, -170:, :])\n",
    "    auto_x=tf.concat([auto_x, next_], axis=1)\n",
    "    print(auto_x.shape)\n",
    "    submission[:, start_ : start_ + output_window, :] = next_"
   ]
  },
  {
   "cell_type": "code",
   "execution_count": 119,
   "id": "optional-level",
   "metadata": {},
   "outputs": [
    {
     "data": {
      "image/png": "[encoded data removed]",
      "text/plain": [
       "<Figure size 1440x360 with 1 Axes>"
      ]
     },
     "metadata": {
      "needs_background": "light"
     },
     "output_type": "display_data"
    }
   ],
   "source": [
    "row +=1\n",
    "plt.figure(figsize=(20,5))\n",
    "\n",
    "plt.plot(test_x[row,:, 0])\n",
    "plt.plot(np.arange(test_x.shape[1], test_x.shape[1]+ submission.shape[1]), submission[row, :, 0], label='pred open price')\n",
    "plt.legend()\n",
    "plt.show()"
   ]
  },
  {
   "cell_type": "code",
   "execution_count": 120,
   "id": "driving-package",
   "metadata": {},
   "outputs": [],
   "source": [
    "submit_columns = [\n",
    "                  \"sample_id\", \n",
    "                  \"buy_quantity\", \n",
    "                  \"sell_time\"\n",
    "                  ]"
   ]
  },
  {
   "cell_type": "code",
   "execution_count": 121,
   "id": "protected-edition",
   "metadata": {},
   "outputs": [],
   "source": [
    "sample_submission['buy_quantity'] = 1\n",
    "sample_submission['sell_time']= np.argmax(submission[:,:,0], axis=1)\n",
    "subm = pd.DataFrame(data=sample_submission, columns=submit_columns)"
   ]
  },
  {
   "cell_type": "code",
   "execution_count": 122,
   "id": "crucial-habitat",
   "metadata": {},
   "outputs": [],
   "source": [
    "subm.to_csv(\"submission_gru2.csv\", index=False)"
   ]
  }
 ],
 "metadata": {
  "accelerator": "GPU",
  "colab": {
   "name": "lstm_last.ipynb",
   "provenance": []
  },
  "kernelspec": {
   "display_name": "Python 3",
   "language": "python",
   "name": "python3"
  },
  "language_info": {
   "codemirror_mode": {
    "name": "ipython",
    "version": 3
   },
   "file_extension": ".py",
   "mimetype": "text/x-python",
   "name": "python",
   "nbconvert_exporter": "python",
   "pygments_lexer": "ipython3",
   "version": "3.8.8"
  }
 },
 "nbformat": 4,
 "nbformat_minor": 5
}
