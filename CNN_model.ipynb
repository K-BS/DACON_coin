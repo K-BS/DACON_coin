{
 "cells": [
  {
   "cell_type": "code",
   "execution_count": 1,
   "id": "inside-transcript",
   "metadata": {},
   "outputs": [
    {
     "name": "stdout",
     "output_type": "stream",
     "text": [
      "Requirement already satisfied: scikit-learn in c:\\users\\kbs77\\anaconda3\\envs\\tensorf\\lib\\site-packages (0.24.1)\n",
      "Requirement already satisfied: numpy>=1.13.3 in c:\\users\\kbs77\\anaconda3\\envs\\tensorf\\lib\\site-packages (from scikit-learn) (1.19.2)\n",
      "Requirement already satisfied: joblib>=0.11 in c:\\users\\kbs77\\anaconda3\\envs\\tensorf\\lib\\site-packages (from scikit-learn) (1.0.1)\n",
      "Requirement already satisfied: scipy>=0.19.1 in c:\\users\\kbs77\\anaconda3\\envs\\tensorf\\lib\\site-packages (from scikit-learn) (1.6.1)\n",
      "Requirement already satisfied: threadpoolctl>=2.0.0 in c:\\users\\kbs77\\anaconda3\\envs\\tensorf\\lib\\site-packages (from scikit-learn) (2.1.0)\n"
     ]
    }
   ],
   "source": [
    "!pip install scikit-learn"
   ]
  },
  {
   "cell_type": "code",
   "execution_count": 2,
   "id": "cathedral-distance",
   "metadata": {},
   "outputs": [],
   "source": [
    "import os\n",
    "import numpy as np # linear algebra\n",
    "import pandas as pd # data processing, CSV file I/O (e.g. pd.read_csv)\n",
    "import tensorflow.keras as keras\n",
    "import tensorflow.keras.backend as K\n",
    "import matplotlib.pyplot as plt\n",
    "import seaborn as sns\n",
    "\n",
    "from collections import Counter\n",
    "from sklearn.model_selection import train_test_split\n",
    "from tensorflow.keras.models import Sequential\n",
    "from tensorflow.keras.layers import Dense, Activation, Conv2D, Flatten,MaxPooling2D,BatchNormalization,Lambda, AveragePooling2D, Dropout, SpatialDropout2D\n",
    "from tensorflow.keras.callbacks import ModelCheckpoint\n",
    "from tensorflow.keras.models import load_model"
   ]
  },
  {
   "cell_type": "code",
   "execution_count": 3,
   "id": "mature-closure",
   "metadata": {},
   "outputs": [],
   "source": [
    "train_x = pd.read_csv(r\"C:\\Users\\kbs77\\coin\\train_x_df.csv\")\n",
    "train_y = pd.read_csv(r\"C:\\Users\\kbs77\\coin\\train_y_df.csv\")\n",
    "test_x = pd.read_csv(r\"C:\\Users\\kbs77\\coin\\test_x_df.csv\")\n",
    "sample_submission = pd.read_csv(r\"C:\\Users\\kbs77\\coin\\sample_submission.csv\")"
   ]
  },
  {
   "cell_type": "markdown",
   "id": "basic-request",
   "metadata": {},
   "source": [
    "**iloc함수를 이용하여 첫 두 컬럼(sample_id, coin_index)을 제외하고 CNN모델에 적용하기 위해 reshape**"
   ]
  },
  {
   "cell_type": "code",
   "execution_count": 4,
   "id": "cross-actress",
   "metadata": {},
   "outputs": [],
   "source": [
    "X_train = np.array(train_x.iloc[:,2:]).reshape(7661, 1380, len(train_x.columns)-2, 1) # > (#_sampleid, #_time, #_columns, 1)\n",
    "X_test = np.array(test_x.iloc[:,2:]).reshape(535, 1380, len(test_x.columns)-2, 1) # > (#_sampleid, #_time, #_columns, 1)\n",
    "\n",
    "price = (np.array(train_y['high']) + np.array(train_y['low']))/2 # high와 low의 중간값을 사용!\n",
    "Y_train = price.reshape(7661, 120)\n",
    "Y_train2 = Y_train.argmax(axis=1).astype(np.float32)\n",
    "# Y_train2 = Y_train.argsort(axis=1)[:,-4:].astype(np.float32)"
   ]
  },
  {
   "cell_type": "code",
   "execution_count": 5,
   "id": "nervous-fiction",
   "metadata": {},
   "outputs": [],
   "source": [
    "n=1\n",
    "\n",
    "# X_train_slice_mean = np.zeros(7362*10).reshape(7362,1,10,1)\n",
    "# for i in range(1380//n):\n",
    "#     X_train_slice_mean = np.concatenate([X_train_slice_mean, X_train[:,i*n:(i+1)*n,:,:].mean(axis=1).reshape(7362,1,10,1)], axis=1)\n",
    "# X_train_slice_mean = X_train_slice_mean[:,1:,:,:]\n",
    "\n",
    "# X_test_slice_mean = np.zeros(529*10).reshape(529,1,10,1)\n",
    "# for i in range(1380//n):\n",
    "#     X_test_slice_mean = np.concatenate([X_test_slice_mean, X_test[:,i*n:(i+1)*n,:,:].mean(axis=1).reshape(529,1,10,1)], axis=1)\n",
    "# X_test_slice_mean = X_test_slice_mean[:,1:,:,:]\n",
    "\n",
    "# Y_train_slice_mean = np.zeros(7362).reshape(7362,1)\n",
    "# for i in range(120//n):\n",
    "#     Y_train_slice_mean = np.concatenate([Y_train_slice_mean, Y_train[:,i*n:(i+1)*n].mean(axis=1).reshape(7362,1)], axis=1)\n",
    "# Y_train_slice_mean = Y_train_slice_mean[:,1:]\n",
    "\n",
    "# Y_train2 = Y_train_slice_mean.argsort(axis=1)[:,-4:].astype(np.float32)\n",
    "\n",
    "# print(X_train_slice_mean.shape)\n",
    "# print(X_test_slice_mean.shape)\n",
    "# print(Y_train_slice_mean.shape)\n",
    "# print(Y_train2.shape)\n",
    "\n",
    "# X_train = X_train_slice_mean.copy()\n",
    "# X_test = X_test_slice_mean.copy()"
   ]
  },
  {
   "cell_type": "code",
   "execution_count": 6,
   "id": "narrow-sister",
   "metadata": {},
   "outputs": [],
   "source": [
    "def my_loss(y_true, y_pred):\n",
    "    result = (y_pred-y_true)\n",
    "    return K.mean(K.square(result))"
   ]
  },
  {
   "cell_type": "markdown",
   "id": "signed-alabama",
   "metadata": {},
   "source": [
    "**keras 이용해서 CNN 모델 쌓기**\n",
    "\n",
    "**nf = 16 ( 16개의 필터를 적용하겠다. )**\n",
    "\n",
    "**fs = (3,1) ( (3,1)사이즈의 필터를 사용하겠다. )**"
   ]
  },
  {
   "cell_type": "code",
   "execution_count": 24,
   "id": "raised-balance",
   "metadata": {},
   "outputs": [
    {
     "data": {
      "text/plain": [
       "(1380, 10, 1)"
      ]
     },
     "execution_count": 24,
     "metadata": {},
     "output_type": "execute_result"
    }
   ],
   "source": [
    "X_train.shape[1],X_train.shape[2],X_train.shape[3]\n",
    "# 얘가 input_data"
   ]
  },
  {
   "cell_type": "code",
   "execution_count": 7,
   "id": "representative-worst",
   "metadata": {},
   "outputs": [],
   "source": [
    "def set_model(): \n",
    "    \n",
    "    activation = 'elu'\n",
    "    padding = 'valid'\n",
    "    model = Sequential()\n",
    "    nf = 16\n",
    "    fs = (3,1)\n",
    "    model.add(Conv2D(nf,fs, padding=padding, activation=activation,input_shape=(X_train.shape[1],X_train.shape[2],X_train.shape[3]))) # 1300, 10, 1\n",
    "    model.add(BatchNormalization())\n",
    "    model.add(MaxPooling2D(pool_size=(2, 1))) # 650, 10, 16\n",
    "\n",
    "    model.add(Conv2D(nf*2,fs, padding=padding, activation=activation))\n",
    "    model.add(BatchNormalization())\n",
    "    model.add(MaxPooling2D(pool_size=(2, 1))) # 325, 10, 32\n",
    "\n",
    "    model.add(Conv2D(nf*4,fs, padding=padding, activation=activation))\n",
    "    model.add(BatchNormalization())\n",
    "    model.add(MaxPooling2D(pool_size=(2, 1))) #  162, 10, 64\n",
    "\n",
    "    model.add(Conv2D(nf*8,fs, padding=padding, activation=activation))\n",
    "    model.add(BatchNormalization())\n",
    "    model.add(MaxPooling2D(pool_size=(2, 1))) #  81, 10 ,128\n",
    "\n",
    "    model.add(Conv2D(nf*16,fs, padding=padding, activation=activation))\n",
    "    model.add(BatchNormalization())\n",
    "    model.add(MaxPooling2D(pool_size=(2, 1))) #  40, 10 ,256\n",
    "\n",
    "    model.add(Conv2D(nf*32,fs, padding=padding, activation=activation))\n",
    "    model.add(BatchNormalization())\n",
    "    model.add(MaxPooling2D(pool_size=(2, 1))) #  20, 10 ,512\n",
    "\n",
    "\n",
    "    \n",
    "    model.add(Flatten()) \n",
    "    model.add(Dense(512, activation ='elu')) \n",
    "    model.add(Dense(128, activation ='elu')) \n",
    "    model.add(Dense(32, activation ='elu')) \n",
    "    model.add(Dense(8, activation ='elu')) \n",
    "    model.add(Dense(4, activation ='elu')) \n",
    "    model.add(Dense(1))# output size \n",
    "\n",
    "    optimizer = keras.optimizers.Adam(learning_rate=1e-06)\n",
    "\n",
    "    model.compile(loss=my_loss,\n",
    "              optimizer=optimizer,)\n",
    "\n",
    "    return model"
   ]
  },
  {
   "cell_type": "code",
   "execution_count": 9,
   "id": "express-armstrong",
   "metadata": {},
   "outputs": [],
   "source": [
    "def train(model, X, Y, is_val=False):\n",
    "    MODEL_SAVE_FOLDER_PATH = './model/'\n",
    "    if not os.path.exists(MODEL_SAVE_FOLDER_PATH):\n",
    "        os.mkdir(MODEL_SAVE_FOLDER_PATH)\n",
    "\n",
    "    model_path = MODEL_SAVE_FOLDER_PATH + '{epoch:02d}-{val_loss:.4f}.hdf5'\n",
    "    best_save = ModelCheckpoint('best_m.hdf5', save_best_only=True, monitor='val_loss', mode='min')\n",
    "\n",
    "    if is_val == False:\n",
    "        history = model.fit(X, Y,\n",
    "                      epochs=150,\n",
    "                      batch_size=512,\n",
    "                      shuffle=True,\n",
    "                      validation_split=0.2,\n",
    "                      verbose = 1,\n",
    "                      callbacks=[best_save])\n",
    "\n",
    "        fig, loss_ax = plt.subplots()\n",
    "        acc_ax = loss_ax.twinx()\n",
    "\n",
    "        loss_ax.plot(history.history['loss'], 'y', label='train loss')\n",
    "        loss_ax.plot(history.history['val_loss'], 'r', label='val loss')\n",
    "        loss_ax.set_xlabel('epoch')\n",
    "        loss_ax.set_ylabel('loss')\n",
    "        loss_ax.legend(loc='upper left')\n",
    "        plt.show()    \n",
    "        \n",
    "#     else:\n",
    "#         history = model.fit(X, Y,\n",
    "#                       epochs=30,\n",
    "#                       batch_size=256,\n",
    "#                       shuffle=True,\n",
    "#                       validation_split=0.2,\n",
    "#                       verbose = 1,\n",
    "#                       callbacks=[best_save])\n",
    "    \n",
    "    return model"
   ]
  },
  {
   "cell_type": "code",
   "execution_count": 10,
   "id": "medieval-trademark",
   "metadata": {},
   "outputs": [],
   "source": [
    "def load_best_model():\n",
    "    model = load_model('best_m.hdf5' ,custom_objects={'my_loss': my_loss, })\n",
    "    score = model.evaluate(X_train, Y_train2, verbose=0) \n",
    "    print('loss:', score)\n",
    "    return model"
   ]
  },
  {
   "cell_type": "code",
   "execution_count": 12,
   "id": "meaning-distance",
   "metadata": {},
   "outputs": [
    {
     "name": "stdout",
     "output_type": "stream",
     "text": [
      "Epoch 1/150\n",
      "12/12 [==============================] - 344s 29s/step - loss: 4658.4852 - val_loss: 4580.2700\n",
      "Epoch 2/150\n",
      "12/12 [==============================] - 344s 29s/step - loss: 4467.4493 - val_loss: 4556.0151\n",
      "Epoch 3/150\n",
      "12/12 [==============================] - 347s 29s/step - loss: 4480.5546 - val_loss: 4541.2129\n",
      "Epoch 4/150\n",
      "12/12 [==============================] - 341s 28s/step - loss: 4396.5656 - val_loss: 4525.6792\n",
      "Epoch 5/150\n",
      "12/12 [==============================] - 346s 29s/step - loss: 4430.8254 - val_loss: 4508.4595\n",
      "Epoch 6/150\n",
      "12/12 [==============================] - 351s 29s/step - loss: 4446.9041 - val_loss: 4489.3330\n",
      "Epoch 7/150\n",
      "12/12 [==============================] - 349s 29s/step - loss: 4473.7438 - val_loss: 4469.0249\n",
      "Epoch 8/150\n",
      "12/12 [==============================] - 347s 29s/step - loss: 4509.8434 - val_loss: 4448.4297\n",
      "Epoch 9/150\n",
      "12/12 [==============================] - 358s 30s/step - loss: 4380.3034 - val_loss: 4428.6235\n",
      "Epoch 10/150\n",
      "12/12 [==============================] - 359s 30s/step - loss: 4426.0306 - val_loss: 4410.4741\n",
      "Epoch 11/150\n",
      "12/12 [==============================] - 359s 30s/step - loss: 4460.6036 - val_loss: 4394.6919\n",
      "Epoch 12/150\n",
      "12/12 [==============================] - 350s 29s/step - loss: 4386.2714 - val_loss: 4381.3115\n",
      "Epoch 13/150\n",
      "12/12 [==============================] - 353s 29s/step - loss: 4498.0499 - val_loss: 4370.1860\n",
      "Epoch 14/150\n",
      "12/12 [==============================] - 351s 30s/step - loss: 4407.8596 - val_loss: 4361.1826\n",
      "Epoch 15/150\n",
      "12/12 [==============================] - 360s 30s/step - loss: 4323.6464 - val_loss: 4354.0327\n",
      "Epoch 16/150\n",
      "12/12 [==============================] - 356s 30s/step - loss: 4336.1938 - val_loss: 4348.4170\n",
      "Epoch 17/150\n",
      "12/12 [==============================] - 359s 30s/step - loss: 4486.6423 - val_loss: 4344.0044\n",
      "Epoch 18/150\n",
      "12/12 [==============================] - 343s 29s/step - loss: 4415.1747 - val_loss: 4340.5557\n",
      "Epoch 19/150\n",
      "12/12 [==============================] - 352s 30s/step - loss: 4397.1238 - val_loss: 4337.8809\n",
      "Epoch 20/150\n",
      "12/12 [==============================] - 349s 29s/step - loss: 4443.4788 - val_loss: 4335.7778\n",
      "Epoch 21/150\n",
      "12/12 [==============================] - 354s 30s/step - loss: 4344.4572 - val_loss: 4334.1328\n",
      "Epoch 22/150\n",
      "12/12 [==============================] - 370s 31s/step - loss: 4372.9216 - val_loss: 4332.8193\n",
      "Epoch 23/150\n",
      "12/12 [==============================] - 359s 30s/step - loss: 4367.2124 - val_loss: 4331.7651\n",
      "Epoch 24/150\n",
      "12/12 [==============================] - 361s 30s/step - loss: 4401.7870 - val_loss: 4330.9146\n",
      "Epoch 25/150\n",
      "12/12 [==============================] - 362s 30s/step - loss: 4506.2416 - val_loss: 4330.2217\n",
      "Epoch 26/150\n",
      "12/12 [==============================] - 354s 30s/step - loss: 4461.4466 - val_loss: 4329.6440\n",
      "Epoch 27/150\n",
      "12/12 [==============================] - 352s 29s/step - loss: 4412.3374 - val_loss: 4329.1655\n",
      "Epoch 28/150\n",
      "12/12 [==============================] - 350s 29s/step - loss: 4402.1850 - val_loss: 4328.7529\n",
      "Epoch 29/150\n",
      "12/12 [==============================] - 359s 30s/step - loss: 4504.3936 - val_loss: 4328.3975\n",
      "Epoch 30/150\n",
      "12/12 [==============================] - 358s 29s/step - loss: 4394.7143 - val_loss: 4328.0991\n",
      "Epoch 31/150\n",
      "12/12 [==============================] - 370s 31s/step - loss: 4338.3508 - val_loss: 4327.8423\n",
      "Epoch 32/150\n",
      "12/12 [==============================] - 351s 29s/step - loss: 4444.0423 - val_loss: 4327.6235\n",
      "Epoch 33/150\n",
      "12/12 [==============================] - 354s 30s/step - loss: 4461.7006 - val_loss: 4327.4365\n",
      "Epoch 34/150\n",
      "12/12 [==============================] - 353s 29s/step - loss: 4379.9365 - val_loss: 4327.2734\n",
      "Epoch 35/150\n",
      "12/12 [==============================] - 357s 30s/step - loss: 4456.0905 - val_loss: 4327.1260\n",
      "Epoch 36/150\n",
      "12/12 [==============================] - 357s 30s/step - loss: 4425.6715 - val_loss: 4326.9980\n",
      "Epoch 37/150\n",
      "12/12 [==============================] - 358s 30s/step - loss: 4404.2937 - val_loss: 4326.8838\n",
      "Epoch 38/150\n",
      "12/12 [==============================] - 366s 30s/step - loss: 4434.8138 - val_loss: 4326.7808\n",
      "Epoch 39/150\n",
      "12/12 [==============================] - 351s 29s/step - loss: 4398.5584 - val_loss: 4326.6899\n",
      "Epoch 40/150\n",
      "12/12 [==============================] - 360s 30s/step - loss: 4411.7537 - val_loss: 4326.6055\n",
      "Epoch 41/150\n",
      "12/12 [==============================] - 353s 30s/step - loss: 4414.5157 - val_loss: 4326.5293\n",
      "Epoch 42/150\n",
      "12/12 [==============================] - 354s 30s/step - loss: 4400.5048 - val_loss: 4326.4595\n",
      "Epoch 43/150\n",
      "12/12 [==============================] - 363s 30s/step - loss: 4488.7673 - val_loss: 4326.3950\n",
      "Epoch 44/150\n",
      "12/12 [==============================] - 352s 30s/step - loss: 4362.6369 - val_loss: 4326.3364\n",
      "Epoch 45/150\n",
      "12/12 [==============================] - 360s 30s/step - loss: 4489.8914 - val_loss: 4326.2817\n",
      "Epoch 46/150\n",
      "12/12 [==============================] - 352s 29s/step - loss: 4381.8754 - val_loss: 4326.2319\n",
      "Epoch 47/150\n",
      "12/12 [==============================] - 366s 31s/step - loss: 4407.5295 - val_loss: 4326.1860\n",
      "Epoch 48/150\n",
      "12/12 [==============================] - 366s 31s/step - loss: 4446.7813 - val_loss: 4326.1431\n",
      "Epoch 49/150\n",
      "12/12 [==============================] - 360s 30s/step - loss: 4447.9390 - val_loss: 4326.1021\n",
      "Epoch 50/150\n",
      "12/12 [==============================] - 357s 30s/step - loss: 4440.9189 - val_loss: 4326.0645\n",
      "Epoch 51/150\n",
      "12/12 [==============================] - 358s 30s/step - loss: 4384.2365 - val_loss: 4326.0278\n",
      "Epoch 52/150\n",
      "12/12 [==============================] - 356s 30s/step - loss: 4424.7637 - val_loss: 4325.9941\n",
      "Epoch 53/150\n",
      "12/12 [==============================] - 364s 30s/step - loss: 4452.5806 - val_loss: 4325.9604\n",
      "Epoch 54/150\n",
      "12/12 [==============================] - 356s 30s/step - loss: 4427.3140 - val_loss: 4325.9282\n",
      "Epoch 55/150\n",
      "12/12 [==============================] - 356s 30s/step - loss: 4483.1604 - val_loss: 4325.8975\n",
      "Epoch 56/150\n",
      "12/12 [==============================] - 356s 30s/step - loss: 4386.3798 - val_loss: 4325.8701\n",
      "Epoch 57/150\n",
      "12/12 [==============================] - 356s 29s/step - loss: 4455.3906 - val_loss: 4325.8433\n",
      "Epoch 58/150\n",
      "12/12 [==============================] - 361s 30s/step - loss: 4442.8614 - val_loss: 4325.8174\n",
      "Epoch 59/150\n",
      "12/12 [==============================] - 362s 30s/step - loss: 4430.8757 - val_loss: 4325.7925\n",
      "Epoch 60/150\n",
      "12/12 [==============================] - 354s 30s/step - loss: 4398.8743 - val_loss: 4325.7686\n",
      "Epoch 61/150\n",
      "12/12 [==============================] - 358s 30s/step - loss: 4464.2255 - val_loss: 4325.7451\n",
      "Epoch 62/150\n",
      "12/12 [==============================] - 357s 30s/step - loss: 4477.7627 - val_loss: 4325.7222\n",
      "Epoch 63/150\n",
      "12/12 [==============================] - 358s 30s/step - loss: 4395.5434 - val_loss: 4325.7012\n",
      "Epoch 64/150\n",
      "12/12 [==============================] - 354s 29s/step - loss: 4408.5747 - val_loss: 4325.6797\n",
      "Epoch 65/150\n",
      "12/12 [==============================] - 362s 30s/step - loss: 4408.2929 - val_loss: 4325.6597\n",
      "Epoch 66/150\n",
      "12/12 [==============================] - 356s 30s/step - loss: 4399.1164 - val_loss: 4325.6401\n",
      "Epoch 67/150\n",
      "12/12 [==============================] - 352s 30s/step - loss: 4372.8700 - val_loss: 4325.6191\n",
      "Epoch 68/150\n",
      "12/12 [==============================] - 356s 30s/step - loss: 4483.5571 - val_loss: 4325.6006\n",
      "Epoch 69/150\n",
      "12/12 [==============================] - 354s 30s/step - loss: 4418.0595 - val_loss: 4325.5830\n",
      "Epoch 70/150\n",
      "12/12 [==============================] - 355s 29s/step - loss: 4354.5425 - val_loss: 4325.5654\n",
      "Epoch 71/150\n",
      "12/12 [==============================] - 353s 29s/step - loss: 4454.4857 - val_loss: 4325.5479\n",
      "Epoch 72/150\n",
      "12/12 [==============================] - 356s 30s/step - loss: 4355.2342 - val_loss: 4325.5298\n",
      "Epoch 73/150\n",
      "12/12 [==============================] - 360s 30s/step - loss: 4515.2847 - val_loss: 4325.5127\n",
      "Epoch 74/150\n",
      "12/12 [==============================] - 359s 30s/step - loss: 4519.5100 - val_loss: 4325.4966\n",
      "Epoch 75/150\n",
      "12/12 [==============================] - 353s 29s/step - loss: 4466.8339 - val_loss: 4325.4800\n",
      "Epoch 76/150\n",
      "12/12 [==============================] - 349s 29s/step - loss: 4501.4642 - val_loss: 4325.4644\n"
     ]
    },
    {
     "name": "stdout",
     "output_type": "stream",
     "text": [
      "Epoch 77/150\n",
      "12/12 [==============================] - 367s 30s/step - loss: 4504.3576 - val_loss: 4325.4487\n",
      "Epoch 78/150\n",
      "12/12 [==============================] - 368s 31s/step - loss: 4427.9621 - val_loss: 4325.4336\n",
      "Epoch 79/150\n",
      "12/12 [==============================] - 370s 31s/step - loss: 4379.0398 - val_loss: 4325.4170\n",
      "Epoch 80/150\n",
      "12/12 [==============================] - 383s 32s/step - loss: 4516.7475 - val_loss: 4325.4014\n",
      "Epoch 81/150\n",
      "12/12 [==============================] - 374s 31s/step - loss: 4426.4340 - val_loss: 4325.3862\n",
      "Epoch 82/150\n",
      "12/12 [==============================] - 376s 32s/step - loss: 4497.5882 - val_loss: 4325.3726\n",
      "Epoch 83/150\n",
      "12/12 [==============================] - 374s 31s/step - loss: 4481.3597 - val_loss: 4325.3579\n",
      "Epoch 84/150\n",
      "12/12 [==============================] - 372s 31s/step - loss: 4361.9447 - val_loss: 4325.3442\n",
      "Epoch 85/150\n",
      "12/12 [==============================] - 378s 32s/step - loss: 4414.4788 - val_loss: 4325.3306\n",
      "Epoch 86/150\n",
      "12/12 [==============================] - 380s 32s/step - loss: 4456.7339 - val_loss: 4325.3169\n",
      "Epoch 87/150\n",
      "12/12 [==============================] - 377s 32s/step - loss: 4430.7707 - val_loss: 4325.3032\n",
      "Epoch 88/150\n",
      "12/12 [==============================] - 375s 32s/step - loss: 4429.3075 - val_loss: 4325.2896\n",
      "Epoch 89/150\n",
      "12/12 [==============================] - 381s 32s/step - loss: 4454.1920 - val_loss: 4325.2769\n",
      "Epoch 90/150\n",
      "12/12 [==============================] - 364s 30s/step - loss: 4444.8478 - val_loss: 4325.2646\n",
      "Epoch 91/150\n",
      "12/12 [==============================] - 361s 30s/step - loss: 4323.1656 - val_loss: 4325.2510\n",
      "Epoch 92/150\n",
      "12/12 [==============================] - 360s 30s/step - loss: 4450.5509 - val_loss: 4325.2393\n",
      "Epoch 93/150\n",
      "12/12 [==============================] - 365s 31s/step - loss: 4460.8537 - val_loss: 4325.2266\n",
      "Epoch 94/150\n",
      "12/12 [==============================] - 369s 31s/step - loss: 4447.9506 - val_loss: 4325.2139\n",
      "Epoch 95/150\n",
      "12/12 [==============================] - 361s 30s/step - loss: 4435.1987 - val_loss: 4325.2017\n",
      "Epoch 96/150\n",
      "12/12 [==============================] - 366s 30s/step - loss: 4459.6676 - val_loss: 4325.1899\n",
      "Epoch 97/150\n",
      "12/12 [==============================] - 359s 30s/step - loss: 4460.8555 - val_loss: 4325.1782\n",
      "Epoch 98/150\n",
      "12/12 [==============================] - 363s 30s/step - loss: 4486.2714 - val_loss: 4325.1665\n",
      "Epoch 99/150\n",
      "12/12 [==============================] - 364s 30s/step - loss: 4409.9680 - val_loss: 4325.1548\n",
      "Epoch 100/150\n",
      "12/12 [==============================] - 355s 30s/step - loss: 4453.5599 - val_loss: 4325.1445\n",
      "Epoch 101/150\n",
      "12/12 [==============================] - 361s 30s/step - loss: 4362.9593 - val_loss: 4325.1333\n",
      "Epoch 102/150\n",
      "12/12 [==============================] - 360s 30s/step - loss: 4428.8838 - val_loss: 4325.1221\n",
      "Epoch 103/150\n",
      "12/12 [==============================] - 357s 30s/step - loss: 4368.6404 - val_loss: 4325.1104\n",
      "Epoch 104/150\n",
      "12/12 [==============================] - 354s 29s/step - loss: 4516.8584 - val_loss: 4325.0991\n",
      "Epoch 105/150\n",
      "12/12 [==============================] - 353s 30s/step - loss: 4419.1723 - val_loss: 4325.0874\n",
      "Epoch 106/150\n",
      "12/12 [==============================] - 355s 30s/step - loss: 4387.4058 - val_loss: 4325.0771\n",
      "Epoch 107/150\n",
      "12/12 [==============================] - 356s 30s/step - loss: 4454.5546 - val_loss: 4325.0664\n",
      "Epoch 108/150\n",
      "12/12 [==============================] - 356s 30s/step - loss: 4465.0856 - val_loss: 4325.0562\n",
      "Epoch 109/150\n",
      "12/12 [==============================] - 356s 30s/step - loss: 4475.7755 - val_loss: 4325.0449\n",
      "Epoch 110/150\n",
      "12/12 [==============================] - 356s 30s/step - loss: 4420.4743 - val_loss: 4325.0337\n",
      "Epoch 111/150\n",
      "12/12 [==============================] - 362s 30s/step - loss: 4405.6013 - val_loss: 4325.0229\n",
      "Epoch 112/150\n",
      "12/12 [==============================] - 373s 31s/step - loss: 4487.5245 - val_loss: 4325.0127\n",
      "Epoch 113/150\n",
      "12/12 [==============================] - 366s 31s/step - loss: 4442.4888 - val_loss: 4325.0029\n",
      "Epoch 114/150\n",
      "12/12 [==============================] - 356s 30s/step - loss: 4427.4992 - val_loss: 4324.9922\n",
      "Epoch 115/150\n",
      "12/12 [==============================] - 352s 30s/step - loss: 4424.5368 - val_loss: 4324.9819\n",
      "Epoch 116/150\n",
      "12/12 [==============================] - 352s 29s/step - loss: 4507.7456 - val_loss: 4324.9722\n",
      "Epoch 117/150\n",
      "12/12 [==============================] - 355s 30s/step - loss: 4449.1812 - val_loss: 4324.9614\n",
      "Epoch 118/150\n",
      "12/12 [==============================] - 358s 30s/step - loss: 4359.1224 - val_loss: 4324.9517\n",
      "Epoch 119/150\n",
      "12/12 [==============================] - 356s 30s/step - loss: 4437.3467 - val_loss: 4324.9419\n",
      "Epoch 120/150\n",
      "12/12 [==============================] - 351s 30s/step - loss: 4425.7507 - val_loss: 4324.9316\n",
      "Epoch 121/150\n",
      "12/12 [==============================] - 356s 30s/step - loss: 4436.7123 - val_loss: 4324.9219\n",
      "Epoch 122/150\n",
      "12/12 [==============================] - 364s 30s/step - loss: 4469.5287 - val_loss: 4324.9121\n",
      "Epoch 123/150\n",
      "12/12 [==============================] - 366s 30s/step - loss: 4447.2194 - val_loss: 4324.9033\n",
      "Epoch 124/150\n",
      "12/12 [==============================] - 355s 30s/step - loss: 4492.2346 - val_loss: 4324.8950\n",
      "Epoch 125/150\n",
      "12/12 [==============================] - 358s 30s/step - loss: 4459.8866 - val_loss: 4324.8853\n",
      "Epoch 126/150\n",
      "12/12 [==============================] - 349s 29s/step - loss: 4530.8970 - val_loss: 4324.8760\n",
      "Epoch 127/150\n",
      "12/12 [==============================] - 355s 29s/step - loss: 4473.7207 - val_loss: 4324.8662\n",
      "Epoch 128/150\n",
      "12/12 [==============================] - 351s 29s/step - loss: 4493.0148 - val_loss: 4324.8569\n",
      "Epoch 129/150\n",
      "12/12 [==============================] - 362s 30s/step - loss: 4414.6230 - val_loss: 4324.8472\n",
      "Epoch 130/150\n",
      "12/12 [==============================] - 355s 30s/step - loss: 4463.0723 - val_loss: 4324.8379\n",
      "Epoch 131/150\n",
      "12/12 [==============================] - 353s 29s/step - loss: 4434.2982 - val_loss: 4324.8291\n",
      "Epoch 132/150\n",
      "12/12 [==============================] - 367s 31s/step - loss: 4454.4336 - val_loss: 4324.8193\n",
      "Epoch 133/150\n",
      "12/12 [==============================] - 353s 30s/step - loss: 4504.2279 - val_loss: 4324.8101\n",
      "Epoch 134/150\n",
      "12/12 [==============================] - 355s 30s/step - loss: 4493.1085 - val_loss: 4324.8008\n",
      "Epoch 135/150\n",
      "12/12 [==============================] - 353s 30s/step - loss: 4439.1057 - val_loss: 4324.7915\n",
      "Epoch 136/150\n",
      "12/12 [==============================] - 349s 29s/step - loss: 4450.0223 - val_loss: 4324.7822\n",
      "Epoch 137/150\n",
      "12/12 [==============================] - 355s 29s/step - loss: 4385.6787 - val_loss: 4324.7734\n",
      "Epoch 138/150\n",
      "12/12 [==============================] - 356s 30s/step - loss: 4454.2912 - val_loss: 4324.7646\n",
      "Epoch 139/150\n",
      "12/12 [==============================] - 351s 30s/step - loss: 4453.4386 - val_loss: 4324.7554\n",
      "Epoch 140/150\n",
      "12/12 [==============================] - 351s 29s/step - loss: 4497.3449 - val_loss: 4324.7461\n",
      "Epoch 141/150\n",
      "12/12 [==============================] - 354s 29s/step - loss: 4527.6664 - val_loss: 4324.7378\n",
      "Epoch 142/150\n",
      "12/12 [==============================] - 355s 30s/step - loss: 4552.4015 - val_loss: 4324.7295\n",
      "Epoch 143/150\n",
      "12/12 [==============================] - 356s 30s/step - loss: 4467.2559 - val_loss: 4324.7202\n",
      "Epoch 144/150\n",
      "12/12 [==============================] - 355s 30s/step - loss: 4494.0207 - val_loss: 4324.7124\n",
      "Epoch 145/150\n",
      "12/12 [==============================] - 354s 30s/step - loss: 4421.2963 - val_loss: 4324.7036\n",
      "Epoch 146/150\n",
      "12/12 [==============================] - 349s 29s/step - loss: 4501.5729 - val_loss: 4324.6948\n",
      "Epoch 147/150\n",
      "12/12 [==============================] - 352s 29s/step - loss: 4368.8291 - val_loss: 4324.6860\n",
      "Epoch 148/150\n",
      "12/12 [==============================] - 357s 30s/step - loss: 4425.6839 - val_loss: 4324.6777\n",
      "Epoch 149/150\n",
      "12/12 [==============================] - 348s 29s/step - loss: 4370.7001 - val_loss: 4324.6694\n",
      "Epoch 150/150\n",
      "12/12 [==============================] - 355s 30s/step - loss: 4338.7026 - val_loss: 4324.6616\n"
     ]
    },
    {
     "data": {
      "image/png": "[encoded data removed]",
      "text/plain": [
       "<Figure size 432x288 with 2 Axes>"
      ]
     },
     "metadata": {
      "needs_background": "light"
     },
     "output_type": "display_data"
    },
    {
     "name": "stdout",
     "output_type": "stream",
     "text": [
      "Wall time: 14h 57min 35s\n"
     ]
    },
    {
     "data": {
      "text/plain": [
       "<tensorflow.python.keras.engine.sequential.Sequential at 0x1896f772508>"
      ]
     },
     "execution_count": 12,
     "metadata": {},
     "output_type": "execute_result"
    }
   ],
   "source": [
    "%%time\n",
    "\n",
    "np.random.seed(42)\n",
    "model = set_model()\n",
    "train(model, X_train, Y_train2, is_val=False)"
   ]
  },
  {
   "cell_type": "code",
   "execution_count": 15,
   "id": "liberal-forge",
   "metadata": {},
   "outputs": [
    {
     "name": "stdout",
     "output_type": "stream",
     "text": [
      "loss: 4408.9853515625\n"
     ]
    },
    {
     "data": {
      "text/plain": [
       "array([[2.652875 ],\n",
       "       [2.6530643],\n",
       "       [2.6529765],\n",
       "       [2.6509233],\n",
       "       [2.6524615]], dtype=float32)"
      ]
     },
     "execution_count": 15,
     "metadata": {},
     "output_type": "execute_result"
    }
   ],
   "source": [
    "best_model = load_best_model()\n",
    "pred = best_model.predict(X_test)\n",
    "pred[:5]"
   ]
  },
  {
   "cell_type": "code",
   "execution_count": 16,
   "id": "circular-competition",
   "metadata": {},
   "outputs": [
    {
     "data": {
      "text/plain": [
       "<seaborn.axisgrid.FacetGrid at 0x18971b5e448>"
      ]
     },
     "execution_count": 16,
     "metadata": {},
     "output_type": "execute_result"
    },
    {
     "data": {
      "image/png": "[encoded data removed]",
      "text/plain": [
       "<Figure size 360x360 with 1 Axes>"
      ]
     },
     "metadata": {
      "needs_background": "light"
     },
     "output_type": "display_data"
    }
   ],
   "source": [
    "sns.displot(pred[:,0], bins=120)\n",
    "# sns.displot(list(map(round, pred.argmax(axis=1))))"
   ]
  },
  {
   "cell_type": "code",
   "execution_count": 17,
   "id": "charitable-medication",
   "metadata": {},
   "outputs": [
    {
     "data": {
      "text/plain": [
       "<seaborn.axisgrid.FacetGrid at 0x18971740088>"
      ]
     },
     "execution_count": 17,
     "metadata": {},
     "output_type": "execute_result"
    },
    {
     "data": {
      "image/png": "[encoded data removed]",
      "text/plain": [
       "<Figure size 360x360 with 1 Axes>"
      ]
     },
     "metadata": {
      "needs_background": "light"
     },
     "output_type": "display_data"
    }
   ],
   "source": [
    "sns.displot(pred[:,0])"
   ]
  },
  {
   "cell_type": "code",
   "execution_count": 35,
   "id": "metallic-contrary",
   "metadata": {},
   "outputs": [
    {
     "name": "stdout",
     "output_type": "stream",
     "text": [
      "2.652825889587402\n",
      "2.652852272987366\n",
      "[2.65103154 2.65282589 2.65285227 2.65317567]\n"
     ]
    }
   ],
   "source": [
    "cutline1 = np.quantile(pred[:,0], 0.62)\n",
    "cutline2 = np.quantile(pred[:,0], 0.67)\n",
    "print(cutline1)\n",
    "print(cutline2)\n",
    "cutline3 = np.quantile(pred[:,0], [0.1, 0.62, 0.67, 0.99])\n",
    "print(cutline3)"
   ]
  },
  {
   "cell_type": "code",
   "execution_count": 19,
   "id": "military-blair",
   "metadata": {},
   "outputs": [],
   "source": [
    "pred_var = np.var(pred, axis=1)\n",
    "sample_submission['buy_quantity']=1\n",
    "sample_submission['sell_time'] = list(map(lambda x: 0 if x <= cutline1 else (round(x) if x <= cutline2 else 119), pred[:,0]))\n",
    "# sample_submission['buy_quantity'][sample_submission['sell_time']==1] = 0\n",
    "sample_submission.to_csv(\"submission.csv\", index=False)"
   ]
  },
  {
   "cell_type": "code",
   "execution_count": 20,
   "id": "fundamental-terry",
   "metadata": {},
   "outputs": [
    {
     "data": {
      "text/plain": [
       "Counter({119: 177, 0: 332, 3: 26})"
      ]
     },
     "execution_count": 20,
     "metadata": {},
     "output_type": "execute_result"
    }
   ],
   "source": [
    "Counter(sample_submission['sell_time'])"
   ]
  },
  {
   "cell_type": "code",
   "execution_count": 21,
   "id": "exterior-rachel",
   "metadata": {},
   "outputs": [
    {
     "name": "stdout",
     "output_type": "stream",
     "text": [
      "1\n",
      "3\n"
     ]
    }
   ],
   "source": [
    "print(sample_submission['buy_quantity'].nunique())\n",
    "print(sample_submission['sell_time'].nunique())"
   ]
  }
 ],
 "metadata": {
  "kernelspec": {
   "display_name": "Python 3",
   "language": "python",
   "name": "python3"
  },
  "language_info": {
   "codemirror_mode": {
    "name": "ipython",
    "version": 3
   },
   "file_extension": ".py",
   "mimetype": "text/x-python",
   "name": "python",
   "nbconvert_exporter": "python",
   "pygments_lexer": "ipython3",
   "version": "3.7.10"
  }
 },
 "nbformat": 4,
 "nbformat_minor": 5
}
